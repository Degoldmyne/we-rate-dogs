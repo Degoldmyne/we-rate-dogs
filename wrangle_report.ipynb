{
 "cells": [
  {
   "cell_type": "markdown",
   "id": "443664bf",
   "metadata": {},
   "source": [
    "# Data Wrangling Report for the We Rate Dogs Project"
   ]
  },
  {
   "cell_type": "markdown",
   "id": "bbc4c803",
   "metadata": {},
   "source": [
    "# 1.0 Data Gathering\n",
    "<a href=\"wrangle_act.ipynb#data_gathering\">Click to view Data Gathering steps in the project workbook</a>"
   ]
  },
  {
   "cell_type": "markdown",
   "id": "078775b6",
   "metadata": {},
   "source": [
    "### 1.1 Downloading a CSV File\n",
    "In this activity, I downloaded a csv file named twitter-archive-enhanced.csv that was provided in the project workspace. The file contains data about tweet information on different dogs.\n",
    "\n",
    "### 1.2 Downloading File Programatically\n",
    "In this activity, I programatically downloaded a Tab Separated Values (TSV) file from a url provided using the requests library. The dataset contains image predictions.\n",
    "\n",
    "### 1.3 Getting Data from Twitter API\n",
    "In this section, I used the tweepy library to downlaod data from the Twitter API. "
   ]
  },
  {
   "cell_type": "markdown",
   "id": "652a30cf",
   "metadata": {},
   "source": [
    "# 2.0 Assessing the Data\n",
    "<a href=\"wrangle_act.ipynb#assessing_data\">Click to view the steps carried out in assessing the data in the project workbook</a>"
   ]
  },
  {
   "cell_type": "markdown",
   "id": "26f961f3",
   "metadata": {},
   "source": [
    "The activities in this section was focused on getting to know the data. After gathering the datasets as descibed in the section above, I assessed each of the three dataset in turn, looking for issues that may be wrong with them."
   ]
  },
  {
   "cell_type": "markdown",
   "id": "e68f49fb",
   "metadata": {},
   "source": [
    "# 3. 0 Cleaning the Data\n",
    "<a href=\"wrangle_act.ipynb#cleaning_data\">Click to view steps carried out in cleaninng the data in the project workbook</a>"
   ]
  },
  {
   "cell_type": "markdown",
   "id": "24d68868",
   "metadata": {},
   "source": [
    "### 3.1 Making Copies of the Original Datasets\n",
    "Copies of the original datasets were made. I also saved each dataset as a csv file to make later retrieval easy.\n",
    "\n",
    "### 3.2 Cleaning Efforts\n",
    "Each of the issues from the Assessing the Data section was attended to one after another. \n",
    "\n",
    "### 3.3 Merging the Datasets\n",
    "After cleaning the three dataframes, I merged all of them together into a single dataframe named twitter_archive_master."
   ]
  },
  {
   "cell_type": "markdown",
   "id": "d4b806d5",
   "metadata": {},
   "source": [
    "# 4.0 Saving the Dataset\n",
    "\n",
    "<a href=\"wrangle_act.ipynb#storing_data\">Click to view steps carried out in storing the data in the project workbook</a>\n",
    "\n",
    "After all the cleaning and merging, the master dataset was stored as a csv file named twitter_archive_master.csv in the same directory. That concluded the Saving the Dataset section"
   ]
  },
  {
   "cell_type": "markdown",
   "id": "db183b77",
   "metadata": {},
   "source": [
    "# 5.0 Analysis and Visualization\n",
    "\n",
    "<a href=\"wrangle_act.ipynb#analysis_and_visualization\">Click to view steps carried out in analysing and visualizing the data in the project workbook</a>\n",
    "\n",
    "### 5.1 Working with only the Top 7 Dog Breeds\n",
    "The master dataset has over 113 dog breeds listed in it, I selected rows that has the top seven (7) dog breeds. The rows accounted for over 80% of the entire dataset. The motivation behind this step was to make plotting and visualization simpler and clearer.\n",
    "\n",
    "### 5.3 Visualizations\n",
    "The visualizations carried out in this section included:\n",
    "- viewing the distribution of the rating_numerator column using pandas.hist() method\n",
    "- A bar and a Pie chart showing the top 7 dog breeds\n",
    "\n",
    "### 5.4 Analysis\n",
    "The following analysis were carried out:\n",
    "- finding the mean likes for the top 7 dog breeds\n",
    "- finding the mean retweet count for the top 7 dog breeds\n",
    "- explored the relationship between dog stage and the amount of likes and retweets\n",
    "- finally, we analysed the mean rating score for the various dog breeds."
   ]
  },
  {
   "cell_type": "markdown",
   "id": "de03c0e1",
   "metadata": {},
   "source": [
    "# Conclusion\n",
    "\n",
    "The analysis was quite an interesting. At the end of the analysis, we got to discover that the Retriever family of dogs were the favorite in the USA. We checked various websites on the internet to check the validity of this statement and it was correct with at least a probability score above .5\n",
    "\n",
    "### Thank you."
   ]
  }
 ],
 "metadata": {
  "kernelspec": {
   "display_name": "Python 3 (ipykernel)",
   "language": "python",
   "name": "python3"
  },
  "language_info": {
   "codemirror_mode": {
    "name": "ipython",
    "version": 3
   },
   "file_extension": ".py",
   "mimetype": "text/x-python",
   "name": "python",
   "nbconvert_exporter": "python",
   "pygments_lexer": "ipython3",
   "version": "3.9.12"
  }
 },
 "nbformat": 4,
 "nbformat_minor": 5
}
