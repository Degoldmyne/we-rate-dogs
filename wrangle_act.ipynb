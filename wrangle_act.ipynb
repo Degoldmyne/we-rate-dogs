{
 "cells": [
  {
   "cell_type": "markdown",
   "id": "974c7fae",
   "metadata": {},
   "source": [
    "# Data Wrangling Project\n",
    "### A Project to demonstarte various Data Wrangling skills\n",
    "\n",
    "In this notebook I attempt to demonstrate various data warangling skills as learned from the Udacity classromm. This project is also submitted as a requirement to progress in the program\n",
    "\n",
    "## Table of Contents\n",
    "1. [Data Gathering](#data_gathering)\n",
    "2. [Assessing the Data](#assessing_data)\n",
    "3. [Cleaning the Data](#cleaning_data)\n",
    "4. [Storing the Data](#storing_data)\n",
    "5. [Analysis and Visualization](#analysis_and_visualization)"
   ]
  },
  {
   "cell_type": "markdown",
   "id": "f796e4ad",
   "metadata": {},
   "source": [
    "<a id='data_gathering'></a>\n",
    "       \n",
    "# 1.0 Data Gathering\n",
    "\n",
    "In this step, data is gathered from three different sources\n",
    "- From a csv file provided\n",
    "- Programatically through a link provided\n",
    "- From the Twitter API"
   ]
  },
  {
   "cell_type": "code",
   "execution_count": 414,
   "id": "eb11eacd",
   "metadata": {},
   "outputs": [],
   "source": [
    "# Importing the necessary modules for Data Gathering phase\n",
    "import numpy as np\n",
    "import pandas as pd\n",
    "import matplotlib.pyplot as plt\n",
    "import seaborn as sns\n",
    "from pandas import testing as tm\n",
    "import json\n",
    "import requests\n",
    "import tweepy\n",
    "import re\n",
    "%matplotlib inline"
   ]
  },
  {
   "cell_type": "markdown",
   "id": "858706df",
   "metadata": {},
   "source": [
    "### Loading Data From a CSV File\n",
    "\n",
    "In this step, I load the data from the csv file that was provided"
   ]
  },
  {
   "cell_type": "code",
   "execution_count": 415,
   "id": "a385b0fd",
   "metadata": {},
   "outputs": [
    {
     "data": {
      "text/html": [
       "<div>\n",
       "<style scoped>\n",
       "    .dataframe tbody tr th:only-of-type {\n",
       "        vertical-align: middle;\n",
       "    }\n",
       "\n",
       "    .dataframe tbody tr th {\n",
       "        vertical-align: top;\n",
       "    }\n",
       "\n",
       "    .dataframe thead th {\n",
       "        text-align: right;\n",
       "    }\n",
       "</style>\n",
       "<table border=\"1\" class=\"dataframe\">\n",
       "  <thead>\n",
       "    <tr style=\"text-align: right;\">\n",
       "      <th></th>\n",
       "      <th>tweet_id</th>\n",
       "      <th>in_reply_to_status_id</th>\n",
       "      <th>in_reply_to_user_id</th>\n",
       "      <th>timestamp</th>\n",
       "      <th>source</th>\n",
       "      <th>text</th>\n",
       "      <th>retweeted_status_id</th>\n",
       "      <th>retweeted_status_user_id</th>\n",
       "      <th>retweeted_status_timestamp</th>\n",
       "      <th>expanded_urls</th>\n",
       "      <th>rating_numerator</th>\n",
       "      <th>rating_denominator</th>\n",
       "      <th>name</th>\n",
       "      <th>doggo</th>\n",
       "      <th>floofer</th>\n",
       "      <th>pupper</th>\n",
       "      <th>puppo</th>\n",
       "    </tr>\n",
       "  </thead>\n",
       "  <tbody>\n",
       "    <tr>\n",
       "      <th>0</th>\n",
       "      <td>892420643555336193</td>\n",
       "      <td>NaN</td>\n",
       "      <td>NaN</td>\n",
       "      <td>2017-08-01 16:23:56 +0000</td>\n",
       "      <td>&lt;a href=\"http://twitter.com/download/iphone\" r...</td>\n",
       "      <td>This is Phineas. He's a mystical boy. Only eve...</td>\n",
       "      <td>NaN</td>\n",
       "      <td>NaN</td>\n",
       "      <td>NaN</td>\n",
       "      <td>https://twitter.com/dog_rates/status/892420643...</td>\n",
       "      <td>13</td>\n",
       "      <td>10</td>\n",
       "      <td>Phineas</td>\n",
       "      <td>None</td>\n",
       "      <td>None</td>\n",
       "      <td>None</td>\n",
       "      <td>None</td>\n",
       "    </tr>\n",
       "    <tr>\n",
       "      <th>1</th>\n",
       "      <td>892177421306343426</td>\n",
       "      <td>NaN</td>\n",
       "      <td>NaN</td>\n",
       "      <td>2017-08-01 00:17:27 +0000</td>\n",
       "      <td>&lt;a href=\"http://twitter.com/download/iphone\" r...</td>\n",
       "      <td>This is Tilly. She's just checking pup on you....</td>\n",
       "      <td>NaN</td>\n",
       "      <td>NaN</td>\n",
       "      <td>NaN</td>\n",
       "      <td>https://twitter.com/dog_rates/status/892177421...</td>\n",
       "      <td>13</td>\n",
       "      <td>10</td>\n",
       "      <td>Tilly</td>\n",
       "      <td>None</td>\n",
       "      <td>None</td>\n",
       "      <td>None</td>\n",
       "      <td>None</td>\n",
       "    </tr>\n",
       "    <tr>\n",
       "      <th>2</th>\n",
       "      <td>891815181378084864</td>\n",
       "      <td>NaN</td>\n",
       "      <td>NaN</td>\n",
       "      <td>2017-07-31 00:18:03 +0000</td>\n",
       "      <td>&lt;a href=\"http://twitter.com/download/iphone\" r...</td>\n",
       "      <td>This is Archie. He is a rare Norwegian Pouncin...</td>\n",
       "      <td>NaN</td>\n",
       "      <td>NaN</td>\n",
       "      <td>NaN</td>\n",
       "      <td>https://twitter.com/dog_rates/status/891815181...</td>\n",
       "      <td>12</td>\n",
       "      <td>10</td>\n",
       "      <td>Archie</td>\n",
       "      <td>None</td>\n",
       "      <td>None</td>\n",
       "      <td>None</td>\n",
       "      <td>None</td>\n",
       "    </tr>\n",
       "  </tbody>\n",
       "</table>\n",
       "</div>"
      ],
      "text/plain": [
       "             tweet_id  in_reply_to_status_id  in_reply_to_user_id  \\\n",
       "0  892420643555336193                    NaN                  NaN   \n",
       "1  892177421306343426                    NaN                  NaN   \n",
       "2  891815181378084864                    NaN                  NaN   \n",
       "\n",
       "                   timestamp  \\\n",
       "0  2017-08-01 16:23:56 +0000   \n",
       "1  2017-08-01 00:17:27 +0000   \n",
       "2  2017-07-31 00:18:03 +0000   \n",
       "\n",
       "                                              source  \\\n",
       "0  <a href=\"http://twitter.com/download/iphone\" r...   \n",
       "1  <a href=\"http://twitter.com/download/iphone\" r...   \n",
       "2  <a href=\"http://twitter.com/download/iphone\" r...   \n",
       "\n",
       "                                                text  retweeted_status_id  \\\n",
       "0  This is Phineas. He's a mystical boy. Only eve...                  NaN   \n",
       "1  This is Tilly. She's just checking pup on you....                  NaN   \n",
       "2  This is Archie. He is a rare Norwegian Pouncin...                  NaN   \n",
       "\n",
       "   retweeted_status_user_id retweeted_status_timestamp  \\\n",
       "0                       NaN                        NaN   \n",
       "1                       NaN                        NaN   \n",
       "2                       NaN                        NaN   \n",
       "\n",
       "                                       expanded_urls  rating_numerator  \\\n",
       "0  https://twitter.com/dog_rates/status/892420643...                13   \n",
       "1  https://twitter.com/dog_rates/status/892177421...                13   \n",
       "2  https://twitter.com/dog_rates/status/891815181...                12   \n",
       "\n",
       "   rating_denominator     name doggo floofer pupper puppo  \n",
       "0                  10  Phineas  None    None   None  None  \n",
       "1                  10    Tilly  None    None   None  None  \n",
       "2                  10   Archie  None    None   None  None  "
      ]
     },
     "execution_count": 415,
     "metadata": {},
     "output_type": "execute_result"
    }
   ],
   "source": [
    "# Load file from the csv file that was provided\n",
    "twitter_archive_enhanced = pd.read_csv('twitter-archive-enhanced.csv')\n",
    "twitter_archive_enhanced.head(3)"
   ]
  },
  {
   "cell_type": "code",
   "execution_count": 416,
   "id": "d02a5126",
   "metadata": {},
   "outputs": [
    {
     "data": {
      "text/plain": [
       "(2356, 17)"
      ]
     },
     "execution_count": 416,
     "metadata": {},
     "output_type": "execute_result"
    }
   ],
   "source": [
    "twitter_archive_enhanced.shape"
   ]
  },
  {
   "cell_type": "markdown",
   "id": "d09edeb0",
   "metadata": {},
   "source": [
    "### Loading Data Programatically From a url\n",
    "\n",
    "Here, I load the data from the url provided"
   ]
  },
  {
   "cell_type": "code",
   "execution_count": 417,
   "id": "6e0596ba",
   "metadata": {},
   "outputs": [
    {
     "data": {
      "text/html": [
       "<div>\n",
       "<style scoped>\n",
       "    .dataframe tbody tr th:only-of-type {\n",
       "        vertical-align: middle;\n",
       "    }\n",
       "\n",
       "    .dataframe tbody tr th {\n",
       "        vertical-align: top;\n",
       "    }\n",
       "\n",
       "    .dataframe thead th {\n",
       "        text-align: right;\n",
       "    }\n",
       "</style>\n",
       "<table border=\"1\" class=\"dataframe\">\n",
       "  <thead>\n",
       "    <tr style=\"text-align: right;\">\n",
       "      <th></th>\n",
       "      <th>tweet_id</th>\n",
       "      <th>jpg_url</th>\n",
       "      <th>img_num</th>\n",
       "      <th>p1</th>\n",
       "      <th>p1_conf</th>\n",
       "      <th>p1_dog</th>\n",
       "      <th>p2</th>\n",
       "      <th>p2_conf</th>\n",
       "      <th>p2_dog</th>\n",
       "      <th>p3</th>\n",
       "      <th>p3_conf</th>\n",
       "      <th>p3_dog</th>\n",
       "    </tr>\n",
       "  </thead>\n",
       "  <tbody>\n",
       "    <tr>\n",
       "      <th>0</th>\n",
       "      <td>666020888022790149</td>\n",
       "      <td>https://pbs.twimg.com/media/CT4udn0WwAA0aMy.jpg</td>\n",
       "      <td>1</td>\n",
       "      <td>Welsh_springer_spaniel</td>\n",
       "      <td>0.465074</td>\n",
       "      <td>True</td>\n",
       "      <td>collie</td>\n",
       "      <td>0.156665</td>\n",
       "      <td>True</td>\n",
       "      <td>Shetland_sheepdog</td>\n",
       "      <td>0.061428</td>\n",
       "      <td>True</td>\n",
       "    </tr>\n",
       "    <tr>\n",
       "      <th>1</th>\n",
       "      <td>666029285002620928</td>\n",
       "      <td>https://pbs.twimg.com/media/CT42GRgUYAA5iDo.jpg</td>\n",
       "      <td>1</td>\n",
       "      <td>redbone</td>\n",
       "      <td>0.506826</td>\n",
       "      <td>True</td>\n",
       "      <td>miniature_pinscher</td>\n",
       "      <td>0.074192</td>\n",
       "      <td>True</td>\n",
       "      <td>Rhodesian_ridgeback</td>\n",
       "      <td>0.072010</td>\n",
       "      <td>True</td>\n",
       "    </tr>\n",
       "    <tr>\n",
       "      <th>2</th>\n",
       "      <td>666033412701032449</td>\n",
       "      <td>https://pbs.twimg.com/media/CT4521TWwAEvMyu.jpg</td>\n",
       "      <td>1</td>\n",
       "      <td>German_shepherd</td>\n",
       "      <td>0.596461</td>\n",
       "      <td>True</td>\n",
       "      <td>malinois</td>\n",
       "      <td>0.138584</td>\n",
       "      <td>True</td>\n",
       "      <td>bloodhound</td>\n",
       "      <td>0.116197</td>\n",
       "      <td>True</td>\n",
       "    </tr>\n",
       "    <tr>\n",
       "      <th>3</th>\n",
       "      <td>666044226329800704</td>\n",
       "      <td>https://pbs.twimg.com/media/CT5Dr8HUEAA-lEu.jpg</td>\n",
       "      <td>1</td>\n",
       "      <td>Rhodesian_ridgeback</td>\n",
       "      <td>0.408143</td>\n",
       "      <td>True</td>\n",
       "      <td>redbone</td>\n",
       "      <td>0.360687</td>\n",
       "      <td>True</td>\n",
       "      <td>miniature_pinscher</td>\n",
       "      <td>0.222752</td>\n",
       "      <td>True</td>\n",
       "    </tr>\n",
       "    <tr>\n",
       "      <th>4</th>\n",
       "      <td>666049248165822465</td>\n",
       "      <td>https://pbs.twimg.com/media/CT5IQmsXIAAKY4A.jpg</td>\n",
       "      <td>1</td>\n",
       "      <td>miniature_pinscher</td>\n",
       "      <td>0.560311</td>\n",
       "      <td>True</td>\n",
       "      <td>Rottweiler</td>\n",
       "      <td>0.243682</td>\n",
       "      <td>True</td>\n",
       "      <td>Doberman</td>\n",
       "      <td>0.154629</td>\n",
       "      <td>True</td>\n",
       "    </tr>\n",
       "  </tbody>\n",
       "</table>\n",
       "</div>"
      ],
      "text/plain": [
       "             tweet_id                                          jpg_url  \\\n",
       "0  666020888022790149  https://pbs.twimg.com/media/CT4udn0WwAA0aMy.jpg   \n",
       "1  666029285002620928  https://pbs.twimg.com/media/CT42GRgUYAA5iDo.jpg   \n",
       "2  666033412701032449  https://pbs.twimg.com/media/CT4521TWwAEvMyu.jpg   \n",
       "3  666044226329800704  https://pbs.twimg.com/media/CT5Dr8HUEAA-lEu.jpg   \n",
       "4  666049248165822465  https://pbs.twimg.com/media/CT5IQmsXIAAKY4A.jpg   \n",
       "\n",
       "   img_num                      p1   p1_conf  p1_dog                  p2  \\\n",
       "0        1  Welsh_springer_spaniel  0.465074    True              collie   \n",
       "1        1                 redbone  0.506826    True  miniature_pinscher   \n",
       "2        1         German_shepherd  0.596461    True            malinois   \n",
       "3        1     Rhodesian_ridgeback  0.408143    True             redbone   \n",
       "4        1      miniature_pinscher  0.560311    True          Rottweiler   \n",
       "\n",
       "    p2_conf  p2_dog                   p3   p3_conf  p3_dog  \n",
       "0  0.156665    True    Shetland_sheepdog  0.061428    True  \n",
       "1  0.074192    True  Rhodesian_ridgeback  0.072010    True  \n",
       "2  0.138584    True           bloodhound  0.116197    True  \n",
       "3  0.360687    True   miniature_pinscher  0.222752    True  \n",
       "4  0.243682    True             Doberman  0.154629    True  "
      ]
     },
     "execution_count": 417,
     "metadata": {},
     "output_type": "execute_result"
    }
   ],
   "source": [
    "# Use requests object to get the contents of the url and write the contents to a file\n",
    "\n",
    "url = 'https://d17h27t6h515a5.cloudfront.net/topher/2017/August/599fd2ad_image-predictions/image-predictions.tsv'\n",
    "response = requests.get(url)\n",
    "\n",
    "with open('image_predictions.tsv', 'wb') as file:\n",
    "    file.write(response.content)\n",
    "    \n",
    "image_predictions = pd.read_csv('image_predictions.tsv', sep='\\t')\n",
    "image_predictions.head()"
   ]
  },
  {
   "cell_type": "code",
   "execution_count": 418,
   "id": "9e15d69f",
   "metadata": {},
   "outputs": [
    {
     "data": {
      "text/plain": [
       "(2075, 12)"
      ]
     },
     "execution_count": 418,
     "metadata": {},
     "output_type": "execute_result"
    }
   ],
   "source": [
    "image_predictions.shape"
   ]
  },
  {
   "cell_type": "markdown",
   "id": "7e48731d",
   "metadata": {},
   "source": [
    "### Getting Data From Twitter API\n",
    "\n",
    "Here, I will load additional data from Twitter API"
   ]
  },
  {
   "cell_type": "code",
   "execution_count": 419,
   "id": "8e44d79c",
   "metadata": {},
   "outputs": [],
   "source": [
    "# Provide twitter API authentication keys. \n",
    "# Configure an authentication object\n",
    "# Set access tokens\n",
    "\n",
    "consumer_key = '####'\n",
    "consumer_secret = '####'\n",
    "access_token = '####'\n",
    "access_token_secret = '####'\n",
    "\n",
    "auth = tweepy.OAuthHandler(consumer_key, consumer_secret)\n",
    "auth.set_access_token(access_token, access_token_secret)\n",
    "\n",
    "api = tweepy.API(auth, wait_on_rate_limit=True)"
   ]
  },
  {
   "cell_type": "code",
   "execution_count": 420,
   "id": "247ae7ca",
   "metadata": {},
   "outputs": [
    {
     "data": {
      "text/plain": [
       "2356"
      ]
     },
     "execution_count": 420,
     "metadata": {},
     "output_type": "execute_result"
    }
   ],
   "source": [
    "# Get a list of all the tweet IDs in the twitter_archive file\n",
    "# Check length of tweet IDs to confirm success of the operation\n",
    "\n",
    "tweet_id_list = list(twitter_archive_enhanced['tweet_id'])\n",
    "len(tweet_id_list)"
   ]
  },
  {
   "cell_type": "code",
   "execution_count": 421,
   "id": "181752d8",
   "metadata": {},
   "outputs": [],
   "source": [
    "# Write each tweet's required field data to a list of dicts and save the dict in a text file\n",
    "# In cases of errors, write the tweet ID and the error to a list of dictionary objects\n",
    "\n",
    "tweet_list = []\n",
    "error_list = []\n",
    "\n",
    "for tweet_id in tweet_id_list:\n",
    "    try:\n",
    "        tweet = api.get_status(tweet_id, tweet_mode='extended')\n",
    "        tweet_list.append({'tweet_id':tweet_id, 'text':tweet.full_text,\n",
    "                          'favorite_count':tweet.favorite_count, 'retweet_count':tweet.retweet_count})\n",
    "    except tweepy.TweepyException as e:\n",
    "        error_list.append({'tweet_id':tweet_id, 'error':str(e)})"
   ]
  },
  {
   "cell_type": "code",
   "execution_count": 422,
   "id": "a2002bf8",
   "metadata": {},
   "outputs": [],
   "source": [
    "# Confirm if all the items was sucessfully processed or returned error\n",
    "\n",
    "assert(len(tweet_id_list) == len(tweet_list) + len(error_list))"
   ]
  },
  {
   "cell_type": "markdown",
   "id": "089ce54b",
   "metadata": {},
   "source": [
    "### Define some utility functions here:"
   ]
  },
  {
   "cell_type": "code",
   "execution_count": 423,
   "id": "1f6f0cd5",
   "metadata": {},
   "outputs": [],
   "source": [
    "# Define function to save a file as JSON\n",
    "def write_file_to_json(file_name, file):\n",
    "    '''This function save the contents of file to the specified file name'''\n",
    "    with open(file_name, 'w') as f:\n",
    "        f.write(json.dumps(file))\n",
    "    \n",
    "    \n",
    "# Define function to read a JSON file\n",
    "def read_json_file(file_name):\n",
    "    '''This function loads the content of a JSON file in the specified file name'''\n",
    "    with open (file_name) as f:\n",
    "        return json.load(f)\n",
    "\n",
    "# Define function to save a DataFrame to a CSV file\n",
    "def save_dataframe_to_csv(file_name, df):\n",
    "    '''This function save the content of the dataframe df to the specified file name'''\n",
    "    df.to_csv(file_name, index=False)"
   ]
  },
  {
   "cell_type": "code",
   "execution_count": 424,
   "id": "130b93d5",
   "metadata": {},
   "outputs": [],
   "source": [
    "# Dump the contents of the tweet_list and the error_list to a JSON file using utility methods\n",
    "\n",
    "write_file_to_json('tweet_json.txt', tweet_list)\n",
    "write_file_to_json('tweet_error_json.txt', error_list)"
   ]
  },
  {
   "cell_type": "code",
   "execution_count": 425,
   "id": "a451f4e7",
   "metadata": {},
   "outputs": [],
   "source": [
    "# Load contents of the tweet_json.txt and tweet_error_json to txt and write their contents into a Pandas Dataframe\n",
    "\n",
    "data = read_json_file('tweet_json.txt')\n",
    "error_data = read_json_file('tweet_error_json.txt')"
   ]
  },
  {
   "cell_type": "code",
   "execution_count": 426,
   "id": "6b960729",
   "metadata": {},
   "outputs": [
    {
     "data": {
      "text/html": [
       "<div>\n",
       "<style scoped>\n",
       "    .dataframe tbody tr th:only-of-type {\n",
       "        vertical-align: middle;\n",
       "    }\n",
       "\n",
       "    .dataframe tbody tr th {\n",
       "        vertical-align: top;\n",
       "    }\n",
       "\n",
       "    .dataframe thead th {\n",
       "        text-align: right;\n",
       "    }\n",
       "</style>\n",
       "<table border=\"1\" class=\"dataframe\">\n",
       "  <thead>\n",
       "    <tr style=\"text-align: right;\">\n",
       "      <th></th>\n",
       "      <th>tweet_id</th>\n",
       "      <th>text</th>\n",
       "      <th>favorite_count</th>\n",
       "      <th>retweet_count</th>\n",
       "    </tr>\n",
       "  </thead>\n",
       "  <tbody>\n",
       "    <tr>\n",
       "      <th>0</th>\n",
       "      <td>892420643555336193</td>\n",
       "      <td>This is Phineas. He's a mystical boy. Only eve...</td>\n",
       "      <td>33638</td>\n",
       "      <td>6961</td>\n",
       "    </tr>\n",
       "    <tr>\n",
       "      <th>1</th>\n",
       "      <td>892177421306343426</td>\n",
       "      <td>This is Tilly. She's just checking pup on you....</td>\n",
       "      <td>29180</td>\n",
       "      <td>5265</td>\n",
       "    </tr>\n",
       "    <tr>\n",
       "      <th>2</th>\n",
       "      <td>891815181378084864</td>\n",
       "      <td>This is Archie. He is a rare Norwegian Pouncin...</td>\n",
       "      <td>21949</td>\n",
       "      <td>3463</td>\n",
       "    </tr>\n",
       "    <tr>\n",
       "      <th>3</th>\n",
       "      <td>891689557279858688</td>\n",
       "      <td>This is Darla. She commenced a snooze mid meal...</td>\n",
       "      <td>36744</td>\n",
       "      <td>7183</td>\n",
       "    </tr>\n",
       "    <tr>\n",
       "      <th>4</th>\n",
       "      <td>891327558926688256</td>\n",
       "      <td>This is Franklin. He would like you to stop ca...</td>\n",
       "      <td>35103</td>\n",
       "      <td>7707</td>\n",
       "    </tr>\n",
       "  </tbody>\n",
       "</table>\n",
       "</div>"
      ],
      "text/plain": [
       "             tweet_id                                               text  \\\n",
       "0  892420643555336193  This is Phineas. He's a mystical boy. Only eve...   \n",
       "1  892177421306343426  This is Tilly. She's just checking pup on you....   \n",
       "2  891815181378084864  This is Archie. He is a rare Norwegian Pouncin...   \n",
       "3  891689557279858688  This is Darla. She commenced a snooze mid meal...   \n",
       "4  891327558926688256  This is Franklin. He would like you to stop ca...   \n",
       "\n",
       "   favorite_count  retweet_count  \n",
       "0           33638           6961  \n",
       "1           29180           5265  \n",
       "2           21949           3463  \n",
       "3           36744           7183  \n",
       "4           35103           7707  "
      ]
     },
     "execution_count": 426,
     "metadata": {},
     "output_type": "execute_result"
    }
   ],
   "source": [
    "# Create a dataframe from the tweet_json.txt file\n",
    "# Read some data from the dataframe\n",
    "       \n",
    "twitter_data = pd.DataFrame(data)\n",
    "twitter_data.head()"
   ]
  },
  {
   "cell_type": "code",
   "execution_count": 427,
   "id": "43ed82ef",
   "metadata": {},
   "outputs": [
    {
     "data": {
      "text/html": [
       "<div>\n",
       "<style scoped>\n",
       "    .dataframe tbody tr th:only-of-type {\n",
       "        vertical-align: middle;\n",
       "    }\n",
       "\n",
       "    .dataframe tbody tr th {\n",
       "        vertical-align: top;\n",
       "    }\n",
       "\n",
       "    .dataframe thead th {\n",
       "        text-align: right;\n",
       "    }\n",
       "</style>\n",
       "<table border=\"1\" class=\"dataframe\">\n",
       "  <thead>\n",
       "    <tr style=\"text-align: right;\">\n",
       "      <th></th>\n",
       "      <th>tweet_id</th>\n",
       "      <th>error</th>\n",
       "    </tr>\n",
       "  </thead>\n",
       "  <tbody>\n",
       "    <tr>\n",
       "      <th>0</th>\n",
       "      <td>888202515573088257</td>\n",
       "      <td>404 Not Found\\n144 - No status found with that...</td>\n",
       "    </tr>\n",
       "    <tr>\n",
       "      <th>1</th>\n",
       "      <td>873697596434513921</td>\n",
       "      <td>404 Not Found\\n144 - No status found with that...</td>\n",
       "    </tr>\n",
       "    <tr>\n",
       "      <th>2</th>\n",
       "      <td>872668790621863937</td>\n",
       "      <td>404 Not Found\\n144 - No status found with that...</td>\n",
       "    </tr>\n",
       "    <tr>\n",
       "      <th>3</th>\n",
       "      <td>872261713294495745</td>\n",
       "      <td>404 Not Found\\n144 - No status found with that...</td>\n",
       "    </tr>\n",
       "    <tr>\n",
       "      <th>4</th>\n",
       "      <td>869988702071779329</td>\n",
       "      <td>404 Not Found\\n144 - No status found with that...</td>\n",
       "    </tr>\n",
       "  </tbody>\n",
       "</table>\n",
       "</div>"
      ],
      "text/plain": [
       "             tweet_id                                              error\n",
       "0  888202515573088257  404 Not Found\\n144 - No status found with that...\n",
       "1  873697596434513921  404 Not Found\\n144 - No status found with that...\n",
       "2  872668790621863937  404 Not Found\\n144 - No status found with that...\n",
       "3  872261713294495745  404 Not Found\\n144 - No status found with that...\n",
       "4  869988702071779329  404 Not Found\\n144 - No status found with that..."
      ]
     },
     "execution_count": 427,
     "metadata": {},
     "output_type": "execute_result"
    }
   ],
   "source": [
    "# Create a dataframe from the tweet_error_json.txt file\n",
    "# Read some data from the dataframe\n",
    "       \n",
    "twitter_error_data = pd.DataFrame(error_data)\n",
    "twitter_error_data.head()"
   ]
  },
  {
   "cell_type": "markdown",
   "id": "fac32460",
   "metadata": {},
   "source": [
    "### Save all the File to CSV Files for Ease of Retrieval"
   ]
  },
  {
   "cell_type": "code",
   "execution_count": 428,
   "id": "0e6d4266",
   "metadata": {},
   "outputs": [],
   "source": [
    "# Call utility method save_dataframe_to_csv to save the twitter_data and twitter_error_data dataframes to a csv files\n",
    "\n",
    "save_dataframe_to_csv('twitter_data.csv', twitter_data)\n",
    "save_dataframe_to_csv('twitter_error_data.csv', twitter_error_data)\n",
    "save_dataframe_to_csv('image_predictions_converted.csv', image_predictions)"
   ]
  },
  {
   "cell_type": "markdown",
   "id": "64d66e85",
   "metadata": {},
   "source": [
    "## Data Gathering Conclusion\n",
    "\n",
    "So far we have successfully gathered all the datasets needed for this project.\n",
    "We have gathered the following  mandatory files:\n",
    "1. twitter-archive-enhanced.csv\n",
    "2. tweet_json.txt\n",
    "3. image_predictions.tsv\n",
    "\n",
    "We also have other additional files listed below:\n",
    "1. error_tweet_json.txt - A .txt file where we save the ID and error of tweets that could not be loaded.\n",
    "2. twitter_error_data.csv - A csv file containing the same data in the .txt file above\n",
    "3. twitter_data.csv - a csv file containinf the same data in the .tweet_json.txt\n",
    "4. image_predictions_converted.csv -  a csv file containing image predictions. This was added simply for convenience\n",
    "\n",
    "These additional files are necessary so that we can read the contents directly and more conveniently using pandas.read_csv"
   ]
  },
  {
   "cell_type": "markdown",
   "id": "5e41fe3c",
   "metadata": {},
   "source": [
    "<a id='assessing_data'></a>\n",
    "\n",
    "# Assessing the Data"
   ]
  },
  {
   "cell_type": "markdown",
   "id": "b3f8677a",
   "metadata": {},
   "source": [
    "### Assessing the twitter_arcvhive_enhanced Dataset"
   ]
  },
  {
   "cell_type": "code",
   "execution_count": 429,
   "id": "25c4896e",
   "metadata": {},
   "outputs": [
    {
     "data": {
      "text/html": [
       "<div>\n",
       "<style scoped>\n",
       "    .dataframe tbody tr th:only-of-type {\n",
       "        vertical-align: middle;\n",
       "    }\n",
       "\n",
       "    .dataframe tbody tr th {\n",
       "        vertical-align: top;\n",
       "    }\n",
       "\n",
       "    .dataframe thead th {\n",
       "        text-align: right;\n",
       "    }\n",
       "</style>\n",
       "<table border=\"1\" class=\"dataframe\">\n",
       "  <thead>\n",
       "    <tr style=\"text-align: right;\">\n",
       "      <th></th>\n",
       "      <th>tweet_id</th>\n",
       "      <th>in_reply_to_status_id</th>\n",
       "      <th>in_reply_to_user_id</th>\n",
       "      <th>timestamp</th>\n",
       "      <th>source</th>\n",
       "      <th>text</th>\n",
       "      <th>retweeted_status_id</th>\n",
       "      <th>retweeted_status_user_id</th>\n",
       "      <th>retweeted_status_timestamp</th>\n",
       "      <th>expanded_urls</th>\n",
       "      <th>rating_numerator</th>\n",
       "      <th>rating_denominator</th>\n",
       "      <th>name</th>\n",
       "      <th>doggo</th>\n",
       "      <th>floofer</th>\n",
       "      <th>pupper</th>\n",
       "      <th>puppo</th>\n",
       "    </tr>\n",
       "  </thead>\n",
       "  <tbody>\n",
       "    <tr>\n",
       "      <th>873</th>\n",
       "      <td>761334018830917632</td>\n",
       "      <td>NaN</td>\n",
       "      <td>NaN</td>\n",
       "      <td>2016-08-04 22:52:29 +0000</td>\n",
       "      <td>&lt;a href=\"http://twitter.com/download/iphone\" r...</td>\n",
       "      <td>This is Bruce. I really want to hear the joke ...</td>\n",
       "      <td>NaN</td>\n",
       "      <td>NaN</td>\n",
       "      <td>NaN</td>\n",
       "      <td>https://twitter.com/dog_rates/status/761334018...</td>\n",
       "      <td>10</td>\n",
       "      <td>10</td>\n",
       "      <td>Bruce</td>\n",
       "      <td>None</td>\n",
       "      <td>None</td>\n",
       "      <td>None</td>\n",
       "      <td>None</td>\n",
       "    </tr>\n",
       "    <tr>\n",
       "      <th>1320</th>\n",
       "      <td>706346369204748288</td>\n",
       "      <td>NaN</td>\n",
       "      <td>NaN</td>\n",
       "      <td>2016-03-06 05:11:12 +0000</td>\n",
       "      <td>&lt;a href=\"http://twitter.com/download/iphone\" r...</td>\n",
       "      <td>This is Koda. She's a Beneboom Cumberwiggle. 1...</td>\n",
       "      <td>NaN</td>\n",
       "      <td>NaN</td>\n",
       "      <td>NaN</td>\n",
       "      <td>https://twitter.com/dog_rates/status/706346369...</td>\n",
       "      <td>12</td>\n",
       "      <td>10</td>\n",
       "      <td>Koda</td>\n",
       "      <td>None</td>\n",
       "      <td>None</td>\n",
       "      <td>None</td>\n",
       "      <td>None</td>\n",
       "    </tr>\n",
       "    <tr>\n",
       "      <th>598</th>\n",
       "      <td>798686750113755136</td>\n",
       "      <td>NaN</td>\n",
       "      <td>NaN</td>\n",
       "      <td>2016-11-16 00:38:54 +0000</td>\n",
       "      <td>&lt;a href=\"http://twitter.com/download/iphone\" r...</td>\n",
       "      <td>RT @dog_rates: Say hello to Jack (pronounced \"...</td>\n",
       "      <td>6.833919e+17</td>\n",
       "      <td>4.196984e+09</td>\n",
       "      <td>2016-01-02 20:58:09 +0000</td>\n",
       "      <td>https://twitter.com/dog_rates/status/683391852...</td>\n",
       "      <td>11</td>\n",
       "      <td>10</td>\n",
       "      <td>Jack</td>\n",
       "      <td>None</td>\n",
       "      <td>None</td>\n",
       "      <td>None</td>\n",
       "      <td>None</td>\n",
       "    </tr>\n",
       "  </tbody>\n",
       "</table>\n",
       "</div>"
      ],
      "text/plain": [
       "                tweet_id  in_reply_to_status_id  in_reply_to_user_id  \\\n",
       "873   761334018830917632                    NaN                  NaN   \n",
       "1320  706346369204748288                    NaN                  NaN   \n",
       "598   798686750113755136                    NaN                  NaN   \n",
       "\n",
       "                      timestamp  \\\n",
       "873   2016-08-04 22:52:29 +0000   \n",
       "1320  2016-03-06 05:11:12 +0000   \n",
       "598   2016-11-16 00:38:54 +0000   \n",
       "\n",
       "                                                 source  \\\n",
       "873   <a href=\"http://twitter.com/download/iphone\" r...   \n",
       "1320  <a href=\"http://twitter.com/download/iphone\" r...   \n",
       "598   <a href=\"http://twitter.com/download/iphone\" r...   \n",
       "\n",
       "                                                   text  retweeted_status_id  \\\n",
       "873   This is Bruce. I really want to hear the joke ...                  NaN   \n",
       "1320  This is Koda. She's a Beneboom Cumberwiggle. 1...                  NaN   \n",
       "598   RT @dog_rates: Say hello to Jack (pronounced \"...         6.833919e+17   \n",
       "\n",
       "      retweeted_status_user_id retweeted_status_timestamp  \\\n",
       "873                        NaN                        NaN   \n",
       "1320                       NaN                        NaN   \n",
       "598               4.196984e+09  2016-01-02 20:58:09 +0000   \n",
       "\n",
       "                                          expanded_urls  rating_numerator  \\\n",
       "873   https://twitter.com/dog_rates/status/761334018...                10   \n",
       "1320  https://twitter.com/dog_rates/status/706346369...                12   \n",
       "598   https://twitter.com/dog_rates/status/683391852...                11   \n",
       "\n",
       "      rating_denominator   name doggo floofer pupper puppo  \n",
       "873                   10  Bruce  None    None   None  None  \n",
       "1320                  10   Koda  None    None   None  None  \n",
       "598                   10   Jack  None    None   None  None  "
      ]
     },
     "execution_count": 429,
     "metadata": {},
     "output_type": "execute_result"
    }
   ],
   "source": [
    "twitter_archive_enhanced.sample(3)"
   ]
  },
  {
   "cell_type": "code",
   "execution_count": 430,
   "id": "526a04f6",
   "metadata": {},
   "outputs": [
    {
     "name": "stdout",
     "output_type": "stream",
     "text": [
      "<class 'pandas.core.frame.DataFrame'>\n",
      "RangeIndex: 2356 entries, 0 to 2355\n",
      "Data columns (total 17 columns):\n",
      " #   Column                      Non-Null Count  Dtype  \n",
      "---  ------                      --------------  -----  \n",
      " 0   tweet_id                    2356 non-null   int64  \n",
      " 1   in_reply_to_status_id       78 non-null     float64\n",
      " 2   in_reply_to_user_id         78 non-null     float64\n",
      " 3   timestamp                   2356 non-null   object \n",
      " 4   source                      2356 non-null   object \n",
      " 5   text                        2356 non-null   object \n",
      " 6   retweeted_status_id         181 non-null    float64\n",
      " 7   retweeted_status_user_id    181 non-null    float64\n",
      " 8   retweeted_status_timestamp  181 non-null    object \n",
      " 9   expanded_urls               2297 non-null   object \n",
      " 10  rating_numerator            2356 non-null   int64  \n",
      " 11  rating_denominator          2356 non-null   int64  \n",
      " 12  name                        2356 non-null   object \n",
      " 13  doggo                       2356 non-null   object \n",
      " 14  floofer                     2356 non-null   object \n",
      " 15  pupper                      2356 non-null   object \n",
      " 16  puppo                       2356 non-null   object \n",
      "dtypes: float64(4), int64(3), object(10)\n",
      "memory usage: 313.0+ KB\n"
     ]
    }
   ],
   "source": [
    "twitter_archive_enhanced.info()"
   ]
  },
  {
   "cell_type": "markdown",
   "id": "17e1ea32",
   "metadata": {},
   "source": [
    "There are lots of rows containing information about retweets, we will drop those rows."
   ]
  },
  {
   "cell_type": "code",
   "execution_count": 431,
   "id": "84c974de",
   "metadata": {},
   "outputs": [
    {
     "data": {
      "text/plain": [
       "0"
      ]
     },
     "execution_count": 431,
     "metadata": {},
     "output_type": "execute_result"
    }
   ],
   "source": [
    "twitter_archive_enhanced.duplicated().sum()"
   ]
  },
  {
   "cell_type": "markdown",
   "id": "869e4e3f",
   "metadata": {},
   "source": [
    "Great, there are no duplicates in this dataset."
   ]
  },
  {
   "cell_type": "code",
   "execution_count": 432,
   "id": "f49dbf8d",
   "metadata": {},
   "outputs": [
    {
     "data": {
      "text/plain": [
       "10     2333\n",
       "11        3\n",
       "50        3\n",
       "20        2\n",
       "80        2\n",
       "70        1\n",
       "7         1\n",
       "15        1\n",
       "150       1\n",
       "170       1\n",
       "0         1\n",
       "90        1\n",
       "40        1\n",
       "130       1\n",
       "110       1\n",
       "16        1\n",
       "120       1\n",
       "2         1\n",
       "Name: rating_denominator, dtype: int64"
      ]
     },
     "execution_count": 432,
     "metadata": {},
     "output_type": "execute_result"
    }
   ],
   "source": [
    "twitter_archive_enhanced.rating_denominator.value_counts()"
   ]
  },
  {
   "cell_type": "code",
   "execution_count": 433,
   "id": "f20ec50f",
   "metadata": {},
   "outputs": [
    {
     "data": {
      "text/plain": [
       "12      558\n",
       "11      464\n",
       "10      461\n",
       "13      351\n",
       "9       158\n",
       "8       102\n",
       "7        55\n",
       "14       54\n",
       "5        37\n",
       "6        32\n",
       "3        19\n",
       "4        17\n",
       "2         9\n",
       "1         9\n",
       "75        2\n",
       "15        2\n",
       "420       2\n",
       "0         2\n",
       "80        1\n",
       "144       1\n",
       "17        1\n",
       "26        1\n",
       "20        1\n",
       "121       1\n",
       "143       1\n",
       "44        1\n",
       "60        1\n",
       "45        1\n",
       "50        1\n",
       "99        1\n",
       "204       1\n",
       "1776      1\n",
       "165       1\n",
       "666       1\n",
       "27        1\n",
       "182       1\n",
       "24        1\n",
       "960       1\n",
       "84        1\n",
       "88        1\n",
       "Name: rating_numerator, dtype: int64"
      ]
     },
     "execution_count": 433,
     "metadata": {},
     "output_type": "execute_result"
    }
   ],
   "source": [
    "twitter_archive_enhanced.rating_numerator.value_counts()"
   ]
  },
  {
   "cell_type": "code",
   "execution_count": 468,
   "id": "45173803",
   "metadata": {},
   "outputs": [
    {
     "data": {
      "text/plain": [
       "array(['None', 'doggo'], dtype=object)"
      ]
     },
     "execution_count": 468,
     "metadata": {},
     "output_type": "execute_result"
    }
   ],
   "source": [
    "twitter_archive_enhanced.doggo.unique()"
   ]
  },
  {
   "cell_type": "code",
   "execution_count": 469,
   "id": "15c4e069",
   "metadata": {},
   "outputs": [
    {
     "data": {
      "text/plain": [
       "array(['None', 'floofer'], dtype=object)"
      ]
     },
     "execution_count": 469,
     "metadata": {},
     "output_type": "execute_result"
    }
   ],
   "source": [
    "twitter_archive_enhanced.floofer.unique()"
   ]
  },
  {
   "cell_type": "code",
   "execution_count": 470,
   "id": "9e45a4dc",
   "metadata": {},
   "outputs": [
    {
     "data": {
      "text/plain": [
       "array(['None', 'pupper'], dtype=object)"
      ]
     },
     "execution_count": 470,
     "metadata": {},
     "output_type": "execute_result"
    }
   ],
   "source": [
    "twitter_archive_enhanced.pupper.unique()"
   ]
  },
  {
   "cell_type": "code",
   "execution_count": 471,
   "id": "d4d9b787",
   "metadata": {},
   "outputs": [
    {
     "data": {
      "text/plain": [
       "array(['None', 'puppo'], dtype=object)"
      ]
     },
     "execution_count": 471,
     "metadata": {},
     "output_type": "execute_result"
    }
   ],
   "source": [
    "twitter_archive_enhanced.puppo.unique()"
   ]
  },
  {
   "cell_type": "code",
   "execution_count": 472,
   "id": "91e84773",
   "metadata": {},
   "outputs": [
    {
     "data": {
      "text/plain": [
       "745"
      ]
     },
     "execution_count": 472,
     "metadata": {},
     "output_type": "execute_result"
    }
   ],
   "source": [
    "# Check the number of values in the name column with None as values\n",
    "len(twitter_archive_enhanced[twitter_archive_enhanced.name == 'None'])"
   ]
  },
  {
   "cell_type": "markdown",
   "id": "c512b099",
   "metadata": {},
   "source": [
    "There are only 745 dogs with their name field present. All other ones were left as None."
   ]
  },
  {
   "cell_type": "code",
   "execution_count": 473,
   "id": "25fe5fb4",
   "metadata": {},
   "outputs": [
    {
     "data": {
      "text/plain": [
       "97"
      ]
     },
     "execution_count": 473,
     "metadata": {},
     "output_type": "execute_result"
    }
   ],
   "source": [
    "# Check the number of values in the doggo column with valid dog name\n",
    "len(twitter_archive_enhanced[twitter_archive_enhanced.doggo != 'None'])"
   ]
  },
  {
   "cell_type": "code",
   "execution_count": 474,
   "id": "2181200d",
   "metadata": {},
   "outputs": [
    {
     "data": {
      "text/plain": [
       "10"
      ]
     },
     "execution_count": 474,
     "metadata": {},
     "output_type": "execute_result"
    }
   ],
   "source": [
    "# Check the number of values in the floofer column with valid values for this column\n",
    "len(twitter_archive_enhanced[twitter_archive_enhanced.floofer != 'None'])"
   ]
  },
  {
   "cell_type": "code",
   "execution_count": 475,
   "id": "bb943d13",
   "metadata": {},
   "outputs": [
    {
     "data": {
      "text/plain": [
       "257"
      ]
     },
     "execution_count": 475,
     "metadata": {},
     "output_type": "execute_result"
    }
   ],
   "source": [
    "# Check the number of values in the pupper column with None as values\n",
    "len(twitter_archive_enhanced[twitter_archive_enhanced.pupper != 'None'])"
   ]
  },
  {
   "cell_type": "code",
   "execution_count": 476,
   "id": "9deb1989",
   "metadata": {},
   "outputs": [
    {
     "data": {
      "text/plain": [
       "30"
      ]
     },
     "execution_count": 476,
     "metadata": {},
     "output_type": "execute_result"
    }
   ],
   "source": [
    "# Check the number of values in the puppo column with None as values\n",
    "len(twitter_archive_enhanced[twitter_archive_enhanced.puppo != 'None'])"
   ]
  },
  {
   "cell_type": "markdown",
   "id": "2afe9363",
   "metadata": {},
   "source": [
    "Columns such as name, doggo, floofer, puppo and pupper appears as not containing nulls when we infoed the twitter_archive_enhanced column, however, they contain many nulls. The nulls were actually represented as None. This is a value returned by a regular expression if it doesn't match a specifed pattern in a string."
   ]
  },
  {
   "cell_type": "markdown",
   "id": "ad41661f",
   "metadata": {},
   "source": [
    "### Assessing the image_predictions Dataset"
   ]
  },
  {
   "cell_type": "code",
   "execution_count": 477,
   "id": "7017368a",
   "metadata": {},
   "outputs": [
    {
     "data": {
      "text/html": [
       "<div>\n",
       "<style scoped>\n",
       "    .dataframe tbody tr th:only-of-type {\n",
       "        vertical-align: middle;\n",
       "    }\n",
       "\n",
       "    .dataframe tbody tr th {\n",
       "        vertical-align: top;\n",
       "    }\n",
       "\n",
       "    .dataframe thead th {\n",
       "        text-align: right;\n",
       "    }\n",
       "</style>\n",
       "<table border=\"1\" class=\"dataframe\">\n",
       "  <thead>\n",
       "    <tr style=\"text-align: right;\">\n",
       "      <th></th>\n",
       "      <th>tweet_id</th>\n",
       "      <th>jpg_url</th>\n",
       "      <th>img_num</th>\n",
       "      <th>p1</th>\n",
       "      <th>p1_conf</th>\n",
       "      <th>p1_dog</th>\n",
       "      <th>p2</th>\n",
       "      <th>p2_conf</th>\n",
       "      <th>p2_dog</th>\n",
       "      <th>p3</th>\n",
       "      <th>p3_conf</th>\n",
       "      <th>p3_dog</th>\n",
       "    </tr>\n",
       "  </thead>\n",
       "  <tbody>\n",
       "    <tr>\n",
       "      <th>0</th>\n",
       "      <td>666020888022790149</td>\n",
       "      <td>https://pbs.twimg.com/media/CT4udn0WwAA0aMy.jpg</td>\n",
       "      <td>1</td>\n",
       "      <td>Welsh_springer_spaniel</td>\n",
       "      <td>0.465074</td>\n",
       "      <td>True</td>\n",
       "      <td>collie</td>\n",
       "      <td>0.156665</td>\n",
       "      <td>True</td>\n",
       "      <td>Shetland_sheepdog</td>\n",
       "      <td>0.061428</td>\n",
       "      <td>True</td>\n",
       "    </tr>\n",
       "    <tr>\n",
       "      <th>1</th>\n",
       "      <td>666029285002620928</td>\n",
       "      <td>https://pbs.twimg.com/media/CT42GRgUYAA5iDo.jpg</td>\n",
       "      <td>1</td>\n",
       "      <td>redbone</td>\n",
       "      <td>0.506826</td>\n",
       "      <td>True</td>\n",
       "      <td>miniature_pinscher</td>\n",
       "      <td>0.074192</td>\n",
       "      <td>True</td>\n",
       "      <td>Rhodesian_ridgeback</td>\n",
       "      <td>0.072010</td>\n",
       "      <td>True</td>\n",
       "    </tr>\n",
       "    <tr>\n",
       "      <th>2</th>\n",
       "      <td>666033412701032449</td>\n",
       "      <td>https://pbs.twimg.com/media/CT4521TWwAEvMyu.jpg</td>\n",
       "      <td>1</td>\n",
       "      <td>German_shepherd</td>\n",
       "      <td>0.596461</td>\n",
       "      <td>True</td>\n",
       "      <td>malinois</td>\n",
       "      <td>0.138584</td>\n",
       "      <td>True</td>\n",
       "      <td>bloodhound</td>\n",
       "      <td>0.116197</td>\n",
       "      <td>True</td>\n",
       "    </tr>\n",
       "    <tr>\n",
       "      <th>3</th>\n",
       "      <td>666044226329800704</td>\n",
       "      <td>https://pbs.twimg.com/media/CT5Dr8HUEAA-lEu.jpg</td>\n",
       "      <td>1</td>\n",
       "      <td>Rhodesian_ridgeback</td>\n",
       "      <td>0.408143</td>\n",
       "      <td>True</td>\n",
       "      <td>redbone</td>\n",
       "      <td>0.360687</td>\n",
       "      <td>True</td>\n",
       "      <td>miniature_pinscher</td>\n",
       "      <td>0.222752</td>\n",
       "      <td>True</td>\n",
       "    </tr>\n",
       "    <tr>\n",
       "      <th>4</th>\n",
       "      <td>666049248165822465</td>\n",
       "      <td>https://pbs.twimg.com/media/CT5IQmsXIAAKY4A.jpg</td>\n",
       "      <td>1</td>\n",
       "      <td>miniature_pinscher</td>\n",
       "      <td>0.560311</td>\n",
       "      <td>True</td>\n",
       "      <td>Rottweiler</td>\n",
       "      <td>0.243682</td>\n",
       "      <td>True</td>\n",
       "      <td>Doberman</td>\n",
       "      <td>0.154629</td>\n",
       "      <td>True</td>\n",
       "    </tr>\n",
       "  </tbody>\n",
       "</table>\n",
       "</div>"
      ],
      "text/plain": [
       "             tweet_id                                          jpg_url  \\\n",
       "0  666020888022790149  https://pbs.twimg.com/media/CT4udn0WwAA0aMy.jpg   \n",
       "1  666029285002620928  https://pbs.twimg.com/media/CT42GRgUYAA5iDo.jpg   \n",
       "2  666033412701032449  https://pbs.twimg.com/media/CT4521TWwAEvMyu.jpg   \n",
       "3  666044226329800704  https://pbs.twimg.com/media/CT5Dr8HUEAA-lEu.jpg   \n",
       "4  666049248165822465  https://pbs.twimg.com/media/CT5IQmsXIAAKY4A.jpg   \n",
       "\n",
       "   img_num                      p1   p1_conf  p1_dog                  p2  \\\n",
       "0        1  Welsh_springer_spaniel  0.465074    True              collie   \n",
       "1        1                 redbone  0.506826    True  miniature_pinscher   \n",
       "2        1         German_shepherd  0.596461    True            malinois   \n",
       "3        1     Rhodesian_ridgeback  0.408143    True             redbone   \n",
       "4        1      miniature_pinscher  0.560311    True          Rottweiler   \n",
       "\n",
       "    p2_conf  p2_dog                   p3   p3_conf  p3_dog  \n",
       "0  0.156665    True    Shetland_sheepdog  0.061428    True  \n",
       "1  0.074192    True  Rhodesian_ridgeback  0.072010    True  \n",
       "2  0.138584    True           bloodhound  0.116197    True  \n",
       "3  0.360687    True   miniature_pinscher  0.222752    True  \n",
       "4  0.243682    True             Doberman  0.154629    True  "
      ]
     },
     "execution_count": 477,
     "metadata": {},
     "output_type": "execute_result"
    }
   ],
   "source": [
    "image_predictions.head()"
   ]
  },
  {
   "cell_type": "code",
   "execution_count": 478,
   "id": "cfa971c1",
   "metadata": {},
   "outputs": [
    {
     "name": "stdout",
     "output_type": "stream",
     "text": [
      "<class 'pandas.core.frame.DataFrame'>\n",
      "RangeIndex: 2075 entries, 0 to 2074\n",
      "Data columns (total 12 columns):\n",
      " #   Column    Non-Null Count  Dtype  \n",
      "---  ------    --------------  -----  \n",
      " 0   tweet_id  2075 non-null   int64  \n",
      " 1   jpg_url   2075 non-null   object \n",
      " 2   img_num   2075 non-null   int64  \n",
      " 3   p1        2075 non-null   object \n",
      " 4   p1_conf   2075 non-null   float64\n",
      " 5   p1_dog    2075 non-null   bool   \n",
      " 6   p2        2075 non-null   object \n",
      " 7   p2_conf   2075 non-null   float64\n",
      " 8   p2_dog    2075 non-null   bool   \n",
      " 9   p3        2075 non-null   object \n",
      " 10  p3_conf   2075 non-null   float64\n",
      " 11  p3_dog    2075 non-null   bool   \n",
      "dtypes: bool(3), float64(3), int64(2), object(4)\n",
      "memory usage: 152.1+ KB\n"
     ]
    }
   ],
   "source": [
    "image_predictions.info()"
   ]
  },
  {
   "cell_type": "code",
   "execution_count": 479,
   "id": "a36267f4",
   "metadata": {},
   "outputs": [
    {
     "data": {
      "text/plain": [
       "True"
      ]
     },
     "execution_count": 479,
     "metadata": {},
     "output_type": "execute_result"
    }
   ],
   "source": [
    "image_predictions.tweet_id.is_unique"
   ]
  },
  {
   "cell_type": "code",
   "execution_count": 480,
   "id": "390332c1",
   "metadata": {},
   "outputs": [
    {
     "data": {
      "text/plain": [
       "1    1780\n",
       "2     198\n",
       "3      66\n",
       "4      31\n",
       "Name: img_num, dtype: int64"
      ]
     },
     "execution_count": 480,
     "metadata": {},
     "output_type": "execute_result"
    }
   ],
   "source": [
    "image_predictions.img_num.value_counts()"
   ]
  },
  {
   "cell_type": "markdown",
   "id": "3a6d0017",
   "metadata": {},
   "source": [
    "Image predictions containing 4 was not given as part of the dataset. We need to drop those rows containing 4"
   ]
  },
  {
   "cell_type": "code",
   "execution_count": 481,
   "id": "c00a09b8",
   "metadata": {},
   "outputs": [
    {
     "name": "stdout",
     "output_type": "stream",
     "text": [
      "Unique images in p1: 378\n",
      "Unique images in p1: 405\n",
      "Unique images in p1: 408\n"
     ]
    }
   ],
   "source": [
    "print(f'Unique images in p1: {image_predictions.p1.nunique()}')\n",
    "print(f'Unique images in p1: {image_predictions.p2.nunique()}')\n",
    "print(f'Unique images in p1: {image_predictions.p3.nunique()}')"
   ]
  },
  {
   "cell_type": "markdown",
   "id": "4f339f9a",
   "metadata": {},
   "source": [
    "Each image column above has lots of wrong predictions."
   ]
  },
  {
   "cell_type": "code",
   "execution_count": 482,
   "id": "9719c28d",
   "metadata": {},
   "outputs": [
    {
     "data": {
      "text/plain": [
       "True     1532\n",
       "False     543\n",
       "Name: p1_dog, dtype: int64"
      ]
     },
     "execution_count": 482,
     "metadata": {},
     "output_type": "execute_result"
    }
   ],
   "source": [
    "# Check to see if we have values other than True and False\n",
    "image_predictions.p1_dog.value_counts()"
   ]
  },
  {
   "cell_type": "code",
   "execution_count": 483,
   "id": "6dd19965",
   "metadata": {},
   "outputs": [
    {
     "data": {
      "text/plain": [
       "True     1553\n",
       "False     522\n",
       "Name: p2_dog, dtype: int64"
      ]
     },
     "execution_count": 483,
     "metadata": {},
     "output_type": "execute_result"
    }
   ],
   "source": [
    "# Check to see if we have values other than True and False\n",
    "image_predictions.p2_dog.value_counts()"
   ]
  },
  {
   "cell_type": "code",
   "execution_count": 484,
   "id": "90bad429",
   "metadata": {},
   "outputs": [
    {
     "data": {
      "text/plain": [
       "True     1499\n",
       "False     576\n",
       "Name: p3_dog, dtype: int64"
      ]
     },
     "execution_count": 484,
     "metadata": {},
     "output_type": "execute_result"
    }
   ],
   "source": [
    "# Check to see if we have values other than True and False\n",
    "image_predictions.p3_dog.value_counts()"
   ]
  },
  {
   "cell_type": "code",
   "execution_count": 485,
   "id": "102c886e",
   "metadata": {},
   "outputs": [
    {
     "name": "stdout",
     "output_type": "stream",
     "text": [
      "0.0443334, 1.0\n",
      "1.0113000000000001e-08, 0.488014\n",
      "1.7401699999999998e-10, 0.273419\n"
     ]
    }
   ],
   "source": [
    "# Check to see if there are no values greater than 1 or less than 0\n",
    "\n",
    "print(f'{image_predictions.p1_conf.min()}, {image_predictions.p1_conf.max()}')\n",
    "print(f'{image_predictions.p2_conf.min()}, {image_predictions.p2_conf.max()}')\n",
    "print(f'{image_predictions.p3_conf.min()}, {image_predictions.p3_conf.max()}')"
   ]
  },
  {
   "cell_type": "markdown",
   "id": "69f480a4",
   "metadata": {},
   "source": [
    "All great, no negative values or values greater than 1."
   ]
  },
  {
   "cell_type": "code",
   "execution_count": 486,
   "id": "78d560ed",
   "metadata": {},
   "outputs": [
    {
     "data": {
      "text/html": [
       "<div>\n",
       "<style scoped>\n",
       "    .dataframe tbody tr th:only-of-type {\n",
       "        vertical-align: middle;\n",
       "    }\n",
       "\n",
       "    .dataframe tbody tr th {\n",
       "        vertical-align: top;\n",
       "    }\n",
       "\n",
       "    .dataframe thead th {\n",
       "        text-align: right;\n",
       "    }\n",
       "</style>\n",
       "<table border=\"1\" class=\"dataframe\">\n",
       "  <thead>\n",
       "    <tr style=\"text-align: right;\">\n",
       "      <th></th>\n",
       "      <th>p1_dog</th>\n",
       "      <th>p2_dog</th>\n",
       "      <th>p3_dog</th>\n",
       "    </tr>\n",
       "  </thead>\n",
       "  <tbody>\n",
       "    <tr>\n",
       "      <th>1011</th>\n",
       "      <td>True</td>\n",
       "      <td>True</td>\n",
       "      <td>True</td>\n",
       "    </tr>\n",
       "    <tr>\n",
       "      <th>186</th>\n",
       "      <td>True</td>\n",
       "      <td>True</td>\n",
       "      <td>True</td>\n",
       "    </tr>\n",
       "    <tr>\n",
       "      <th>19</th>\n",
       "      <td>True</td>\n",
       "      <td>True</td>\n",
       "      <td>True</td>\n",
       "    </tr>\n",
       "    <tr>\n",
       "      <th>1934</th>\n",
       "      <td>True</td>\n",
       "      <td>True</td>\n",
       "      <td>True</td>\n",
       "    </tr>\n",
       "    <tr>\n",
       "      <th>1222</th>\n",
       "      <td>True</td>\n",
       "      <td>True</td>\n",
       "      <td>False</td>\n",
       "    </tr>\n",
       "    <tr>\n",
       "      <th>1431</th>\n",
       "      <td>False</td>\n",
       "      <td>True</td>\n",
       "      <td>True</td>\n",
       "    </tr>\n",
       "    <tr>\n",
       "      <th>445</th>\n",
       "      <td>True</td>\n",
       "      <td>True</td>\n",
       "      <td>True</td>\n",
       "    </tr>\n",
       "    <tr>\n",
       "      <th>1511</th>\n",
       "      <td>True</td>\n",
       "      <td>True</td>\n",
       "      <td>True</td>\n",
       "    </tr>\n",
       "    <tr>\n",
       "      <th>1645</th>\n",
       "      <td>True</td>\n",
       "      <td>True</td>\n",
       "      <td>True</td>\n",
       "    </tr>\n",
       "    <tr>\n",
       "      <th>1725</th>\n",
       "      <td>False</td>\n",
       "      <td>False</td>\n",
       "      <td>False</td>\n",
       "    </tr>\n",
       "  </tbody>\n",
       "</table>\n",
       "</div>"
      ],
      "text/plain": [
       "      p1_dog  p2_dog  p3_dog\n",
       "1011    True    True    True\n",
       "186     True    True    True\n",
       "19      True    True    True\n",
       "1934    True    True    True\n",
       "1222    True    True   False\n",
       "1431   False    True    True\n",
       "445     True    True    True\n",
       "1511    True    True    True\n",
       "1645    True    True    True\n",
       "1725   False   False   False"
      ]
     },
     "execution_count": 486,
     "metadata": {},
     "output_type": "execute_result"
    }
   ],
   "source": [
    "# Get 10 samples of the image predictions corresponding to dog breed or not dog breed\n",
    "image_predictions[['p1_dog', 'p2_dog', 'p3_dog']].sample(10)"
   ]
  },
  {
   "cell_type": "code",
   "execution_count": 487,
   "id": "5562ece2",
   "metadata": {},
   "outputs": [
    {
     "data": {
      "text/plain": [
       "tweet_id                                 671882082306625538\n",
       "jpg_url     https://pbs.twimg.com/media/CVMBL_LWUAAsvrL.jpg\n",
       "img_num                                                   1\n",
       "p1                                                 ski_mask\n",
       "p1_conf                                            0.968325\n",
       "p1_dog                                                False\n",
       "p2                                                     mask\n",
       "p2_conf                                            0.021863\n",
       "p2_dog                                                False\n",
       "p3                                                    abaya\n",
       "p3_conf                                            0.005479\n",
       "p3_dog                                                False\n",
       "Name: 325, dtype: object"
      ]
     },
     "execution_count": 487,
     "metadata": {},
     "output_type": "execute_result"
    }
   ],
   "source": [
    "image_predictions.iloc[325,:]"
   ]
  },
  {
   "cell_type": "code",
   "execution_count": 488,
   "id": "6c8a14e8",
   "metadata": {},
   "outputs": [
    {
     "data": {
      "text/html": [
       "<div>\n",
       "<style scoped>\n",
       "    .dataframe tbody tr th:only-of-type {\n",
       "        vertical-align: middle;\n",
       "    }\n",
       "\n",
       "    .dataframe tbody tr th {\n",
       "        vertical-align: top;\n",
       "    }\n",
       "\n",
       "    .dataframe thead th {\n",
       "        text-align: right;\n",
       "    }\n",
       "</style>\n",
       "<table border=\"1\" class=\"dataframe\">\n",
       "  <thead>\n",
       "    <tr style=\"text-align: right;\">\n",
       "      <th></th>\n",
       "      <th>tweet_id</th>\n",
       "      <th>jpg_url</th>\n",
       "      <th>img_num</th>\n",
       "      <th>p1</th>\n",
       "      <th>p1_conf</th>\n",
       "      <th>p1_dog</th>\n",
       "      <th>p2</th>\n",
       "      <th>p2_conf</th>\n",
       "      <th>p2_dog</th>\n",
       "      <th>p3</th>\n",
       "      <th>p3_conf</th>\n",
       "      <th>p3_dog</th>\n",
       "    </tr>\n",
       "  </thead>\n",
       "  <tbody>\n",
       "    <tr>\n",
       "      <th>1064</th>\n",
       "      <td>715360349751484417</td>\n",
       "      <td>https://pbs.twimg.com/media/Ce14cOvWwAAcFJH.jpg</td>\n",
       "      <td>1</td>\n",
       "      <td>nail</td>\n",
       "      <td>0.855552</td>\n",
       "      <td>False</td>\n",
       "      <td>screw</td>\n",
       "      <td>0.073277</td>\n",
       "      <td>False</td>\n",
       "      <td>padlock</td>\n",
       "      <td>0.02397</td>\n",
       "      <td>False</td>\n",
       "    </tr>\n",
       "  </tbody>\n",
       "</table>\n",
       "</div>"
      ],
      "text/plain": [
       "                tweet_id                                          jpg_url  \\\n",
       "1064  715360349751484417  https://pbs.twimg.com/media/Ce14cOvWwAAcFJH.jpg   \n",
       "\n",
       "      img_num    p1   p1_conf  p1_dog     p2   p2_conf  p2_dog       p3  \\\n",
       "1064        1  nail  0.855552   False  screw  0.073277   False  padlock   \n",
       "\n",
       "      p3_conf  p3_dog  \n",
       "1064  0.02397   False  "
      ]
     },
     "execution_count": 488,
     "metadata": {},
     "output_type": "execute_result"
    }
   ],
   "source": [
    "# check to confirm all non-dog enteries for this row\n",
    "image_predictions[image_predictions.tweet_id == 715360349751484417]"
   ]
  },
  {
   "cell_type": "markdown",
   "id": "758732f5",
   "metadata": {},
   "source": [
    "Quite a number of rows have enteries that does not relate at all with dogs. We have to remove those."
   ]
  },
  {
   "cell_type": "code",
   "execution_count": 489,
   "id": "4e27b2ff",
   "metadata": {},
   "outputs": [
    {
     "data": {
      "text/html": [
       "<div>\n",
       "<style scoped>\n",
       "    .dataframe tbody tr th:only-of-type {\n",
       "        vertical-align: middle;\n",
       "    }\n",
       "\n",
       "    .dataframe tbody tr th {\n",
       "        vertical-align: top;\n",
       "    }\n",
       "\n",
       "    .dataframe thead th {\n",
       "        text-align: right;\n",
       "    }\n",
       "</style>\n",
       "<table border=\"1\" class=\"dataframe\">\n",
       "  <thead>\n",
       "    <tr style=\"text-align: right;\">\n",
       "      <th></th>\n",
       "      <th>tweet_id</th>\n",
       "      <th>jpg_url</th>\n",
       "      <th>img_num</th>\n",
       "      <th>p1</th>\n",
       "      <th>p1_conf</th>\n",
       "      <th>p1_dog</th>\n",
       "      <th>p2</th>\n",
       "      <th>p2_conf</th>\n",
       "      <th>p2_dog</th>\n",
       "      <th>p3</th>\n",
       "      <th>p3_conf</th>\n",
       "      <th>p3_dog</th>\n",
       "    </tr>\n",
       "  </thead>\n",
       "  <tbody>\n",
       "    <tr>\n",
       "      <th>118</th>\n",
       "      <td>668154635664932864</td>\n",
       "      <td>https://pbs.twimg.com/media/CUXDGR2WcAAUQKz.jpg</td>\n",
       "      <td>1</td>\n",
       "      <td>Arctic_fox</td>\n",
       "      <td>0.473584</td>\n",
       "      <td>False</td>\n",
       "      <td>wallaby</td>\n",
       "      <td>0.261411</td>\n",
       "      <td>False</td>\n",
       "      <td>white_wolf</td>\n",
       "      <td>0.080948</td>\n",
       "      <td>False</td>\n",
       "    </tr>\n",
       "    <tr>\n",
       "      <th>485</th>\n",
       "      <td>675489971617296384</td>\n",
       "      <td>https://pbs.twimg.com/media/CV_SimUWoAAvJSY.jpg</td>\n",
       "      <td>1</td>\n",
       "      <td>West_Highland_white_terrier</td>\n",
       "      <td>0.139613</td>\n",
       "      <td>True</td>\n",
       "      <td>seat_belt</td>\n",
       "      <td>0.118647</td>\n",
       "      <td>False</td>\n",
       "      <td>Old_English_sheepdog</td>\n",
       "      <td>0.093952</td>\n",
       "      <td>True</td>\n",
       "    </tr>\n",
       "    <tr>\n",
       "      <th>1310</th>\n",
       "      <td>754120377874386944</td>\n",
       "      <td>https://pbs.twimg.com/media/CncseIzWgAA4ghH.jpg</td>\n",
       "      <td>1</td>\n",
       "      <td>chow</td>\n",
       "      <td>0.168909</td>\n",
       "      <td>True</td>\n",
       "      <td>Norfolk_terrier</td>\n",
       "      <td>0.129114</td>\n",
       "      <td>True</td>\n",
       "      <td>Pomeranian</td>\n",
       "      <td>0.120822</td>\n",
       "      <td>True</td>\n",
       "    </tr>\n",
       "    <tr>\n",
       "      <th>2024</th>\n",
       "      <td>881666595344535552</td>\n",
       "      <td>https://pbs.twimg.com/media/DDxPFwbWAAEbVVR.jpg</td>\n",
       "      <td>1</td>\n",
       "      <td>Saluki</td>\n",
       "      <td>0.529012</td>\n",
       "      <td>True</td>\n",
       "      <td>Afghan_hound</td>\n",
       "      <td>0.250003</td>\n",
       "      <td>True</td>\n",
       "      <td>golden_retriever</td>\n",
       "      <td>0.160739</td>\n",
       "      <td>True</td>\n",
       "    </tr>\n",
       "    <tr>\n",
       "      <th>919</th>\n",
       "      <td>701889187134500865</td>\n",
       "      <td>https://pbs.twimg.com/media/Cb2cfd9WAAEL-zk.jpg</td>\n",
       "      <td>1</td>\n",
       "      <td>French_bulldog</td>\n",
       "      <td>0.902856</td>\n",
       "      <td>True</td>\n",
       "      <td>Staffordshire_bullterrier</td>\n",
       "      <td>0.022634</td>\n",
       "      <td>True</td>\n",
       "      <td>soap_dispenser</td>\n",
       "      <td>0.011973</td>\n",
       "      <td>False</td>\n",
       "    </tr>\n",
       "    <tr>\n",
       "      <th>48</th>\n",
       "      <td>666826780179869698</td>\n",
       "      <td>https://pbs.twimg.com/media/CUELa0NUkAAscGC.jpg</td>\n",
       "      <td>1</td>\n",
       "      <td>Maltese_dog</td>\n",
       "      <td>0.359383</td>\n",
       "      <td>True</td>\n",
       "      <td>teddy</td>\n",
       "      <td>0.148759</td>\n",
       "      <td>False</td>\n",
       "      <td>West_Highland_white_terrier</td>\n",
       "      <td>0.106007</td>\n",
       "      <td>True</td>\n",
       "    </tr>\n",
       "    <tr>\n",
       "      <th>1917</th>\n",
       "      <td>854732716440526848</td>\n",
       "      <td>https://pbs.twimg.com/media/C9ye3b3WAAAlTo0.jpg</td>\n",
       "      <td>1</td>\n",
       "      <td>Pembroke</td>\n",
       "      <td>0.695548</td>\n",
       "      <td>True</td>\n",
       "      <td>Cardigan</td>\n",
       "      <td>0.058902</td>\n",
       "      <td>True</td>\n",
       "      <td>chow</td>\n",
       "      <td>0.028411</td>\n",
       "      <td>True</td>\n",
       "    </tr>\n",
       "    <tr>\n",
       "      <th>1884</th>\n",
       "      <td>847606175596138505</td>\n",
       "      <td>https://pbs.twimg.com/media/C8NNUDBUMAE0XxJ.jpg</td>\n",
       "      <td>1</td>\n",
       "      <td>Cardigan</td>\n",
       "      <td>0.413688</td>\n",
       "      <td>True</td>\n",
       "      <td>Boston_bull</td>\n",
       "      <td>0.381836</td>\n",
       "      <td>True</td>\n",
       "      <td>doormat</td>\n",
       "      <td>0.065868</td>\n",
       "      <td>False</td>\n",
       "    </tr>\n",
       "    <tr>\n",
       "      <th>1851</th>\n",
       "      <td>840370681858686976</td>\n",
       "      <td>https://pbs.twimg.com/media/C6mYrK0UwAANhep.jpg</td>\n",
       "      <td>1</td>\n",
       "      <td>teapot</td>\n",
       "      <td>0.981819</td>\n",
       "      <td>False</td>\n",
       "      <td>cup</td>\n",
       "      <td>0.014026</td>\n",
       "      <td>False</td>\n",
       "      <td>coffeepot</td>\n",
       "      <td>0.002421</td>\n",
       "      <td>False</td>\n",
       "    </tr>\n",
       "    <tr>\n",
       "      <th>684</th>\n",
       "      <td>683852578183077888</td>\n",
       "      <td>https://pbs.twimg.com/media/CX2ISqSWYAAEtCF.jpg</td>\n",
       "      <td>1</td>\n",
       "      <td>toy_poodle</td>\n",
       "      <td>0.551352</td>\n",
       "      <td>True</td>\n",
       "      <td>teddy</td>\n",
       "      <td>0.180678</td>\n",
       "      <td>False</td>\n",
       "      <td>miniature_poodle</td>\n",
       "      <td>0.164095</td>\n",
       "      <td>True</td>\n",
       "    </tr>\n",
       "  </tbody>\n",
       "</table>\n",
       "</div>"
      ],
      "text/plain": [
       "                tweet_id                                          jpg_url  \\\n",
       "118   668154635664932864  https://pbs.twimg.com/media/CUXDGR2WcAAUQKz.jpg   \n",
       "485   675489971617296384  https://pbs.twimg.com/media/CV_SimUWoAAvJSY.jpg   \n",
       "1310  754120377874386944  https://pbs.twimg.com/media/CncseIzWgAA4ghH.jpg   \n",
       "2024  881666595344535552  https://pbs.twimg.com/media/DDxPFwbWAAEbVVR.jpg   \n",
       "919   701889187134500865  https://pbs.twimg.com/media/Cb2cfd9WAAEL-zk.jpg   \n",
       "48    666826780179869698  https://pbs.twimg.com/media/CUELa0NUkAAscGC.jpg   \n",
       "1917  854732716440526848  https://pbs.twimg.com/media/C9ye3b3WAAAlTo0.jpg   \n",
       "1884  847606175596138505  https://pbs.twimg.com/media/C8NNUDBUMAE0XxJ.jpg   \n",
       "1851  840370681858686976  https://pbs.twimg.com/media/C6mYrK0UwAANhep.jpg   \n",
       "684   683852578183077888  https://pbs.twimg.com/media/CX2ISqSWYAAEtCF.jpg   \n",
       "\n",
       "      img_num                           p1   p1_conf  p1_dog  \\\n",
       "118         1                   Arctic_fox  0.473584   False   \n",
       "485         1  West_Highland_white_terrier  0.139613    True   \n",
       "1310        1                         chow  0.168909    True   \n",
       "2024        1                       Saluki  0.529012    True   \n",
       "919         1               French_bulldog  0.902856    True   \n",
       "48          1                  Maltese_dog  0.359383    True   \n",
       "1917        1                     Pembroke  0.695548    True   \n",
       "1884        1                     Cardigan  0.413688    True   \n",
       "1851        1                       teapot  0.981819   False   \n",
       "684         1                   toy_poodle  0.551352    True   \n",
       "\n",
       "                             p2   p2_conf  p2_dog  \\\n",
       "118                     wallaby  0.261411   False   \n",
       "485                   seat_belt  0.118647   False   \n",
       "1310            Norfolk_terrier  0.129114    True   \n",
       "2024               Afghan_hound  0.250003    True   \n",
       "919   Staffordshire_bullterrier  0.022634    True   \n",
       "48                        teddy  0.148759   False   \n",
       "1917                   Cardigan  0.058902    True   \n",
       "1884                Boston_bull  0.381836    True   \n",
       "1851                        cup  0.014026   False   \n",
       "684                       teddy  0.180678   False   \n",
       "\n",
       "                               p3   p3_conf  p3_dog  \n",
       "118                    white_wolf  0.080948   False  \n",
       "485          Old_English_sheepdog  0.093952    True  \n",
       "1310                   Pomeranian  0.120822    True  \n",
       "2024             golden_retriever  0.160739    True  \n",
       "919                soap_dispenser  0.011973   False  \n",
       "48    West_Highland_white_terrier  0.106007    True  \n",
       "1917                         chow  0.028411    True  \n",
       "1884                      doormat  0.065868   False  \n",
       "1851                    coffeepot  0.002421   False  \n",
       "684              miniature_poodle  0.164095    True  "
      ]
     },
     "execution_count": 489,
     "metadata": {},
     "output_type": "execute_result"
    }
   ],
   "source": [
    "# Run few samples of the dataframe to find possible errors. We'll run this cell five times, just to spot possible problems\n",
    "image_predictions.sample(10)"
   ]
  },
  {
   "cell_type": "markdown",
   "id": "5e31280c",
   "metadata": {},
   "source": [
    "Running .sample on the dataframe reveals the following issues:\n",
    "    \n",
    "- Some rows appear to contain the same info e.g. rows with index 1494 and 1636 appears to contain the same info.\n",
    "- Some rows have incorrect prediction scores in the img_num column e.g. row with index 1018 has 2 in the img_num column, however, p1_conf is the highest in that row, p1_dog is True - meaning it's a dog, and p1 (toy_poodle) is actually a dog breed\n",
    "\n",
    "We will need to define a function to map the correct predictions to the correct img_num"
   ]
  },
  {
   "cell_type": "markdown",
   "id": "77cd7a6c",
   "metadata": {},
   "source": [
    "### Let's investigate incorrect predictions first"
   ]
  },
  {
   "cell_type": "code",
   "execution_count": 490,
   "id": "aff7f62d",
   "metadata": {},
   "outputs": [
    {
     "data": {
      "text/plain": [
       "tweet_id                                 710117014656950272\n",
       "jpg_url     https://pbs.twimg.com/media/CdrXp9dWoAAcRfn.jpg\n",
       "img_num                                                   2\n",
       "p1                                               toy_poodle\n",
       "p1_conf                                            0.802092\n",
       "p1_dog                                                 True\n",
       "p2                                         miniature_poodle\n",
       "p2_conf                                            0.111647\n",
       "p2_dog                                                 True\n",
       "p3                                           cocker_spaniel\n",
       "p3_conf                                            0.062866\n",
       "p3_dog                                                 True\n",
       "Name: 1018, dtype: object"
      ]
     },
     "execution_count": 490,
     "metadata": {},
     "output_type": "execute_result"
    }
   ],
   "source": [
    "image_predictions.iloc[1018,:]"
   ]
  },
  {
   "cell_type": "code",
   "execution_count": 491,
   "id": "9149dee6",
   "metadata": {},
   "outputs": [
    {
     "data": {
      "text/html": [
       "<div>\n",
       "<style scoped>\n",
       "    .dataframe tbody tr th:only-of-type {\n",
       "        vertical-align: middle;\n",
       "    }\n",
       "\n",
       "    .dataframe tbody tr th {\n",
       "        vertical-align: top;\n",
       "    }\n",
       "\n",
       "    .dataframe thead th {\n",
       "        text-align: right;\n",
       "    }\n",
       "</style>\n",
       "<table border=\"1\" class=\"dataframe\">\n",
       "  <thead>\n",
       "    <tr style=\"text-align: right;\">\n",
       "      <th></th>\n",
       "      <th>tweet_id</th>\n",
       "      <th>jpg_url</th>\n",
       "      <th>img_num</th>\n",
       "      <th>p1</th>\n",
       "      <th>p1_conf</th>\n",
       "      <th>p1_dog</th>\n",
       "      <th>p2</th>\n",
       "      <th>p2_conf</th>\n",
       "      <th>p2_dog</th>\n",
       "      <th>p3</th>\n",
       "      <th>p3_conf</th>\n",
       "      <th>p3_dog</th>\n",
       "    </tr>\n",
       "  </thead>\n",
       "  <tbody>\n",
       "    <tr>\n",
       "      <th>755</th>\n",
       "      <td>688385280030670848</td>\n",
       "      <td>https://pbs.twimg.com/media/CY2iwGNWUAI5zWi.jpg</td>\n",
       "      <td>2</td>\n",
       "      <td>golden_retriever</td>\n",
       "      <td>0.900437</td>\n",
       "      <td>True</td>\n",
       "      <td>cocker_spaniel</td>\n",
       "      <td>0.022292</td>\n",
       "      <td>True</td>\n",
       "      <td>sombrero</td>\n",
       "      <td>0.014997</td>\n",
       "      <td>False</td>\n",
       "    </tr>\n",
       "  </tbody>\n",
       "</table>\n",
       "</div>"
      ],
      "text/plain": [
       "               tweet_id                                          jpg_url  \\\n",
       "755  688385280030670848  https://pbs.twimg.com/media/CY2iwGNWUAI5zWi.jpg   \n",
       "\n",
       "     img_num                p1   p1_conf  p1_dog              p2   p2_conf  \\\n",
       "755        2  golden_retriever  0.900437    True  cocker_spaniel  0.022292   \n",
       "\n",
       "     p2_dog        p3   p3_conf  p3_dog  \n",
       "755    True  sombrero  0.014997   False  "
      ]
     },
     "execution_count": 491,
     "metadata": {},
     "output_type": "execute_result"
    }
   ],
   "source": [
    "# Check the prediction for this row\n",
    "image_predictions[image_predictions.tweet_id == 688385280030670848]"
   ]
  },
  {
   "cell_type": "markdown",
   "id": "fa769ec7",
   "metadata": {},
   "source": [
    "As we can see, p1 is Golden Retriever and is the first image. p1_conf is above 90% and p1_dog is true. Let us quickly check the twitter_archive_enhanced dataset to get this particular tweet, then check the expanded to get the actual tweet and see if this tweet is actually a Golden Retriever or not."
   ]
  },
  {
   "cell_type": "code",
   "execution_count": 492,
   "id": "99f87856",
   "metadata": {},
   "outputs": [
    {
     "data": {
      "text/html": [
       "<div>\n",
       "<style scoped>\n",
       "    .dataframe tbody tr th:only-of-type {\n",
       "        vertical-align: middle;\n",
       "    }\n",
       "\n",
       "    .dataframe tbody tr th {\n",
       "        vertical-align: top;\n",
       "    }\n",
       "\n",
       "    .dataframe thead th {\n",
       "        text-align: right;\n",
       "    }\n",
       "</style>\n",
       "<table border=\"1\" class=\"dataframe\">\n",
       "  <thead>\n",
       "    <tr style=\"text-align: right;\">\n",
       "      <th></th>\n",
       "      <th>tweet_id</th>\n",
       "      <th>in_reply_to_status_id</th>\n",
       "      <th>in_reply_to_user_id</th>\n",
       "      <th>timestamp</th>\n",
       "      <th>source</th>\n",
       "      <th>text</th>\n",
       "      <th>retweeted_status_id</th>\n",
       "      <th>retweeted_status_user_id</th>\n",
       "      <th>retweeted_status_timestamp</th>\n",
       "      <th>expanded_urls</th>\n",
       "      <th>rating_numerator</th>\n",
       "      <th>rating_denominator</th>\n",
       "      <th>name</th>\n",
       "      <th>doggo</th>\n",
       "      <th>floofer</th>\n",
       "      <th>pupper</th>\n",
       "      <th>puppo</th>\n",
       "    </tr>\n",
       "  </thead>\n",
       "  <tbody>\n",
       "    <tr>\n",
       "      <th>1561</th>\n",
       "      <td>688385280030670848</td>\n",
       "      <td>NaN</td>\n",
       "      <td>NaN</td>\n",
       "      <td>2016-01-16 15:40:14 +0000</td>\n",
       "      <td>&lt;a href=\"http://twitter.com/download/iphone\" r...</td>\n",
       "      <td>This is Louis. He's takes top-notch selfies. 1...</td>\n",
       "      <td>NaN</td>\n",
       "      <td>NaN</td>\n",
       "      <td>NaN</td>\n",
       "      <td>https://twitter.com/dog_rates/status/688385280...</td>\n",
       "      <td>12</td>\n",
       "      <td>10</td>\n",
       "      <td>Louis</td>\n",
       "      <td>None</td>\n",
       "      <td>None</td>\n",
       "      <td>None</td>\n",
       "      <td>None</td>\n",
       "    </tr>\n",
       "  </tbody>\n",
       "</table>\n",
       "</div>"
      ],
      "text/plain": [
       "                tweet_id  in_reply_to_status_id  in_reply_to_user_id  \\\n",
       "1561  688385280030670848                    NaN                  NaN   \n",
       "\n",
       "                      timestamp  \\\n",
       "1561  2016-01-16 15:40:14 +0000   \n",
       "\n",
       "                                                 source  \\\n",
       "1561  <a href=\"http://twitter.com/download/iphone\" r...   \n",
       "\n",
       "                                                   text  retweeted_status_id  \\\n",
       "1561  This is Louis. He's takes top-notch selfies. 1...                  NaN   \n",
       "\n",
       "      retweeted_status_user_id retweeted_status_timestamp  \\\n",
       "1561                       NaN                        NaN   \n",
       "\n",
       "                                          expanded_urls  rating_numerator  \\\n",
       "1561  https://twitter.com/dog_rates/status/688385280...                12   \n",
       "\n",
       "      rating_denominator   name doggo floofer pupper puppo  \n",
       "1561                  10  Louis  None    None   None  None  "
      ]
     },
     "execution_count": 492,
     "metadata": {},
     "output_type": "execute_result"
    }
   ],
   "source": [
    "# Get that particular tweet from the twitter_archive_enhanced dataset\n",
    "twitter_archive_enhanced[twitter_archive_enhanced.tweet_id == 688385280030670848]"
   ]
  },
  {
   "cell_type": "code",
   "execution_count": 493,
   "id": "d4cfdf2a",
   "metadata": {},
   "outputs": [
    {
     "data": {
      "text/plain": [
       "'https://twitter.com/dog_rates/status/688385280030670848/photo/1'"
      ]
     },
     "execution_count": 493,
     "metadata": {},
     "output_type": "execute_result"
    }
   ],
   "source": [
    "# Retrieve the tweet url\n",
    "twitter_archive_enhanced.loc[1561, 'expanded_urls'].split(',')[:-1][0]"
   ]
  },
  {
   "cell_type": "markdown",
   "id": "902f4a5f",
   "metadata": {},
   "source": [
    "<img src='images/louis.png' alt='Golden Retriever incorrectly classified' />"
   ]
  },
  {
   "cell_type": "markdown",
   "id": "75dfad01",
   "metadata": {},
   "source": [
    "As we can see, some predictions are not correct. For example, the entry with tweet_id: 688385280030670848 shown below has 2 in the img_num column indicating that the second image has the highest confidence level and is a cocker_spaniel. This is not correct. It is clear that the first image, having p1_conf value of about 90% has the highest confidence. I retrieved the expanded_url for that particular tweet from the twitter_archive_enhanced dataset. When I searched for that particular tweet, it was indeed a Golden_retriever. [Click this link to see](https://twitter.com/dog_rates/status/688385280030670848/photo/1)\n",
    "\n",
    "I select only columns with the highest confidence and if the image is a dog"
   ]
  },
  {
   "cell_type": "markdown",
   "id": "0c3177b3",
   "metadata": {},
   "source": [
    "### Next, let's investigate some rows that appears to contain duplicate enteries\n",
    "\n",
    "We saw above that some rows appear to contain duplicates such as 1494 and 1636, yet the dataframe could not return true when we ran the duplicated method on the dataframe."
   ]
  },
  {
   "cell_type": "code",
   "execution_count": 494,
   "id": "144524a8",
   "metadata": {},
   "outputs": [
    {
     "data": {
      "text/plain": [
       "0"
      ]
     },
     "execution_count": 494,
     "metadata": {},
     "output_type": "execute_result"
    }
   ],
   "source": [
    "image_predictions.duplicated().sum()"
   ]
  },
  {
   "cell_type": "markdown",
   "id": "1fedcbb3",
   "metadata": {},
   "source": [
    "There seems to be no duplicates in this dataset"
   ]
  },
  {
   "cell_type": "code",
   "execution_count": 495,
   "id": "1052e51a",
   "metadata": {},
   "outputs": [
    {
     "data": {
      "text/plain": [
       "tweet_id                                 783334639985389568\n",
       "jpg_url     https://pbs.twimg.com/media/Ct72q9jWcAAhlnw.jpg\n",
       "img_num                                                   2\n",
       "p1                                                 Cardigan\n",
       "p1_conf                                            0.593858\n",
       "p1_dog                                                 True\n",
       "p2                                        Shetland_sheepdog\n",
       "p2_conf                                            0.130611\n",
       "p2_dog                                                 True\n",
       "p3                                                 Pembroke\n",
       "p3_conf                                            0.100842\n",
       "p3_dog                                                 True\n",
       "Name: 1494, dtype: object"
      ]
     },
     "execution_count": 495,
     "metadata": {},
     "output_type": "execute_result"
    }
   ],
   "source": [
    "image_predictions.iloc[1494,:]"
   ]
  },
  {
   "cell_type": "code",
   "execution_count": 496,
   "id": "a00aef5e",
   "metadata": {},
   "outputs": [
    {
     "data": {
      "text/plain": [
       "tweet_id                                 806242860592926720\n",
       "jpg_url     https://pbs.twimg.com/media/Ct72q9jWcAAhlnw.jpg\n",
       "img_num                                                   2\n",
       "p1                                                 Cardigan\n",
       "p1_conf                                            0.593858\n",
       "p1_dog                                                 True\n",
       "p2                                        Shetland_sheepdog\n",
       "p2_conf                                            0.130611\n",
       "p2_dog                                                 True\n",
       "p3                                                 Pembroke\n",
       "p3_conf                                            0.100842\n",
       "p3_dog                                                 True\n",
       "Name: 1636, dtype: object"
      ]
     },
     "execution_count": 496,
     "metadata": {},
     "output_type": "execute_result"
    }
   ],
   "source": [
    "image_predictions.iloc[1636,:]"
   ]
  },
  {
   "cell_type": "code",
   "execution_count": 497,
   "id": "f5c552a3",
   "metadata": {},
   "outputs": [
    {
     "ename": "AssertionError",
     "evalue": "Series are different\n\nSeries values are different (8.33333 %)\n[index]: [tweet_id, jpg_url, img_num, p1, p1_conf, p1_dog, p2, p2_conf, p2_dog, p3, p3_conf, p3_dog]\n[left]:  [783334639985389568, https://pbs.twimg.com/media/Ct72q9jWcAAhlnw.jpg, 2, Cardigan, 0.593858, True, Shetland_sheepdog, 0.1306109999999999, True, Pembroke, 0.100842, True]\n[right]: [806242860592926720, https://pbs.twimg.com/media/Ct72q9jWcAAhlnw.jpg, 2, Cardigan, 0.593858, True, Shetland_sheepdog, 0.1306109999999999, True, Pembroke, 0.100842, True]",
     "output_type": "error",
     "traceback": [
      "\u001b[1;31m---------------------------------------------------------------------------\u001b[0m",
      "\u001b[1;31mAssertionError\u001b[0m                            Traceback (most recent call last)",
      "\u001b[1;32m~\\AppData\\Local\\Temp\\ipykernel_8464\\4065649198.py\u001b[0m in \u001b[0;36m<module>\u001b[1;34m\u001b[0m\n\u001b[0;32m      3\u001b[0m \u001b[0ma\u001b[0m \u001b[1;33m=\u001b[0m \u001b[0mimage_predictions\u001b[0m\u001b[1;33m.\u001b[0m\u001b[0miloc\u001b[0m\u001b[1;33m[\u001b[0m\u001b[1;36m1494\u001b[0m\u001b[1;33m,\u001b[0m\u001b[1;33m:\u001b[0m\u001b[1;33m]\u001b[0m\u001b[1;33m\u001b[0m\u001b[1;33m\u001b[0m\u001b[0m\n\u001b[0;32m      4\u001b[0m \u001b[0mb\u001b[0m \u001b[1;33m=\u001b[0m \u001b[0mimage_predictions\u001b[0m\u001b[1;33m.\u001b[0m\u001b[0miloc\u001b[0m\u001b[1;33m[\u001b[0m\u001b[1;36m1636\u001b[0m\u001b[1;33m,\u001b[0m\u001b[1;33m:\u001b[0m\u001b[1;33m]\u001b[0m\u001b[1;33m\u001b[0m\u001b[1;33m\u001b[0m\u001b[0m\n\u001b[1;32m----> 5\u001b[1;33m \u001b[0mtm\u001b[0m\u001b[1;33m.\u001b[0m\u001b[0massert_series_equal\u001b[0m\u001b[1;33m(\u001b[0m\u001b[0ma\u001b[0m\u001b[1;33m,\u001b[0m \u001b[0mb\u001b[0m\u001b[1;33m)\u001b[0m\u001b[1;33m\u001b[0m\u001b[1;33m\u001b[0m\u001b[0m\n\u001b[0m",
      "    \u001b[1;31m[... skipping hidden 1 frame]\u001b[0m\n",
      "\u001b[1;32m~\\anaconda3\\lib\\site-packages\\pandas\\_libs\\testing.pyx\u001b[0m in \u001b[0;36mpandas._libs.testing.assert_almost_equal\u001b[1;34m()\u001b[0m\n",
      "\u001b[1;32m~\\anaconda3\\lib\\site-packages\\pandas\\_libs\\testing.pyx\u001b[0m in \u001b[0;36mpandas._libs.testing.assert_almost_equal\u001b[1;34m()\u001b[0m\n",
      "\u001b[1;32m~\\anaconda3\\lib\\site-packages\\pandas\\_testing\\asserters.py\u001b[0m in \u001b[0;36mraise_assert_detail\u001b[1;34m(obj, message, left, right, diff, index_values)\u001b[0m\n\u001b[0;32m    680\u001b[0m         \u001b[0mmsg\u001b[0m \u001b[1;33m+=\u001b[0m \u001b[1;34mf\"\\n[diff]: {diff}\"\u001b[0m\u001b[1;33m\u001b[0m\u001b[1;33m\u001b[0m\u001b[0m\n\u001b[0;32m    681\u001b[0m \u001b[1;33m\u001b[0m\u001b[0m\n\u001b[1;32m--> 682\u001b[1;33m     \u001b[1;32mraise\u001b[0m \u001b[0mAssertionError\u001b[0m\u001b[1;33m(\u001b[0m\u001b[0mmsg\u001b[0m\u001b[1;33m)\u001b[0m\u001b[1;33m\u001b[0m\u001b[1;33m\u001b[0m\u001b[0m\n\u001b[0m\u001b[0;32m    683\u001b[0m \u001b[1;33m\u001b[0m\u001b[0m\n\u001b[0;32m    684\u001b[0m \u001b[1;33m\u001b[0m\u001b[0m\n",
      "\u001b[1;31mAssertionError\u001b[0m: Series are different\n\nSeries values are different (8.33333 %)\n[index]: [tweet_id, jpg_url, img_num, p1, p1_conf, p1_dog, p2, p2_conf, p2_dog, p3, p3_conf, p3_dog]\n[left]:  [783334639985389568, https://pbs.twimg.com/media/Ct72q9jWcAAhlnw.jpg, 2, Cardigan, 0.593858, True, Shetland_sheepdog, 0.1306109999999999, True, Pembroke, 0.100842, True]\n[right]: [806242860592926720, https://pbs.twimg.com/media/Ct72q9jWcAAhlnw.jpg, 2, Cardigan, 0.593858, True, Shetland_sheepdog, 0.1306109999999999, True, Pembroke, 0.100842, True]"
     ]
    }
   ],
   "source": [
    "# Let's check to see if these are actually equal\n",
    "\n",
    "a = image_predictions.iloc[1494,:]\n",
    "b = image_predictions.iloc[1636,:]\n",
    "tm.assert_series_equal(a, b)"
   ]
  },
  {
   "cell_type": "markdown",
   "id": "b376e954",
   "metadata": {},
   "source": [
    "We get an assertion error from above, however, on inspection, we see that with the exception of the tweet_id, every other single information is exactly the same. The same tweet, having the exact same content must have been sent twice.\n",
    "\n",
    "Let us confirm if all other information in the rows are exactly the same with the exception of the tweet_id. This will expose actual duplicates from the dataset so that we can drop them."
   ]
  },
  {
   "cell_type": "code",
   "execution_count": 498,
   "id": "4306f52d",
   "metadata": {},
   "outputs": [
    {
     "data": {
      "text/plain": [
       "66"
      ]
     },
     "execution_count": 498,
     "metadata": {},
     "output_type": "execute_result"
    }
   ],
   "source": [
    "# Get the names of all the columns in image_predictions with the exception of the tweed_id\n",
    "# Check to see if tweets are actually duplicated.\n",
    "req_columns = list(image_predictions.columns[1:])\n",
    "image_predictions[req_columns].duplicated().sum()"
   ]
  },
  {
   "cell_type": "markdown",
   "id": "285df641",
   "metadata": {},
   "source": [
    "There we have it. There are 66 tweets duplicated in this dataset. These are the same tweets sent multiple times, hence, they differed only in the tweet_id since every tweet has it's own unique id. We need to drop those duplicated tweets."
   ]
  },
  {
   "cell_type": "markdown",
   "id": "0fd00d93",
   "metadata": {},
   "source": [
    "### Assessing the twitter_data Dataset (Dataset gathered from Twitter)"
   ]
  },
  {
   "cell_type": "code",
   "execution_count": 499,
   "id": "97c65b15",
   "metadata": {},
   "outputs": [
    {
     "data": {
      "text/html": [
       "<div>\n",
       "<style scoped>\n",
       "    .dataframe tbody tr th:only-of-type {\n",
       "        vertical-align: middle;\n",
       "    }\n",
       "\n",
       "    .dataframe tbody tr th {\n",
       "        vertical-align: top;\n",
       "    }\n",
       "\n",
       "    .dataframe thead th {\n",
       "        text-align: right;\n",
       "    }\n",
       "</style>\n",
       "<table border=\"1\" class=\"dataframe\">\n",
       "  <thead>\n",
       "    <tr style=\"text-align: right;\">\n",
       "      <th></th>\n",
       "      <th>tweet_id</th>\n",
       "      <th>text</th>\n",
       "      <th>favorite_count</th>\n",
       "      <th>retweet_count</th>\n",
       "    </tr>\n",
       "  </thead>\n",
       "  <tbody>\n",
       "    <tr>\n",
       "      <th>0</th>\n",
       "      <td>892420643555336193</td>\n",
       "      <td>This is Phineas. He's a mystical boy. Only eve...</td>\n",
       "      <td>33638</td>\n",
       "      <td>6961</td>\n",
       "    </tr>\n",
       "    <tr>\n",
       "      <th>1</th>\n",
       "      <td>892177421306343426</td>\n",
       "      <td>This is Tilly. She's just checking pup on you....</td>\n",
       "      <td>29180</td>\n",
       "      <td>5265</td>\n",
       "    </tr>\n",
       "    <tr>\n",
       "      <th>2</th>\n",
       "      <td>891815181378084864</td>\n",
       "      <td>This is Archie. He is a rare Norwegian Pouncin...</td>\n",
       "      <td>21949</td>\n",
       "      <td>3463</td>\n",
       "    </tr>\n",
       "    <tr>\n",
       "      <th>3</th>\n",
       "      <td>891689557279858688</td>\n",
       "      <td>This is Darla. She commenced a snooze mid meal...</td>\n",
       "      <td>36744</td>\n",
       "      <td>7183</td>\n",
       "    </tr>\n",
       "    <tr>\n",
       "      <th>4</th>\n",
       "      <td>891327558926688256</td>\n",
       "      <td>This is Franklin. He would like you to stop ca...</td>\n",
       "      <td>35103</td>\n",
       "      <td>7707</td>\n",
       "    </tr>\n",
       "    <tr>\n",
       "      <th>5</th>\n",
       "      <td>891087950875897856</td>\n",
       "      <td>Here we have a majestic great white breaching ...</td>\n",
       "      <td>17724</td>\n",
       "      <td>2583</td>\n",
       "    </tr>\n",
       "    <tr>\n",
       "      <th>6</th>\n",
       "      <td>890971913173991426</td>\n",
       "      <td>Meet Jax. He enjoys ice cream so much he gets ...</td>\n",
       "      <td>10319</td>\n",
       "      <td>1644</td>\n",
       "    </tr>\n",
       "    <tr>\n",
       "      <th>7</th>\n",
       "      <td>890729181411237888</td>\n",
       "      <td>When you watch your owner call another dog a g...</td>\n",
       "      <td>56544</td>\n",
       "      <td>15664</td>\n",
       "    </tr>\n",
       "    <tr>\n",
       "      <th>8</th>\n",
       "      <td>890609185150312448</td>\n",
       "      <td>This is Zoey. She doesn't want to be one of th...</td>\n",
       "      <td>24386</td>\n",
       "      <td>3599</td>\n",
       "    </tr>\n",
       "    <tr>\n",
       "      <th>9</th>\n",
       "      <td>890240255349198849</td>\n",
       "      <td>This is Cassie. She is a college pup. Studying...</td>\n",
       "      <td>27800</td>\n",
       "      <td>6059</td>\n",
       "    </tr>\n",
       "  </tbody>\n",
       "</table>\n",
       "</div>"
      ],
      "text/plain": [
       "             tweet_id                                               text  \\\n",
       "0  892420643555336193  This is Phineas. He's a mystical boy. Only eve...   \n",
       "1  892177421306343426  This is Tilly. She's just checking pup on you....   \n",
       "2  891815181378084864  This is Archie. He is a rare Norwegian Pouncin...   \n",
       "3  891689557279858688  This is Darla. She commenced a snooze mid meal...   \n",
       "4  891327558926688256  This is Franklin. He would like you to stop ca...   \n",
       "5  891087950875897856  Here we have a majestic great white breaching ...   \n",
       "6  890971913173991426  Meet Jax. He enjoys ice cream so much he gets ...   \n",
       "7  890729181411237888  When you watch your owner call another dog a g...   \n",
       "8  890609185150312448  This is Zoey. She doesn't want to be one of th...   \n",
       "9  890240255349198849  This is Cassie. She is a college pup. Studying...   \n",
       "\n",
       "   favorite_count  retweet_count  \n",
       "0           33638           6961  \n",
       "1           29180           5265  \n",
       "2           21949           3463  \n",
       "3           36744           7183  \n",
       "4           35103           7707  \n",
       "5           17724           2583  \n",
       "6           10319           1644  \n",
       "7           56544          15664  \n",
       "8           24386           3599  \n",
       "9           27800           6059  "
      ]
     },
     "execution_count": 499,
     "metadata": {},
     "output_type": "execute_result"
    }
   ],
   "source": [
    "twitter_data.head(10)"
   ]
  },
  {
   "cell_type": "code",
   "execution_count": 500,
   "id": "c63acff8",
   "metadata": {},
   "outputs": [
    {
     "name": "stdout",
     "output_type": "stream",
     "text": [
      "<class 'pandas.core.frame.DataFrame'>\n",
      "RangeIndex: 2326 entries, 0 to 2325\n",
      "Data columns (total 4 columns):\n",
      " #   Column          Non-Null Count  Dtype \n",
      "---  ------          --------------  ----- \n",
      " 0   tweet_id        2326 non-null   int64 \n",
      " 1   text            2326 non-null   object\n",
      " 2   favorite_count  2326 non-null   int64 \n",
      " 3   retweet_count   2326 non-null   int64 \n",
      "dtypes: int64(3), object(1)\n",
      "memory usage: 72.8+ KB\n"
     ]
    }
   ],
   "source": [
    "twitter_data.info()"
   ]
  },
  {
   "cell_type": "markdown",
   "id": "df7cd4b8",
   "metadata": {},
   "source": [
    "Since we are not interested in retweets, we need to drop the retweet_count column from the dataset"
   ]
  },
  {
   "cell_type": "code",
   "execution_count": 501,
   "id": "c242babf",
   "metadata": {},
   "outputs": [
    {
     "data": {
      "text/plain": [
       "2326"
      ]
     },
     "execution_count": 501,
     "metadata": {},
     "output_type": "execute_result"
    }
   ],
   "source": [
    "twitter_data.tweet_id.nunique()"
   ]
  },
  {
   "cell_type": "code",
   "execution_count": 502,
   "id": "f64f810c",
   "metadata": {},
   "outputs": [
    {
     "data": {
      "text/plain": [
       "0"
      ]
     },
     "execution_count": 502,
     "metadata": {},
     "output_type": "execute_result"
    }
   ],
   "source": [
    "twitter_data.duplicated().sum()"
   ]
  },
  {
   "cell_type": "markdown",
   "id": "7a100474",
   "metadata": {},
   "source": [
    "All the tweets are unique. However, like we saw above, they might only be unique due to differences in their tweet_id. We want to check this situation also."
   ]
  },
  {
   "cell_type": "code",
   "execution_count": 503,
   "id": "5bd719b9",
   "metadata": {},
   "outputs": [
    {
     "data": {
      "text/plain": [
       "0"
      ]
     },
     "execution_count": 503,
     "metadata": {},
     "output_type": "execute_result"
    }
   ],
   "source": [
    "# Get the names of all the columns in twitter_data dataframe with the exception of the tweed_id\n",
    "# Check to see if tweets are actually duplicated.\n",
    "\n",
    "req_columns = list(twitter_data.columns[1:])\n",
    "twitter_data[req_columns].duplicated().sum()"
   ]
  },
  {
   "cell_type": "markdown",
   "id": "d7cfd37f",
   "metadata": {},
   "source": [
    "Great. There are no duplicated values in this dataset.\n",
    "\n",
    "However, before we wrap this session up, let us also run the same check for the twitter_archive_enhanced dataframe above to be very sure it doesn't contain actual duplicates when we exclude tweet_ids."
   ]
  },
  {
   "cell_type": "code",
   "execution_count": 504,
   "id": "47514a44",
   "metadata": {},
   "outputs": [
    {
     "data": {
      "text/plain": [
       "0"
      ]
     },
     "execution_count": 504,
     "metadata": {},
     "output_type": "execute_result"
    }
   ],
   "source": [
    "twitter_archive_enhanced.duplicated().sum()"
   ]
  },
  {
   "cell_type": "code",
   "execution_count": 505,
   "id": "fad397d1",
   "metadata": {},
   "outputs": [
    {
     "data": {
      "text/plain": [
       "0"
      ]
     },
     "execution_count": 505,
     "metadata": {},
     "output_type": "execute_result"
    }
   ],
   "source": [
    "# Get the names of all the columns in twitter_data dataframe with the exception of the tweed_id\n",
    "# Check to see if tweets are actually duplicated.\n",
    "\n",
    "req_columns = list(twitter_archive_enhanced.columns[1:])\n",
    "twitter_archive_enhanced[req_columns].duplicated().sum()"
   ]
  },
  {
   "cell_type": "markdown",
   "id": "340b5c1a",
   "metadata": {},
   "source": [
    "Very cool. No dulicates here also. "
   ]
  },
  {
   "cell_type": "markdown",
   "id": "649cb33d",
   "metadata": {},
   "source": [
    "After assessing the three datasets, the following quality and tidyness issues were noted:"
   ]
  },
  {
   "cell_type": "markdown",
   "id": "93495f96",
   "metadata": {},
   "source": [
    "## Quality issues\n",
    "\n",
    "### twitter_archive_enhanced dataset\n",
    "1. Dataset contains information on retweets. We do not want retweets. We drop rows and columns containing retweets.\n",
    "   - Although we have nulls in the dataset, they are found in the retweet columns that we are going to drop anyways.\n",
    "2. The timestamp column have the wrong datatype.\n",
    "3. Redundant columns in the dataset. The necessary info in the source column has been extracted, making those columns redundant in this analysis.\n",
    "4. Rating denominator is always 10 in dog ratings, other values may have been wrongly entered.\n",
    "5. Outliers in the rating_numerator\n",
    "\n",
    "### image_predictions dataset\n",
    "6. image_prediction dataframe does not contain p4, p4_conf nor p4_dog\n",
    "7. Drop rows where the image is not a dog breed.\n",
    "8. Get the correct img_num and dog breed. \n",
    "9. Drop columns from image_predictions where predictions was not correct \n",
    "10. Drop duplicated tweets in the dataset.\n",
    "\n",
    "\n",
    "### twitter_data dataset twitter_data\n",
    "11. We only want tweets and not retweets, drop the retweet_count column\n",
    "\n",
    "## Tidyness issues\n",
    "\n",
    "### twitter_archive_enhanced dataset\n",
    "1. One variable in four columns - doggo, floofer, pupper and puppo and dog stages\n",
    "2. We should have just one table not three."
   ]
  },
  {
   "cell_type": "markdown",
   "id": "9cd9fe67",
   "metadata": {},
   "source": [
    "### Assessing the Data Conclusion\n",
    "\n",
    "We have identified quite a few quality and tidyness issue. I will proceed now to clean those up. Additional issues will be documented if necessary."
   ]
  },
  {
   "cell_type": "markdown",
   "id": "a6c010e6",
   "metadata": {},
   "source": [
    "<a id=\"cleaning_data\"></a>\n",
    "\n",
    "# Cleaning the Data"
   ]
  },
  {
   "cell_type": "code",
   "execution_count": 506,
   "id": "870db646",
   "metadata": {},
   "outputs": [],
   "source": [
    "# Let's first create copies of the original dataframes\n",
    "twitter_archive_clean = twitter_archive_enhanced.copy()\n",
    "image_predictions_clean = image_predictions.copy()\n",
    "twitter_data_clean = twitter_data.copy()"
   ]
  },
  {
   "cell_type": "markdown",
   "id": "dfa91040",
   "metadata": {},
   "source": [
    "## Dealing With Issues Relating to Quality in the Datasets"
   ]
  },
  {
   "cell_type": "markdown",
   "id": "9e58ab59",
   "metadata": {},
   "source": [
    "### Issue #1: Dataset contains information on retweets"
   ]
  },
  {
   "cell_type": "code",
   "execution_count": 507,
   "id": "b21eebdd",
   "metadata": {
    "scrolled": true
   },
   "outputs": [
    {
     "data": {
      "text/plain": [
       "tweet_id                         0\n",
       "in_reply_to_status_id         2278\n",
       "in_reply_to_user_id           2278\n",
       "timestamp                        0\n",
       "source                           0\n",
       "text                             0\n",
       "retweeted_status_id           2175\n",
       "retweeted_status_user_id      2175\n",
       "retweeted_status_timestamp    2175\n",
       "expanded_urls                   59\n",
       "rating_numerator                 0\n",
       "rating_denominator               0\n",
       "name                             0\n",
       "doggo                            0\n",
       "floofer                          0\n",
       "pupper                           0\n",
       "puppo                            0\n",
       "dtype: int64"
      ]
     },
     "execution_count": 507,
     "metadata": {},
     "output_type": "execute_result"
    }
   ],
   "source": [
    " twitter_archive_clean.isna().sum()"
   ]
  },
  {
   "cell_type": "markdown",
   "id": "31f44905",
   "metadata": {},
   "source": [
    "### Define\n",
    "\n",
    "The twitter_archive dataset contains some rows and columns that houses information on retweets. We do not want informaation on retweets, hence, we go ahead to drop those rows and columns."
   ]
  },
  {
   "cell_type": "code",
   "execution_count": 508,
   "id": "9471edb3",
   "metadata": {},
   "outputs": [
    {
     "name": "stdout",
     "output_type": "stream",
     "text": [
      "2175\n"
     ]
    }
   ],
   "source": [
    "print(twitter_archive_clean['retweeted_status_id'].isna().sum())"
   ]
  },
  {
   "cell_type": "markdown",
   "id": "92a1fcae",
   "metadata": {},
   "source": [
    "### Code"
   ]
  },
  {
   "cell_type": "code",
   "execution_count": 509,
   "id": "e9d06cb4",
   "metadata": {},
   "outputs": [],
   "source": [
    "twitter_archive_clean = twitter_archive_clean[twitter_archive_clean['retweeted_status_id'].isna()]"
   ]
  },
  {
   "cell_type": "markdown",
   "id": "b7db9f3d",
   "metadata": {},
   "source": [
    "### Test"
   ]
  },
  {
   "cell_type": "code",
   "execution_count": 510,
   "id": "150e7ce6",
   "metadata": {},
   "outputs": [
    {
     "data": {
      "text/plain": [
       "0"
      ]
     },
     "execution_count": 510,
     "metadata": {},
     "output_type": "execute_result"
    }
   ],
   "source": [
    "twitter_archive_clean['retweeted_status_id'].notnull().sum()"
   ]
  },
  {
   "cell_type": "code",
   "execution_count": 511,
   "id": "19771f43",
   "metadata": {},
   "outputs": [
    {
     "name": "stdout",
     "output_type": "stream",
     "text": [
      "<class 'pandas.core.frame.DataFrame'>\n",
      "Int64Index: 2175 entries, 0 to 2355\n",
      "Data columns (total 17 columns):\n",
      " #   Column                      Non-Null Count  Dtype  \n",
      "---  ------                      --------------  -----  \n",
      " 0   tweet_id                    2175 non-null   int64  \n",
      " 1   in_reply_to_status_id       78 non-null     float64\n",
      " 2   in_reply_to_user_id         78 non-null     float64\n",
      " 3   timestamp                   2175 non-null   object \n",
      " 4   source                      2175 non-null   object \n",
      " 5   text                        2175 non-null   object \n",
      " 6   retweeted_status_id         0 non-null      float64\n",
      " 7   retweeted_status_user_id    0 non-null      float64\n",
      " 8   retweeted_status_timestamp  0 non-null      object \n",
      " 9   expanded_urls               2117 non-null   object \n",
      " 10  rating_numerator            2175 non-null   int64  \n",
      " 11  rating_denominator          2175 non-null   int64  \n",
      " 12  name                        2175 non-null   object \n",
      " 13  doggo                       2175 non-null   object \n",
      " 14  floofer                     2175 non-null   object \n",
      " 15  pupper                      2175 non-null   object \n",
      " 16  puppo                       2175 non-null   object \n",
      "dtypes: float64(4), int64(3), object(10)\n",
      "memory usage: 305.9+ KB\n"
     ]
    }
   ],
   "source": [
    "twitter_archive_clean.info()"
   ]
  },
  {
   "cell_type": "code",
   "execution_count": 512,
   "id": "f9dbe258",
   "metadata": {},
   "outputs": [],
   "source": [
    "twitter_archive_clean = twitter_archive_clean[twitter_archive_clean['in_reply_to_user_id'].isna()]"
   ]
  },
  {
   "cell_type": "code",
   "execution_count": 513,
   "id": "44a241f3",
   "metadata": {},
   "outputs": [
    {
     "name": "stdout",
     "output_type": "stream",
     "text": [
      "<class 'pandas.core.frame.DataFrame'>\n",
      "Int64Index: 2097 entries, 0 to 2355\n",
      "Data columns (total 17 columns):\n",
      " #   Column                      Non-Null Count  Dtype  \n",
      "---  ------                      --------------  -----  \n",
      " 0   tweet_id                    2097 non-null   int64  \n",
      " 1   in_reply_to_status_id       0 non-null      float64\n",
      " 2   in_reply_to_user_id         0 non-null      float64\n",
      " 3   timestamp                   2097 non-null   object \n",
      " 4   source                      2097 non-null   object \n",
      " 5   text                        2097 non-null   object \n",
      " 6   retweeted_status_id         0 non-null      float64\n",
      " 7   retweeted_status_user_id    0 non-null      float64\n",
      " 8   retweeted_status_timestamp  0 non-null      object \n",
      " 9   expanded_urls               2094 non-null   object \n",
      " 10  rating_numerator            2097 non-null   int64  \n",
      " 11  rating_denominator          2097 non-null   int64  \n",
      " 12  name                        2097 non-null   object \n",
      " 13  doggo                       2097 non-null   object \n",
      " 14  floofer                     2097 non-null   object \n",
      " 15  pupper                      2097 non-null   object \n",
      " 16  puppo                       2097 non-null   object \n",
      "dtypes: float64(4), int64(3), object(10)\n",
      "memory usage: 294.9+ KB\n"
     ]
    }
   ],
   "source": [
    "twitter_archive_clean.info()"
   ]
  },
  {
   "cell_type": "markdown",
   "id": "7e923387",
   "metadata": {},
   "source": [
    "Notice that expanded_urls column now contains nulls as a result of the operation above. Let's quickly take care of that also"
   ]
  },
  {
   "cell_type": "markdown",
   "id": "dc8a47d6",
   "metadata": {},
   "source": [
    "### Define: Emerging nulls\n",
    "\n",
    "Remove null rows after above action is carried out"
   ]
  },
  {
   "cell_type": "markdown",
   "id": "50cc154a",
   "metadata": {},
   "source": [
    "### Code "
   ]
  },
  {
   "cell_type": "code",
   "execution_count": 514,
   "id": "73deb913",
   "metadata": {},
   "outputs": [],
   "source": [
    "twitter_archive_clean.dropna(subset=['expanded_urls'], inplace=True)"
   ]
  },
  {
   "cell_type": "markdown",
   "id": "b2cc2229",
   "metadata": {},
   "source": [
    "### Test"
   ]
  },
  {
   "cell_type": "code",
   "execution_count": 515,
   "id": "6deb9a99",
   "metadata": {},
   "outputs": [
    {
     "name": "stdout",
     "output_type": "stream",
     "text": [
      "<class 'pandas.core.frame.DataFrame'>\n",
      "Int64Index: 2094 entries, 0 to 2355\n",
      "Data columns (total 17 columns):\n",
      " #   Column                      Non-Null Count  Dtype  \n",
      "---  ------                      --------------  -----  \n",
      " 0   tweet_id                    2094 non-null   int64  \n",
      " 1   in_reply_to_status_id       0 non-null      float64\n",
      " 2   in_reply_to_user_id         0 non-null      float64\n",
      " 3   timestamp                   2094 non-null   object \n",
      " 4   source                      2094 non-null   object \n",
      " 5   text                        2094 non-null   object \n",
      " 6   retweeted_status_id         0 non-null      float64\n",
      " 7   retweeted_status_user_id    0 non-null      float64\n",
      " 8   retweeted_status_timestamp  0 non-null      object \n",
      " 9   expanded_urls               2094 non-null   object \n",
      " 10  rating_numerator            2094 non-null   int64  \n",
      " 11  rating_denominator          2094 non-null   int64  \n",
      " 12  name                        2094 non-null   object \n",
      " 13  doggo                       2094 non-null   object \n",
      " 14  floofer                     2094 non-null   object \n",
      " 15  pupper                      2094 non-null   object \n",
      " 16  puppo                       2094 non-null   object \n",
      "dtypes: float64(4), int64(3), object(10)\n",
      "memory usage: 294.5+ KB\n"
     ]
    }
   ],
   "source": [
    "twitter_archive_clean.info()"
   ]
  },
  {
   "cell_type": "code",
   "execution_count": 516,
   "id": "4d20caf2",
   "metadata": {},
   "outputs": [
    {
     "data": {
      "text/plain": [
       "Index(['tweet_id', 'in_reply_to_status_id', 'in_reply_to_user_id', 'timestamp',\n",
       "       'source', 'text', 'retweeted_status_id', 'retweeted_status_user_id',\n",
       "       'retweeted_status_timestamp', 'expanded_urls', 'rating_numerator',\n",
       "       'rating_denominator', 'name', 'doggo', 'floofer', 'pupper', 'puppo'],\n",
       "      dtype='object')"
      ]
     },
     "execution_count": 516,
     "metadata": {},
     "output_type": "execute_result"
    }
   ],
   "source": [
    "twitter_archive_clean.columns"
   ]
  },
  {
   "cell_type": "markdown",
   "id": "c8fff820",
   "metadata": {},
   "source": [
    "### Define: Drop columns that contains retweet information"
   ]
  },
  {
   "cell_type": "markdown",
   "id": "9c32356b",
   "metadata": {},
   "source": [
    "### Code:"
   ]
  },
  {
   "cell_type": "code",
   "execution_count": 517,
   "id": "c54b31ac",
   "metadata": {},
   "outputs": [],
   "source": [
    "# Extract the required columns into a list. Create a new dataframe from that list of columns\n",
    "# Save the new dataframe in twitter_archive_clean.\n",
    "\n",
    "req_col = ['tweet_id', 'timestamp', 'source', 'expanded_urls', 'text', 'rating_numerator','rating_denominator', 'name', 'doggo', 'floofer','pupper', 'puppo']\n",
    "twitter_archive_clean = twitter_archive_clean[req_col]"
   ]
  },
  {
   "cell_type": "markdown",
   "id": "b53b3a5d",
   "metadata": {},
   "source": [
    "### Test"
   ]
  },
  {
   "cell_type": "code",
   "execution_count": 518,
   "id": "77dc959d",
   "metadata": {},
   "outputs": [
    {
     "data": {
      "text/html": [
       "<div>\n",
       "<style scoped>\n",
       "    .dataframe tbody tr th:only-of-type {\n",
       "        vertical-align: middle;\n",
       "    }\n",
       "\n",
       "    .dataframe tbody tr th {\n",
       "        vertical-align: top;\n",
       "    }\n",
       "\n",
       "    .dataframe thead th {\n",
       "        text-align: right;\n",
       "    }\n",
       "</style>\n",
       "<table border=\"1\" class=\"dataframe\">\n",
       "  <thead>\n",
       "    <tr style=\"text-align: right;\">\n",
       "      <th></th>\n",
       "      <th>tweet_id</th>\n",
       "      <th>timestamp</th>\n",
       "      <th>source</th>\n",
       "      <th>expanded_urls</th>\n",
       "      <th>text</th>\n",
       "      <th>rating_numerator</th>\n",
       "      <th>rating_denominator</th>\n",
       "      <th>name</th>\n",
       "      <th>doggo</th>\n",
       "      <th>floofer</th>\n",
       "      <th>pupper</th>\n",
       "      <th>puppo</th>\n",
       "    </tr>\n",
       "  </thead>\n",
       "  <tbody>\n",
       "    <tr>\n",
       "      <th>0</th>\n",
       "      <td>892420643555336193</td>\n",
       "      <td>2017-08-01 16:23:56 +0000</td>\n",
       "      <td>&lt;a href=\"http://twitter.com/download/iphone\" r...</td>\n",
       "      <td>https://twitter.com/dog_rates/status/892420643...</td>\n",
       "      <td>This is Phineas. He's a mystical boy. Only eve...</td>\n",
       "      <td>13</td>\n",
       "      <td>10</td>\n",
       "      <td>Phineas</td>\n",
       "      <td>None</td>\n",
       "      <td>None</td>\n",
       "      <td>None</td>\n",
       "      <td>None</td>\n",
       "    </tr>\n",
       "    <tr>\n",
       "      <th>1</th>\n",
       "      <td>892177421306343426</td>\n",
       "      <td>2017-08-01 00:17:27 +0000</td>\n",
       "      <td>&lt;a href=\"http://twitter.com/download/iphone\" r...</td>\n",
       "      <td>https://twitter.com/dog_rates/status/892177421...</td>\n",
       "      <td>This is Tilly. She's just checking pup on you....</td>\n",
       "      <td>13</td>\n",
       "      <td>10</td>\n",
       "      <td>Tilly</td>\n",
       "      <td>None</td>\n",
       "      <td>None</td>\n",
       "      <td>None</td>\n",
       "      <td>None</td>\n",
       "    </tr>\n",
       "    <tr>\n",
       "      <th>2</th>\n",
       "      <td>891815181378084864</td>\n",
       "      <td>2017-07-31 00:18:03 +0000</td>\n",
       "      <td>&lt;a href=\"http://twitter.com/download/iphone\" r...</td>\n",
       "      <td>https://twitter.com/dog_rates/status/891815181...</td>\n",
       "      <td>This is Archie. He is a rare Norwegian Pouncin...</td>\n",
       "      <td>12</td>\n",
       "      <td>10</td>\n",
       "      <td>Archie</td>\n",
       "      <td>None</td>\n",
       "      <td>None</td>\n",
       "      <td>None</td>\n",
       "      <td>None</td>\n",
       "    </tr>\n",
       "    <tr>\n",
       "      <th>3</th>\n",
       "      <td>891689557279858688</td>\n",
       "      <td>2017-07-30 15:58:51 +0000</td>\n",
       "      <td>&lt;a href=\"http://twitter.com/download/iphone\" r...</td>\n",
       "      <td>https://twitter.com/dog_rates/status/891689557...</td>\n",
       "      <td>This is Darla. She commenced a snooze mid meal...</td>\n",
       "      <td>13</td>\n",
       "      <td>10</td>\n",
       "      <td>Darla</td>\n",
       "      <td>None</td>\n",
       "      <td>None</td>\n",
       "      <td>None</td>\n",
       "      <td>None</td>\n",
       "    </tr>\n",
       "    <tr>\n",
       "      <th>4</th>\n",
       "      <td>891327558926688256</td>\n",
       "      <td>2017-07-29 16:00:24 +0000</td>\n",
       "      <td>&lt;a href=\"http://twitter.com/download/iphone\" r...</td>\n",
       "      <td>https://twitter.com/dog_rates/status/891327558...</td>\n",
       "      <td>This is Franklin. He would like you to stop ca...</td>\n",
       "      <td>12</td>\n",
       "      <td>10</td>\n",
       "      <td>Franklin</td>\n",
       "      <td>None</td>\n",
       "      <td>None</td>\n",
       "      <td>None</td>\n",
       "      <td>None</td>\n",
       "    </tr>\n",
       "  </tbody>\n",
       "</table>\n",
       "</div>"
      ],
      "text/plain": [
       "             tweet_id                  timestamp  \\\n",
       "0  892420643555336193  2017-08-01 16:23:56 +0000   \n",
       "1  892177421306343426  2017-08-01 00:17:27 +0000   \n",
       "2  891815181378084864  2017-07-31 00:18:03 +0000   \n",
       "3  891689557279858688  2017-07-30 15:58:51 +0000   \n",
       "4  891327558926688256  2017-07-29 16:00:24 +0000   \n",
       "\n",
       "                                              source  \\\n",
       "0  <a href=\"http://twitter.com/download/iphone\" r...   \n",
       "1  <a href=\"http://twitter.com/download/iphone\" r...   \n",
       "2  <a href=\"http://twitter.com/download/iphone\" r...   \n",
       "3  <a href=\"http://twitter.com/download/iphone\" r...   \n",
       "4  <a href=\"http://twitter.com/download/iphone\" r...   \n",
       "\n",
       "                                       expanded_urls  \\\n",
       "0  https://twitter.com/dog_rates/status/892420643...   \n",
       "1  https://twitter.com/dog_rates/status/892177421...   \n",
       "2  https://twitter.com/dog_rates/status/891815181...   \n",
       "3  https://twitter.com/dog_rates/status/891689557...   \n",
       "4  https://twitter.com/dog_rates/status/891327558...   \n",
       "\n",
       "                                                text  rating_numerator  \\\n",
       "0  This is Phineas. He's a mystical boy. Only eve...                13   \n",
       "1  This is Tilly. She's just checking pup on you....                13   \n",
       "2  This is Archie. He is a rare Norwegian Pouncin...                12   \n",
       "3  This is Darla. She commenced a snooze mid meal...                13   \n",
       "4  This is Franklin. He would like you to stop ca...                12   \n",
       "\n",
       "   rating_denominator      name doggo floofer pupper puppo  \n",
       "0                  10   Phineas  None    None   None  None  \n",
       "1                  10     Tilly  None    None   None  None  \n",
       "2                  10    Archie  None    None   None  None  \n",
       "3                  10     Darla  None    None   None  None  \n",
       "4                  10  Franklin  None    None   None  None  "
      ]
     },
     "execution_count": 518,
     "metadata": {},
     "output_type": "execute_result"
    }
   ],
   "source": [
    "twitter_archive_clean.head()"
   ]
  },
  {
   "cell_type": "code",
   "execution_count": 519,
   "id": "9701af0e",
   "metadata": {},
   "outputs": [
    {
     "data": {
      "text/plain": [
       "Index(['tweet_id', 'timestamp', 'source', 'expanded_urls', 'text',\n",
       "       'rating_numerator', 'rating_denominator', 'name', 'doggo', 'floofer',\n",
       "       'pupper', 'puppo'],\n",
       "      dtype='object')"
      ]
     },
     "execution_count": 519,
     "metadata": {},
     "output_type": "execute_result"
    }
   ],
   "source": [
    "twitter_archive_clean.columns"
   ]
  },
  {
   "cell_type": "code",
   "execution_count": 520,
   "id": "4fbcba9c",
   "metadata": {},
   "outputs": [
    {
     "data": {
      "text/plain": [
       "2094"
      ]
     },
     "execution_count": 520,
     "metadata": {},
     "output_type": "execute_result"
    }
   ],
   "source": [
    "len(twitter_archive_clean)"
   ]
  },
  {
   "cell_type": "markdown",
   "id": "cec1bcc4",
   "metadata": {},
   "source": [
    "### Issue #2: Convert timestamp column's dtype to pandas datetime "
   ]
  },
  {
   "cell_type": "code",
   "execution_count": 521,
   "id": "76bc2c90",
   "metadata": {},
   "outputs": [
    {
     "data": {
      "text/plain": [
       "tweet_id               int64\n",
       "timestamp             object\n",
       "source                object\n",
       "expanded_urls         object\n",
       "text                  object\n",
       "rating_numerator       int64\n",
       "rating_denominator     int64\n",
       "name                  object\n",
       "doggo                 object\n",
       "floofer               object\n",
       "pupper                object\n",
       "puppo                 object\n",
       "dtype: object"
      ]
     },
     "execution_count": 521,
     "metadata": {},
     "output_type": "execute_result"
    }
   ],
   "source": [
    "twitter_archive_clean.dtypes"
   ]
  },
  {
   "cell_type": "markdown",
   "id": "0674388f",
   "metadata": {},
   "source": [
    "### Define: \n",
    "\n",
    "The timestamp column in the twitter_archive_clean has object datatype instead of the more appropriate datatime object. I call pandas to_datatime method to convert the values to the right values."
   ]
  },
  {
   "cell_type": "markdown",
   "id": "96da14fe",
   "metadata": {},
   "source": [
    "### Code:"
   ]
  },
  {
   "cell_type": "code",
   "execution_count": 522,
   "id": "e529ff06",
   "metadata": {},
   "outputs": [],
   "source": [
    "twitter_archive_clean['timestamp'] = pd.to_datetime(twitter_archive_clean['timestamp'], errors='ignore')"
   ]
  },
  {
   "cell_type": "markdown",
   "id": "3330ecaa",
   "metadata": {},
   "source": [
    "### Test:"
   ]
  },
  {
   "cell_type": "code",
   "execution_count": 523,
   "id": "505e6a73",
   "metadata": {},
   "outputs": [
    {
     "name": "stdout",
     "output_type": "stream",
     "text": [
      "<class 'pandas.core.frame.DataFrame'>\n",
      "Int64Index: 2094 entries, 0 to 2355\n",
      "Data columns (total 12 columns):\n",
      " #   Column              Non-Null Count  Dtype              \n",
      "---  ------              --------------  -----              \n",
      " 0   tweet_id            2094 non-null   int64              \n",
      " 1   timestamp           2094 non-null   datetime64[ns, UTC]\n",
      " 2   source              2094 non-null   object             \n",
      " 3   expanded_urls       2094 non-null   object             \n",
      " 4   text                2094 non-null   object             \n",
      " 5   rating_numerator    2094 non-null   int64              \n",
      " 6   rating_denominator  2094 non-null   int64              \n",
      " 7   name                2094 non-null   object             \n",
      " 8   doggo               2094 non-null   object             \n",
      " 9   floofer             2094 non-null   object             \n",
      " 10  pupper              2094 non-null   object             \n",
      " 11  puppo               2094 non-null   object             \n",
      "dtypes: datetime64[ns, UTC](1), int64(3), object(8)\n",
      "memory usage: 212.7+ KB\n"
     ]
    }
   ],
   "source": [
    "twitter_archive_clean.info()"
   ]
  },
  {
   "cell_type": "markdown",
   "id": "404f7d40",
   "metadata": {},
   "source": [
    "### Issue #3: Redundant column in the dataset"
   ]
  },
  {
   "cell_type": "code",
   "execution_count": 524,
   "id": "0235b20f",
   "metadata": {},
   "outputs": [
    {
     "data": {
      "text/plain": [
       "Index(['tweet_id', 'timestamp', 'source', 'expanded_urls', 'text',\n",
       "       'rating_numerator', 'rating_denominator', 'name', 'doggo', 'floofer',\n",
       "       'pupper', 'puppo'],\n",
       "      dtype='object')"
      ]
     },
     "execution_count": 524,
     "metadata": {},
     "output_type": "execute_result"
    }
   ],
   "source": [
    "twitter_archive_clean.columns"
   ]
  },
  {
   "cell_type": "markdown",
   "id": "836f8e0b",
   "metadata": {},
   "source": [
    "### Define: \n",
    "\n",
    "The source column appears to be redundant in this analysis. We apparently do not have need for it, hence, we drop it"
   ]
  },
  {
   "cell_type": "markdown",
   "id": "37dccbcf",
   "metadata": {},
   "source": [
    "### Code:"
   ]
  },
  {
   "cell_type": "code",
   "execution_count": 525,
   "id": "b772eaf8",
   "metadata": {},
   "outputs": [],
   "source": [
    "twitter_archive_clean.drop('source', axis=1, inplace=True)"
   ]
  },
  {
   "cell_type": "markdown",
   "id": "4bef2177",
   "metadata": {},
   "source": [
    "### Test:"
   ]
  },
  {
   "cell_type": "code",
   "execution_count": 526,
   "id": "c5e77bac",
   "metadata": {},
   "outputs": [
    {
     "name": "stdout",
     "output_type": "stream",
     "text": [
      "<class 'pandas.core.frame.DataFrame'>\n",
      "Int64Index: 2094 entries, 0 to 2355\n",
      "Data columns (total 11 columns):\n",
      " #   Column              Non-Null Count  Dtype              \n",
      "---  ------              --------------  -----              \n",
      " 0   tweet_id            2094 non-null   int64              \n",
      " 1   timestamp           2094 non-null   datetime64[ns, UTC]\n",
      " 2   expanded_urls       2094 non-null   object             \n",
      " 3   text                2094 non-null   object             \n",
      " 4   rating_numerator    2094 non-null   int64              \n",
      " 5   rating_denominator  2094 non-null   int64              \n",
      " 6   name                2094 non-null   object             \n",
      " 7   doggo               2094 non-null   object             \n",
      " 8   floofer             2094 non-null   object             \n",
      " 9   pupper              2094 non-null   object             \n",
      " 10  puppo               2094 non-null   object             \n",
      "dtypes: datetime64[ns, UTC](1), int64(3), object(7)\n",
      "memory usage: 196.3+ KB\n"
     ]
    }
   ],
   "source": [
    "twitter_archive_clean.info()"
   ]
  },
  {
   "cell_type": "markdown",
   "id": "807f2586",
   "metadata": {},
   "source": [
    "### Issue #4: Rating denominator is always 10 in dog ratings"
   ]
  },
  {
   "cell_type": "code",
   "execution_count": 527,
   "id": "35da655a",
   "metadata": {},
   "outputs": [
    {
     "data": {
      "text/plain": [
       "array([ 10,  70,   7, 150,  11, 170,  20,  50,  90,  80,  40, 110, 120,\n",
       "         2], dtype=int64)"
      ]
     },
     "execution_count": 527,
     "metadata": {},
     "output_type": "execute_result"
    }
   ],
   "source": [
    "twitter_archive_clean.rating_denominator.unique()"
   ]
  },
  {
   "cell_type": "markdown",
   "id": "c935777f",
   "metadata": {},
   "source": [
    "### Define:\n",
    "\n",
    "Although the numerator in the dog rating_numerator could be greater than 10, denominators are always to be 10. Values greater than 10 may be due to errors when retrieving the scores from the text associated with each tweet."
   ]
  },
  {
   "cell_type": "markdown",
   "id": "5ac061a0",
   "metadata": {},
   "source": [
    "### Code:"
   ]
  },
  {
   "cell_type": "code",
   "execution_count": 528,
   "id": "86bd94e5",
   "metadata": {},
   "outputs": [],
   "source": [
    "twitter_archive_clean['rating_denominator'] = 10"
   ]
  },
  {
   "cell_type": "markdown",
   "id": "789041e5",
   "metadata": {},
   "source": [
    "### Test:"
   ]
  },
  {
   "cell_type": "code",
   "execution_count": 529,
   "id": "d3d4cab3",
   "metadata": {},
   "outputs": [
    {
     "data": {
      "text/plain": [
       "array([10], dtype=int64)"
      ]
     },
     "execution_count": 529,
     "metadata": {},
     "output_type": "execute_result"
    }
   ],
   "source": [
    "twitter_archive_clean['rating_denominator'].unique()"
   ]
  },
  {
   "cell_type": "markdown",
   "id": "9daf81ae",
   "metadata": {},
   "source": [
    "### Issue #5: Outliers in the rating_denominator"
   ]
  },
  {
   "cell_type": "code",
   "execution_count": 530,
   "id": "d7259919",
   "metadata": {},
   "outputs": [
    {
     "data": {
      "text/plain": [
       "array([  13,   12,   14,    5,   11,    6,   10,    0,   84,   24,   75,\n",
       "         27,    3,    7,    8,    9,    4,  165, 1776,  204,   50,   99,\n",
       "         80,   45,   60,   44,  121,   26,    2,  144,   88,    1,  420],\n",
       "      dtype=int64)"
      ]
     },
     "execution_count": 530,
     "metadata": {},
     "output_type": "execute_result"
    }
   ],
   "source": [
    "twitter_archive_clean['rating_numerator'].unique()"
   ]
  },
  {
   "cell_type": "markdown",
   "id": "489f2316",
   "metadata": {},
   "source": [
    "### Define:\n",
    "\n",
    "Although the ratings in the rating_numerator column of the twitter_archive_clean dataset can be greater than the denominator, we can observe some ridiculous values in that column. This could be intentional from the person that posted the tweet, most likely, it is an error that occured while extracting the numerator values from the tweet text.\n",
    "\n",
    "A peek into the unique values in the column shows that realistic values are in the range 1 to 15. Browsing through the WeRateDogs twitter handle reveals that dog ratings for the numerator are obviously not greater than 15. "
   ]
  },
  {
   "cell_type": "code",
   "execution_count": 531,
   "id": "2d8cb821",
   "metadata": {},
   "outputs": [
    {
     "data": {
      "image/png": "[encoded data removed]",
      "text/plain": [
       "<Figure size 640x480 with 1 Axes>"
      ]
     },
     "metadata": {},
     "output_type": "display_data"
    }
   ],
   "source": [
    "sns.boxplot(x=twitter_archive_clean['rating_numerator']);\n",
    "plt.title('Detecting Outliers in the rating_numerator');"
   ]
  },
  {
   "cell_type": "markdown",
   "id": "d52f4234",
   "metadata": {},
   "source": [
    "### Code:\n",
    "\n",
    "Define a function that replaces outliers with the median value in the series, since mean itself is affected by outliers."
   ]
  },
  {
   "cell_type": "code",
   "execution_count": 532,
   "id": "19290d96",
   "metadata": {},
   "outputs": [],
   "source": [
    "# Replace outliers with median values\n",
    "\n",
    "Q1 = twitter_archive_clean.rating_numerator.quantile(0.25)\n",
    "Q3 = twitter_archive_clean.rating_numerator.quantile(0.95)\n",
    "median = twitter_archive_clean.rating_numerator.quantile(0.50)\n",
    "\n",
    "def remove_outliers(value):\n",
    "    if value < Q1 or value > Q3:\n",
    "        return median\n",
    "    else:\n",
    "        return value\n",
    "    \n",
    "twitter_archive_clean['rating_numerator'] = twitter_archive_clean.rating_numerator.apply(remove_outliers)"
   ]
  },
  {
   "cell_type": "markdown",
   "id": "1a493535",
   "metadata": {},
   "source": [
    "### Test:"
   ]
  },
  {
   "cell_type": "code",
   "execution_count": 533,
   "id": "6d09a925",
   "metadata": {},
   "outputs": [
    {
     "data": {
      "text/plain": [
       "array([13., 12., 11., 10.])"
      ]
     },
     "execution_count": 533,
     "metadata": {},
     "output_type": "execute_result"
    }
   ],
   "source": [
    "twitter_archive_clean['rating_numerator'].unique()"
   ]
  },
  {
   "cell_type": "code",
   "execution_count": 534,
   "id": "5d7dcd9b",
   "metadata": {},
   "outputs": [
    {
     "data": {
      "text/plain": [
       "11.0    888\n",
       "12.0    485\n",
       "10.0    434\n",
       "13.0    287\n",
       "Name: rating_numerator, dtype: int64"
      ]
     },
     "execution_count": 534,
     "metadata": {},
     "output_type": "execute_result"
    }
   ],
   "source": [
    "twitter_archive_clean['rating_numerator'].value_counts()"
   ]
  },
  {
   "cell_type": "markdown",
   "id": "06672473",
   "metadata": {},
   "source": [
    "### Issue #6: image_prediction dataframe does not contain p4, p4_conf nor p4_dog"
   ]
  },
  {
   "cell_type": "code",
   "execution_count": 535,
   "id": "12f6dacd",
   "metadata": {},
   "outputs": [
    {
     "data": {
      "text/plain": [
       "array([1, 4, 2, 3], dtype=int64)"
      ]
     },
     "execution_count": 535,
     "metadata": {},
     "output_type": "execute_result"
    }
   ],
   "source": [
    "image_predictions_clean['img_num'].unique()"
   ]
  },
  {
   "cell_type": "markdown",
   "id": "26e7fb5c",
   "metadata": {},
   "source": [
    "### Define:\n",
    "\n",
    "The unique values in the img_num column are (1,2,3,4), however, we have confidence levels, image and whether image is a dog or not provided for just the first three. We need to drop rows that have 4 in the img_num column."
   ]
  },
  {
   "cell_type": "markdown",
   "id": "b113ccff",
   "metadata": {},
   "source": [
    "### Code:"
   ]
  },
  {
   "cell_type": "code",
   "execution_count": 536,
   "id": "ed8c6999",
   "metadata": {},
   "outputs": [],
   "source": [
    "to_drop = image_predictions_clean[image_predictions_clean.img_num == 4].index\n",
    "image_predictions_clean.drop(to_drop, inplace=True)"
   ]
  },
  {
   "cell_type": "markdown",
   "id": "89903678",
   "metadata": {},
   "source": [
    "### Test:"
   ]
  },
  {
   "cell_type": "code",
   "execution_count": 537,
   "id": "cc3fb9a2",
   "metadata": {},
   "outputs": [
    {
     "data": {
      "text/plain": [
       "1    1780\n",
       "2     198\n",
       "3      66\n",
       "Name: img_num, dtype: int64"
      ]
     },
     "execution_count": 537,
     "metadata": {},
     "output_type": "execute_result"
    }
   ],
   "source": [
    "image_predictions_clean.img_num.value_counts()"
   ]
  },
  {
   "cell_type": "markdown",
   "id": "e70b8f10",
   "metadata": {},
   "source": [
    "### Issue #7: Drop rows where the image is not a dog breed."
   ]
  },
  {
   "cell_type": "code",
   "execution_count": 538,
   "id": "77a67849",
   "metadata": {},
   "outputs": [
    {
     "data": {
      "text/html": [
       "<div>\n",
       "<style scoped>\n",
       "    .dataframe tbody tr th:only-of-type {\n",
       "        vertical-align: middle;\n",
       "    }\n",
       "\n",
       "    .dataframe tbody tr th {\n",
       "        vertical-align: top;\n",
       "    }\n",
       "\n",
       "    .dataframe thead th {\n",
       "        text-align: right;\n",
       "    }\n",
       "</style>\n",
       "<table border=\"1\" class=\"dataframe\">\n",
       "  <thead>\n",
       "    <tr style=\"text-align: right;\">\n",
       "      <th></th>\n",
       "      <th>tweet_id</th>\n",
       "      <th>jpg_url</th>\n",
       "      <th>img_num</th>\n",
       "      <th>p1</th>\n",
       "      <th>p1_conf</th>\n",
       "      <th>p1_dog</th>\n",
       "      <th>p2</th>\n",
       "      <th>p2_conf</th>\n",
       "      <th>p2_dog</th>\n",
       "      <th>p3</th>\n",
       "      <th>p3_conf</th>\n",
       "      <th>p3_dog</th>\n",
       "    </tr>\n",
       "  </thead>\n",
       "  <tbody>\n",
       "    <tr>\n",
       "      <th>1064</th>\n",
       "      <td>715360349751484417</td>\n",
       "      <td>https://pbs.twimg.com/media/Ce14cOvWwAAcFJH.jpg</td>\n",
       "      <td>1</td>\n",
       "      <td>nail</td>\n",
       "      <td>0.855552</td>\n",
       "      <td>False</td>\n",
       "      <td>screw</td>\n",
       "      <td>0.073277</td>\n",
       "      <td>False</td>\n",
       "      <td>padlock</td>\n",
       "      <td>0.02397</td>\n",
       "      <td>False</td>\n",
       "    </tr>\n",
       "  </tbody>\n",
       "</table>\n",
       "</div>"
      ],
      "text/plain": [
       "                tweet_id                                          jpg_url  \\\n",
       "1064  715360349751484417  https://pbs.twimg.com/media/Ce14cOvWwAAcFJH.jpg   \n",
       "\n",
       "      img_num    p1   p1_conf  p1_dog     p2   p2_conf  p2_dog       p3  \\\n",
       "1064        1  nail  0.855552   False  screw  0.073277   False  padlock   \n",
       "\n",
       "      p3_conf  p3_dog  \n",
       "1064  0.02397   False  "
      ]
     },
     "execution_count": 538,
     "metadata": {},
     "output_type": "execute_result"
    }
   ],
   "source": [
    "image_predictions[image_predictions.tweet_id == 715360349751484417]"
   ]
  },
  {
   "cell_type": "markdown",
   "id": "7e6b2849",
   "metadata": {},
   "source": [
    "### Define:\n",
    "\n",
    "Some rows have all Falses in p1_dog, p2_dog and p3_dog columns. This means none of these images are actual dog images. I drop them."
   ]
  },
  {
   "cell_type": "code",
   "execution_count": 539,
   "id": "d33fdefe",
   "metadata": {},
   "outputs": [],
   "source": [
    "mask = image_predictions_clean[['p1_dog','p2_dog','p3_dog']].any(1)"
   ]
  },
  {
   "cell_type": "code",
   "execution_count": 540,
   "id": "33d6f07a",
   "metadata": {},
   "outputs": [],
   "source": [
    "# Now drop the rows where the predictions are anything but dog\n",
    "image_predictions_clean = image_predictions_clean[mask]"
   ]
  },
  {
   "cell_type": "markdown",
   "id": "1ad7ef4e",
   "metadata": {},
   "source": [
    "### Test:"
   ]
  },
  {
   "cell_type": "code",
   "execution_count": 541,
   "id": "7eef90d5",
   "metadata": {},
   "outputs": [
    {
     "data": {
      "text/html": [
       "<div>\n",
       "<style scoped>\n",
       "    .dataframe tbody tr th:only-of-type {\n",
       "        vertical-align: middle;\n",
       "    }\n",
       "\n",
       "    .dataframe tbody tr th {\n",
       "        vertical-align: top;\n",
       "    }\n",
       "\n",
       "    .dataframe thead th {\n",
       "        text-align: right;\n",
       "    }\n",
       "</style>\n",
       "<table border=\"1\" class=\"dataframe\">\n",
       "  <thead>\n",
       "    <tr style=\"text-align: right;\">\n",
       "      <th></th>\n",
       "      <th>tweet_id</th>\n",
       "      <th>jpg_url</th>\n",
       "      <th>img_num</th>\n",
       "      <th>p1</th>\n",
       "      <th>p1_conf</th>\n",
       "      <th>p1_dog</th>\n",
       "      <th>p2</th>\n",
       "      <th>p2_conf</th>\n",
       "      <th>p2_dog</th>\n",
       "      <th>p3</th>\n",
       "      <th>p3_conf</th>\n",
       "      <th>p3_dog</th>\n",
       "    </tr>\n",
       "  </thead>\n",
       "  <tbody>\n",
       "  </tbody>\n",
       "</table>\n",
       "</div>"
      ],
      "text/plain": [
       "Empty DataFrame\n",
       "Columns: [tweet_id, jpg_url, img_num, p1, p1_conf, p1_dog, p2, p2_conf, p2_dog, p3, p3_conf, p3_dog]\n",
       "Index: []"
      ]
     },
     "execution_count": 541,
     "metadata": {},
     "output_type": "execute_result"
    }
   ],
   "source": [
    "image_predictions_clean[image_predictions_clean.tweet_id == 715360349751484417]"
   ]
  },
  {
   "cell_type": "markdown",
   "id": "ff348db6",
   "metadata": {},
   "source": [
    "### Issue #8: Get the correct img_num and dog breed."
   ]
  },
  {
   "cell_type": "code",
   "execution_count": 542,
   "id": "e11a700c",
   "metadata": {},
   "outputs": [
    {
     "data": {
      "text/html": [
       "<div>\n",
       "<style scoped>\n",
       "    .dataframe tbody tr th:only-of-type {\n",
       "        vertical-align: middle;\n",
       "    }\n",
       "\n",
       "    .dataframe tbody tr th {\n",
       "        vertical-align: top;\n",
       "    }\n",
       "\n",
       "    .dataframe thead th {\n",
       "        text-align: right;\n",
       "    }\n",
       "</style>\n",
       "<table border=\"1\" class=\"dataframe\">\n",
       "  <thead>\n",
       "    <tr style=\"text-align: right;\">\n",
       "      <th></th>\n",
       "      <th>tweet_id</th>\n",
       "      <th>jpg_url</th>\n",
       "      <th>img_num</th>\n",
       "      <th>p1</th>\n",
       "      <th>p1_conf</th>\n",
       "      <th>p1_dog</th>\n",
       "      <th>p2</th>\n",
       "      <th>p2_conf</th>\n",
       "      <th>p2_dog</th>\n",
       "      <th>p3</th>\n",
       "      <th>p3_conf</th>\n",
       "      <th>p3_dog</th>\n",
       "    </tr>\n",
       "  </thead>\n",
       "  <tbody>\n",
       "    <tr>\n",
       "      <th>755</th>\n",
       "      <td>688385280030670848</td>\n",
       "      <td>https://pbs.twimg.com/media/CY2iwGNWUAI5zWi.jpg</td>\n",
       "      <td>2</td>\n",
       "      <td>golden_retriever</td>\n",
       "      <td>0.900437</td>\n",
       "      <td>True</td>\n",
       "      <td>cocker_spaniel</td>\n",
       "      <td>0.022292</td>\n",
       "      <td>True</td>\n",
       "      <td>sombrero</td>\n",
       "      <td>0.014997</td>\n",
       "      <td>False</td>\n",
       "    </tr>\n",
       "  </tbody>\n",
       "</table>\n",
       "</div>"
      ],
      "text/plain": [
       "               tweet_id                                          jpg_url  \\\n",
       "755  688385280030670848  https://pbs.twimg.com/media/CY2iwGNWUAI5zWi.jpg   \n",
       "\n",
       "     img_num                p1   p1_conf  p1_dog              p2   p2_conf  \\\n",
       "755        2  golden_retriever  0.900437    True  cocker_spaniel  0.022292   \n",
       "\n",
       "     p2_dog        p3   p3_conf  p3_dog  \n",
       "755    True  sombrero  0.014997   False  "
      ]
     },
     "execution_count": 542,
     "metadata": {},
     "output_type": "execute_result"
    }
   ],
   "source": [
    "image_predictions[image_predictions.tweet_id == 688385280030670848]"
   ]
  },
  {
   "cell_type": "markdown",
   "id": "dda8c712",
   "metadata": {},
   "source": [
    "### Define:\n",
    "\n",
    "We have dropped rows where all predictions are false. With this action, we are sure that we have all the rows contains enteries for a dog at least. Next, we will define a function that will map the correct img_num to the correct image that holds the highest confidence level.\n",
    "\n",
    "### Select only relevant columns from the image_predictions_clean dataset\n",
    "The important columns that we need from this dataset are tweet_id, jpg_url, the dog breed and perhaps the associated confidence level. To do this, I will iterate through the rows of the dataframe and perform the following checks:\n",
    "\n",
    "- select the highest of the three prediction confidence result and check if the associated image is a dog, otherwise, check the second highest result and see if it's a dog, else, move to the third.\n",
    "- Attache the selected dog breed to a list which we'll merge to the dataframe later"
   ]
  },
  {
   "cell_type": "markdown",
   "id": "644b0973",
   "metadata": {},
   "source": [
    "### Code: "
   ]
  },
  {
   "cell_type": "code",
   "execution_count": 543,
   "id": "d6fe2815",
   "metadata": {},
   "outputs": [],
   "source": [
    "# The function below has a bunch of if-elif-else statements. The goal is to get the image with the highest confidence\n",
    "# then check if it's a dog breed. If it's not, check the second highest confidence and also see if that is also a \n",
    "# dog breed. again, if it's not, move to the third.\n",
    "\n",
    "def get_breed(df):\n",
    "    \"\"\"\n",
    "    input: df - Dataframe object\n",
    "    This function receives a dataframe and returns a dictionary whose keys are tweet_ids, img_id, which corresponds to the\n",
    "    actual dog image with the highest predicted confidence, dog_breed, and the associated confidence\n",
    "    returns: a dictionary object\n",
    "    \"\"\"\n",
    "    res_list = []\n",
    "    for _, row in df.iterrows():\n",
    "        tweet_id = row['tweet_id']\n",
    "        p1, p2, p3 = row['p1'], row['p2'], row['p3']\n",
    "        p1_conf, p2_conf, p3_conf = row['p1_conf'], row['p2_conf'], row['p3_conf']\n",
    "        p1_dog, p2_dog, p3_dog = row['p1_dog'], row['p2_dog'], row['p3_dog']\n",
    "        \n",
    "        # Perform checks to ensure first image is dog and has the corresponding confidence\n",
    "        if p1_conf > max(p2_conf, p3_conf) and p1_dog:\n",
    "            res_list.append({'tweet_id':tweet_id, 'img_id':1, 'dog_breed':p1,'confidence':p1_conf})    \n",
    "        elif p2_conf > max(p1_conf, p3_conf) and p2_dog:\n",
    "            res_list.append({'tweet_id':tweet_id, 'img_id':2, 'dog_breed':p2,'confidence':p2_conf}) \n",
    "        elif p3_conf > max(p2_conf, p1_conf) and p3_dog:\n",
    "            res_list.append({'tweet_id':tweet_id, 'img_id':3, 'dog_breed':p3,'confidence':p3_conf})\n",
    "            \n",
    "            \n",
    "        elif ((p3_conf < p1_conf < p2_conf) and ~p2_dog) and p1_dog:\n",
    "            res_list.append({'tweet_id':tweet_id, 'img_id':1, 'dog_breed':p1,'confidence':p1_conf})\n",
    "        elif ((p3_conf < p2_conf < p1_conf) and ~p1_dog) and p2_dog:\n",
    "            res_list.append({'tweet_id':tweet_id, 'img_id':2, 'dog_breed':p2,'confidence':p2_conf})\n",
    "        elif ((p1_conf < p3_conf < p2_conf) and ~p2_dog) and p3_dog:\n",
    "            res_list.append({'tweet_id':tweet_id, 'img_id':3, 'dog_breed':p3,'confidence':p3_conf})\n",
    "        elif ((p2_conf < p1_conf < p3_conf) and ~p3_dog) and p1_dog:\n",
    "            res_list.append({'tweet_id':tweet_id, 'img_id':1, 'dog_breed':p1,'confidence':p1_conf})    \n",
    "        elif ((p1_conf < p2_conf < p3_conf) and ~p3_dog) and p2_dog:\n",
    "            res_list.append({'tweet_id':tweet_id, 'img_id':2, 'dog_breed':p2,'confidence':p2_conf})    \n",
    "        elif ((p2_conf < p3_conf < p1_conf) and ~p1_dog) and p3_dog:\n",
    "            res_list.append({'tweet_id':tweet_id, 'img_id':3, 'dog_breed':p3,'confidence':p3_conf})\n",
    "       \n",
    "        \n",
    "        elif (p2_conf > p1_conf < p3_conf) and ~(p1_dog or p3_dog) and p1_dog:\n",
    "            res_list.append({'tweet_id':tweet_id, 'img_id':1, 'dog_breed':p1,'confidence':p1_conf})\n",
    "        elif (p1_conf > p2_conf < p3_conf) and ~(p1_dog or p2_dog) and p2_dog:\n",
    "            res_list.append({'tweet_id':tweet_id, 'img_id':2, 'dog_breed':p2,'confidence':p2_conf})\n",
    "\n",
    "        elif (p1_conf > p3_conf < p2_conf) and ~(p1_dog or p2_dog) and p3_dog:\n",
    "            res_list.append({'tweet_id':tweet_id, 'img_id':3, 'dog_breed':p3,'confidence':p3_conf})\n",
    "        else:\n",
    "           res_list.append({'tweet_id':tweet_id, 'img_id':4, 'dog_breed':'not found','confidence':0.0}) \n",
    "    return res_list"
   ]
  },
  {
   "cell_type": "code",
   "execution_count": 544,
   "id": "b38546ec",
   "metadata": {},
   "outputs": [],
   "source": [
    "# Call the function to get the real predictions\n",
    "res_dict = get_breed(image_predictions_clean)"
   ]
  },
  {
   "cell_type": "code",
   "execution_count": 545,
   "id": "b04976b3",
   "metadata": {},
   "outputs": [],
   "source": [
    "# Convert dict object to dataframe\n",
    "new_df = pd.DataFrame(res_dict)"
   ]
  },
  {
   "cell_type": "code",
   "execution_count": 546,
   "id": "85fa79e0",
   "metadata": {},
   "outputs": [
    {
     "data": {
      "text/html": [
       "<div>\n",
       "<style scoped>\n",
       "    .dataframe tbody tr th:only-of-type {\n",
       "        vertical-align: middle;\n",
       "    }\n",
       "\n",
       "    .dataframe tbody tr th {\n",
       "        vertical-align: top;\n",
       "    }\n",
       "\n",
       "    .dataframe thead th {\n",
       "        text-align: right;\n",
       "    }\n",
       "</style>\n",
       "<table border=\"1\" class=\"dataframe\">\n",
       "  <thead>\n",
       "    <tr style=\"text-align: right;\">\n",
       "      <th></th>\n",
       "      <th>tweet_id</th>\n",
       "      <th>img_id</th>\n",
       "      <th>dog_breed</th>\n",
       "      <th>confidence</th>\n",
       "    </tr>\n",
       "  </thead>\n",
       "  <tbody>\n",
       "    <tr>\n",
       "      <th>0</th>\n",
       "      <td>666020888022790149</td>\n",
       "      <td>1</td>\n",
       "      <td>Welsh_springer_spaniel</td>\n",
       "      <td>0.465074</td>\n",
       "    </tr>\n",
       "    <tr>\n",
       "      <th>1</th>\n",
       "      <td>666029285002620928</td>\n",
       "      <td>1</td>\n",
       "      <td>redbone</td>\n",
       "      <td>0.506826</td>\n",
       "    </tr>\n",
       "    <tr>\n",
       "      <th>2</th>\n",
       "      <td>666033412701032449</td>\n",
       "      <td>1</td>\n",
       "      <td>German_shepherd</td>\n",
       "      <td>0.596461</td>\n",
       "    </tr>\n",
       "    <tr>\n",
       "      <th>3</th>\n",
       "      <td>666044226329800704</td>\n",
       "      <td>1</td>\n",
       "      <td>Rhodesian_ridgeback</td>\n",
       "      <td>0.408143</td>\n",
       "    </tr>\n",
       "    <tr>\n",
       "      <th>4</th>\n",
       "      <td>666049248165822465</td>\n",
       "      <td>1</td>\n",
       "      <td>miniature_pinscher</td>\n",
       "      <td>0.560311</td>\n",
       "    </tr>\n",
       "  </tbody>\n",
       "</table>\n",
       "</div>"
      ],
      "text/plain": [
       "             tweet_id  img_id               dog_breed  confidence\n",
       "0  666020888022790149       1  Welsh_springer_spaniel    0.465074\n",
       "1  666029285002620928       1                 redbone    0.506826\n",
       "2  666033412701032449       1         German_shepherd    0.596461\n",
       "3  666044226329800704       1     Rhodesian_ridgeback    0.408143\n",
       "4  666049248165822465       1      miniature_pinscher    0.560311"
      ]
     },
     "execution_count": 546,
     "metadata": {},
     "output_type": "execute_result"
    }
   ],
   "source": [
    "new_df.head()"
   ]
  },
  {
   "cell_type": "markdown",
   "id": "9bee8638",
   "metadata": {},
   "source": [
    "### Test:"
   ]
  },
  {
   "cell_type": "code",
   "execution_count": 547,
   "id": "69e20dc8",
   "metadata": {},
   "outputs": [
    {
     "data": {
      "text/html": [
       "<div>\n",
       "<style scoped>\n",
       "    .dataframe tbody tr th:only-of-type {\n",
       "        vertical-align: middle;\n",
       "    }\n",
       "\n",
       "    .dataframe tbody tr th {\n",
       "        vertical-align: top;\n",
       "    }\n",
       "\n",
       "    .dataframe thead th {\n",
       "        text-align: right;\n",
       "    }\n",
       "</style>\n",
       "<table border=\"1\" class=\"dataframe\">\n",
       "  <thead>\n",
       "    <tr style=\"text-align: right;\">\n",
       "      <th></th>\n",
       "      <th>tweet_id</th>\n",
       "      <th>img_id</th>\n",
       "      <th>dog_breed</th>\n",
       "      <th>confidence</th>\n",
       "    </tr>\n",
       "  </thead>\n",
       "  <tbody>\n",
       "    <tr>\n",
       "      <th>590</th>\n",
       "      <td>688385280030670848</td>\n",
       "      <td>1</td>\n",
       "      <td>golden_retriever</td>\n",
       "      <td>0.900437</td>\n",
       "    </tr>\n",
       "  </tbody>\n",
       "</table>\n",
       "</div>"
      ],
      "text/plain": [
       "               tweet_id  img_id         dog_breed  confidence\n",
       "590  688385280030670848       1  golden_retriever    0.900437"
      ]
     },
     "execution_count": 547,
     "metadata": {},
     "output_type": "execute_result"
    }
   ],
   "source": [
    "# Confirm that the dataframe now contains the correct predictions\n",
    "new_df[new_df.tweet_id == 688385280030670848]"
   ]
  },
  {
   "cell_type": "markdown",
   "id": "e92a9f36",
   "metadata": {},
   "source": [
    "So we have it! golden_retriever, confidence above 90% and img_id is 1"
   ]
  },
  {
   "cell_type": "markdown",
   "id": "6a46e36a",
   "metadata": {},
   "source": [
    "### Issue #9: Drop unnecesary columns from image_predictions_clean"
   ]
  },
  {
   "cell_type": "markdown",
   "id": "639bf346",
   "metadata": {},
   "source": [
    "### Define: \n",
    "Use the new Dataframe in place of image_predictions_clean"
   ]
  },
  {
   "cell_type": "markdown",
   "id": "777f6656",
   "metadata": {},
   "source": [
    "### Code:"
   ]
  },
  {
   "cell_type": "code",
   "execution_count": 548,
   "id": "ac281b9c",
   "metadata": {},
   "outputs": [],
   "source": [
    "image_predictions_clean = new_df"
   ]
  },
  {
   "cell_type": "markdown",
   "id": "d1ea550b",
   "metadata": {},
   "source": [
    "### Test:"
   ]
  },
  {
   "cell_type": "code",
   "execution_count": 549,
   "id": "1a272aca",
   "metadata": {},
   "outputs": [
    {
     "data": {
      "text/html": [
       "<div>\n",
       "<style scoped>\n",
       "    .dataframe tbody tr th:only-of-type {\n",
       "        vertical-align: middle;\n",
       "    }\n",
       "\n",
       "    .dataframe tbody tr th {\n",
       "        vertical-align: top;\n",
       "    }\n",
       "\n",
       "    .dataframe thead th {\n",
       "        text-align: right;\n",
       "    }\n",
       "</style>\n",
       "<table border=\"1\" class=\"dataframe\">\n",
       "  <thead>\n",
       "    <tr style=\"text-align: right;\">\n",
       "      <th></th>\n",
       "      <th>tweet_id</th>\n",
       "      <th>img_id</th>\n",
       "      <th>dog_breed</th>\n",
       "      <th>confidence</th>\n",
       "    </tr>\n",
       "  </thead>\n",
       "  <tbody>\n",
       "    <tr>\n",
       "      <th>0</th>\n",
       "      <td>666020888022790149</td>\n",
       "      <td>1</td>\n",
       "      <td>Welsh_springer_spaniel</td>\n",
       "      <td>0.465074</td>\n",
       "    </tr>\n",
       "    <tr>\n",
       "      <th>1</th>\n",
       "      <td>666029285002620928</td>\n",
       "      <td>1</td>\n",
       "      <td>redbone</td>\n",
       "      <td>0.506826</td>\n",
       "    </tr>\n",
       "    <tr>\n",
       "      <th>2</th>\n",
       "      <td>666033412701032449</td>\n",
       "      <td>1</td>\n",
       "      <td>German_shepherd</td>\n",
       "      <td>0.596461</td>\n",
       "    </tr>\n",
       "    <tr>\n",
       "      <th>3</th>\n",
       "      <td>666044226329800704</td>\n",
       "      <td>1</td>\n",
       "      <td>Rhodesian_ridgeback</td>\n",
       "      <td>0.408143</td>\n",
       "    </tr>\n",
       "    <tr>\n",
       "      <th>4</th>\n",
       "      <td>666049248165822465</td>\n",
       "      <td>1</td>\n",
       "      <td>miniature_pinscher</td>\n",
       "      <td>0.560311</td>\n",
       "    </tr>\n",
       "  </tbody>\n",
       "</table>\n",
       "</div>"
      ],
      "text/plain": [
       "             tweet_id  img_id               dog_breed  confidence\n",
       "0  666020888022790149       1  Welsh_springer_spaniel    0.465074\n",
       "1  666029285002620928       1                 redbone    0.506826\n",
       "2  666033412701032449       1         German_shepherd    0.596461\n",
       "3  666044226329800704       1     Rhodesian_ridgeback    0.408143\n",
       "4  666049248165822465       1      miniature_pinscher    0.560311"
      ]
     },
     "execution_count": 549,
     "metadata": {},
     "output_type": "execute_result"
    }
   ],
   "source": [
    "image_predictions_clean.head()"
   ]
  },
  {
   "cell_type": "markdown",
   "id": "654bff28",
   "metadata": {},
   "source": [
    "### Issue #10: Drop Duplicated tweets in dataset"
   ]
  },
  {
   "cell_type": "code",
   "execution_count": 550,
   "id": "9b5a0160",
   "metadata": {},
   "outputs": [
    {
     "data": {
      "text/plain": [
       "0"
      ]
     },
     "execution_count": 550,
     "metadata": {},
     "output_type": "execute_result"
    }
   ],
   "source": [
    "image_predictions_clean.duplicated().sum()"
   ]
  },
  {
   "cell_type": "code",
   "execution_count": 551,
   "id": "deff7771",
   "metadata": {},
   "outputs": [
    {
     "data": {
      "text/plain": [
       "60"
      ]
     },
     "execution_count": 551,
     "metadata": {},
     "output_type": "execute_result"
    }
   ],
   "source": [
    "image_predictions_clean[image_predictions_clean.columns[1:]].duplicated().sum()"
   ]
  },
  {
   "cell_type": "code",
   "execution_count": 552,
   "id": "37b8fa05",
   "metadata": {},
   "outputs": [
    {
     "data": {
      "text/plain": [
       "1724"
      ]
     },
     "execution_count": 552,
     "metadata": {},
     "output_type": "execute_result"
    }
   ],
   "source": [
    "len(image_predictions_clean)"
   ]
  },
  {
   "cell_type": "markdown",
   "id": "b92dc945",
   "metadata": {},
   "source": [
    "### Define:\n",
    "\n",
    "image_prediction_clean appears not to have duplicates but it actually has. These are exact same tweets that were sent multiple times. Since they were sent more than once, they have different tweet_ids but the contents are actually the same. When we excluded the tweet_id column, you will discover that they were duplicates as shown above."
   ]
  },
  {
   "cell_type": "markdown",
   "id": "78fdf53a",
   "metadata": {},
   "source": [
    "### Code"
   ]
  },
  {
   "cell_type": "code",
   "execution_count": 553,
   "id": "8bc0b03f",
   "metadata": {},
   "outputs": [],
   "source": [
    "image_predictions_clean = image_predictions_clean[~(image_predictions_clean[image_predictions_clean.columns[1:]].duplicated())]"
   ]
  },
  {
   "cell_type": "markdown",
   "id": "f2c474cf",
   "metadata": {},
   "source": [
    "### Test:"
   ]
  },
  {
   "cell_type": "code",
   "execution_count": 554,
   "id": "6bf99eef",
   "metadata": {},
   "outputs": [
    {
     "data": {
      "text/plain": [
       "1664"
      ]
     },
     "execution_count": 554,
     "metadata": {},
     "output_type": "execute_result"
    }
   ],
   "source": [
    "len(image_predictions_clean)"
   ]
  },
  {
   "cell_type": "code",
   "execution_count": 555,
   "id": "fe33890e",
   "metadata": {},
   "outputs": [
    {
     "data": {
      "text/plain": [
       "0"
      ]
     },
     "execution_count": 555,
     "metadata": {},
     "output_type": "execute_result"
    }
   ],
   "source": [
    "image_predictions_clean[image_predictions_clean.columns[1:]].duplicated().sum()"
   ]
  },
  {
   "cell_type": "code",
   "execution_count": 557,
   "id": "f4eadaef",
   "metadata": {},
   "outputs": [],
   "source": [
    "assert(1664 + 60 == 1724)"
   ]
  },
  {
   "cell_type": "markdown",
   "id": "fd9f61e4",
   "metadata": {},
   "source": [
    "## Quality issues\n",
    "\n",
    "### twitter_archive_enhanced dataset\n",
    "1. Dataset contains information on retweets. We do not want retweets. We drop rows and columns containing retweets.\n",
    "   - Although we have nulls in the dataset, they are found in the retweet columns that we are going to drop anyways.\n",
    "2. The timestamp column have the wrong datatype.\n",
    "3. Redundant columns in the dataset. The necessary info in the source column has been extracted, making those columns redundant in this analysis.\n",
    "4. Rating denominator is always 10 in dog ratings, other values may have been wrongly entered.\n",
    "5. Outliers in the rating_numerator\n",
    "\n",
    "### image_predictions dataset\n",
    "6. image_prediction dataframe does not contain p4, p4_conf nor p4_dog\n",
    "7. Drop rows where the image is not a dog breed.\n",
    "8. Get the correct img_num and dog breed. \n",
    "9. Drop columns from image_predictions where predictions was not correct \n",
    "10. Drop duplicated tweets in the dataset.\n",
    "\n",
    "\n",
    "### twitter_data dataset twitter_data\n",
    "11. We only want tweets and not retweets, drop the retweet_count column\n",
    "\n",
    "## Tidyness issues\n",
    "\n",
    "### twitter_archive_enhanced dataset\n",
    "1. One variable in four columns - doggo, floofer, pupper and puppo and dog stages\n",
    "2. We should have just one table not three."
   ]
  },
  {
   "cell_type": "markdown",
   "id": "37200afd",
   "metadata": {},
   "source": [
    "### Issue #11: Drop retweets column"
   ]
  },
  {
   "cell_type": "markdown",
   "id": "2c6b4965",
   "metadata": {},
   "source": [
    "### Define\n",
    "\n",
    "We want actual tweets not retweets, hence we drop the retweets column. We will ensure that the final dataset is void of any retweet information when we finally merge it to the tweet_archive_clean dataframe usning the tweet id column as the join column"
   ]
  },
  {
   "cell_type": "code",
   "execution_count": 558,
   "id": "744a3a41",
   "metadata": {},
   "outputs": [
    {
     "data": {
      "text/html": [
       "<div>\n",
       "<style scoped>\n",
       "    .dataframe tbody tr th:only-of-type {\n",
       "        vertical-align: middle;\n",
       "    }\n",
       "\n",
       "    .dataframe tbody tr th {\n",
       "        vertical-align: top;\n",
       "    }\n",
       "\n",
       "    .dataframe thead th {\n",
       "        text-align: right;\n",
       "    }\n",
       "</style>\n",
       "<table border=\"1\" class=\"dataframe\">\n",
       "  <thead>\n",
       "    <tr style=\"text-align: right;\">\n",
       "      <th></th>\n",
       "      <th>tweet_id</th>\n",
       "      <th>text</th>\n",
       "      <th>favorite_count</th>\n",
       "      <th>retweet_count</th>\n",
       "    </tr>\n",
       "  </thead>\n",
       "  <tbody>\n",
       "    <tr>\n",
       "      <th>0</th>\n",
       "      <td>892420643555336193</td>\n",
       "      <td>This is Phineas. He's a mystical boy. Only eve...</td>\n",
       "      <td>33638</td>\n",
       "      <td>6961</td>\n",
       "    </tr>\n",
       "    <tr>\n",
       "      <th>1</th>\n",
       "      <td>892177421306343426</td>\n",
       "      <td>This is Tilly. She's just checking pup on you....</td>\n",
       "      <td>29180</td>\n",
       "      <td>5265</td>\n",
       "    </tr>\n",
       "    <tr>\n",
       "      <th>2</th>\n",
       "      <td>891815181378084864</td>\n",
       "      <td>This is Archie. He is a rare Norwegian Pouncin...</td>\n",
       "      <td>21949</td>\n",
       "      <td>3463</td>\n",
       "    </tr>\n",
       "    <tr>\n",
       "      <th>3</th>\n",
       "      <td>891689557279858688</td>\n",
       "      <td>This is Darla. She commenced a snooze mid meal...</td>\n",
       "      <td>36744</td>\n",
       "      <td>7183</td>\n",
       "    </tr>\n",
       "    <tr>\n",
       "      <th>4</th>\n",
       "      <td>891327558926688256</td>\n",
       "      <td>This is Franklin. He would like you to stop ca...</td>\n",
       "      <td>35103</td>\n",
       "      <td>7707</td>\n",
       "    </tr>\n",
       "  </tbody>\n",
       "</table>\n",
       "</div>"
      ],
      "text/plain": [
       "             tweet_id                                               text  \\\n",
       "0  892420643555336193  This is Phineas. He's a mystical boy. Only eve...   \n",
       "1  892177421306343426  This is Tilly. She's just checking pup on you....   \n",
       "2  891815181378084864  This is Archie. He is a rare Norwegian Pouncin...   \n",
       "3  891689557279858688  This is Darla. She commenced a snooze mid meal...   \n",
       "4  891327558926688256  This is Franklin. He would like you to stop ca...   \n",
       "\n",
       "   favorite_count  retweet_count  \n",
       "0           33638           6961  \n",
       "1           29180           5265  \n",
       "2           21949           3463  \n",
       "3           36744           7183  \n",
       "4           35103           7707  "
      ]
     },
     "execution_count": 558,
     "metadata": {},
     "output_type": "execute_result"
    }
   ],
   "source": [
    "twitter_data_clean.head()"
   ]
  },
  {
   "cell_type": "markdown",
   "id": "eeaa9cb9",
   "metadata": {},
   "source": [
    "### Code:`"
   ]
  },
  {
   "cell_type": "code",
   "execution_count": 561,
   "id": "78878b3e",
   "metadata": {},
   "outputs": [],
   "source": [
    "twitter_data_clean.drop('retweet_count', axis=1, inplace=True)"
   ]
  },
  {
   "cell_type": "markdown",
   "id": "82ce239e",
   "metadata": {},
   "source": [
    "### Test"
   ]
  },
  {
   "cell_type": "code",
   "execution_count": 562,
   "id": "2e9bc4fd",
   "metadata": {},
   "outputs": [
    {
     "name": "stdout",
     "output_type": "stream",
     "text": [
      "<class 'pandas.core.frame.DataFrame'>\n",
      "RangeIndex: 2326 entries, 0 to 2325\n",
      "Data columns (total 4 columns):\n",
      " #   Column          Non-Null Count  Dtype \n",
      "---  ------          --------------  ----- \n",
      " 0   tweet_id        2326 non-null   int64 \n",
      " 1   text            2326 non-null   object\n",
      " 2   favorite_count  2326 non-null   int64 \n",
      " 3   retweet_count   2326 non-null   int64 \n",
      "dtypes: int64(3), object(1)\n",
      "memory usage: 72.8+ KB\n"
     ]
    }
   ],
   "source": [
    "twitter_data.info()"
   ]
  },
  {
   "cell_type": "markdown",
   "id": "760cd60d",
   "metadata": {},
   "source": [
    "## Addressing Issues Relating to Tidyness"
   ]
  },
  {
   "cell_type": "markdown",
   "id": "b8982e80",
   "metadata": {},
   "source": [
    "### Issue #1: One Variable in four columns"
   ]
  },
  {
   "cell_type": "code",
   "execution_count": 563,
   "id": "80e26019",
   "metadata": {},
   "outputs": [
    {
     "data": {
      "text/html": [
       "<div>\n",
       "<style scoped>\n",
       "    .dataframe tbody tr th:only-of-type {\n",
       "        vertical-align: middle;\n",
       "    }\n",
       "\n",
       "    .dataframe tbody tr th {\n",
       "        vertical-align: top;\n",
       "    }\n",
       "\n",
       "    .dataframe thead th {\n",
       "        text-align: right;\n",
       "    }\n",
       "</style>\n",
       "<table border=\"1\" class=\"dataframe\">\n",
       "  <thead>\n",
       "    <tr style=\"text-align: right;\">\n",
       "      <th></th>\n",
       "      <th>tweet_id</th>\n",
       "      <th>timestamp</th>\n",
       "      <th>expanded_urls</th>\n",
       "      <th>text</th>\n",
       "      <th>rating_numerator</th>\n",
       "      <th>rating_denominator</th>\n",
       "      <th>name</th>\n",
       "      <th>doggo</th>\n",
       "      <th>floofer</th>\n",
       "      <th>pupper</th>\n",
       "      <th>puppo</th>\n",
       "    </tr>\n",
       "  </thead>\n",
       "  <tbody>\n",
       "    <tr>\n",
       "      <th>0</th>\n",
       "      <td>892420643555336193</td>\n",
       "      <td>2017-08-01 16:23:56+00:00</td>\n",
       "      <td>https://twitter.com/dog_rates/status/892420643...</td>\n",
       "      <td>This is Phineas. He's a mystical boy. Only eve...</td>\n",
       "      <td>13.0</td>\n",
       "      <td>10</td>\n",
       "      <td>Phineas</td>\n",
       "      <td>None</td>\n",
       "      <td>None</td>\n",
       "      <td>None</td>\n",
       "      <td>None</td>\n",
       "    </tr>\n",
       "    <tr>\n",
       "      <th>1</th>\n",
       "      <td>892177421306343426</td>\n",
       "      <td>2017-08-01 00:17:27+00:00</td>\n",
       "      <td>https://twitter.com/dog_rates/status/892177421...</td>\n",
       "      <td>This is Tilly. She's just checking pup on you....</td>\n",
       "      <td>13.0</td>\n",
       "      <td>10</td>\n",
       "      <td>Tilly</td>\n",
       "      <td>None</td>\n",
       "      <td>None</td>\n",
       "      <td>None</td>\n",
       "      <td>None</td>\n",
       "    </tr>\n",
       "  </tbody>\n",
       "</table>\n",
       "</div>"
      ],
      "text/plain": [
       "             tweet_id                 timestamp  \\\n",
       "0  892420643555336193 2017-08-01 16:23:56+00:00   \n",
       "1  892177421306343426 2017-08-01 00:17:27+00:00   \n",
       "\n",
       "                                       expanded_urls  \\\n",
       "0  https://twitter.com/dog_rates/status/892420643...   \n",
       "1  https://twitter.com/dog_rates/status/892177421...   \n",
       "\n",
       "                                                text  rating_numerator  \\\n",
       "0  This is Phineas. He's a mystical boy. Only eve...              13.0   \n",
       "1  This is Tilly. She's just checking pup on you....              13.0   \n",
       "\n",
       "   rating_denominator     name doggo floofer pupper puppo  \n",
       "0                  10  Phineas  None    None   None  None  \n",
       "1                  10    Tilly  None    None   None  None  "
      ]
     },
     "execution_count": 563,
     "metadata": {},
     "output_type": "execute_result"
    }
   ],
   "source": [
    "twitter_archive_clean.head(2)"
   ]
  },
  {
   "cell_type": "markdown",
   "id": "cb5ed3fe",
   "metadata": {},
   "source": [
    "### Define:\n",
    "\n",
    "The variables doggo, floofer, puppo and pupper all refer to the various dog stage. According to the specification of Tidy Data, these are supposed to be rows not columns.\n",
    "\n",
    "We will melt the doggo, floofer, pupper and puppo columns into one column named dog_stage"
   ]
  },
  {
   "cell_type": "code",
   "execution_count": 564,
   "id": "17f80d31",
   "metadata": {},
   "outputs": [
    {
     "data": {
      "text/plain": [
       "Index(['tweet_id', 'timestamp', 'expanded_urls', 'text', 'rating_numerator',\n",
       "       'rating_denominator', 'name', 'doggo', 'floofer', 'pupper', 'puppo'],\n",
       "      dtype='object')"
      ]
     },
     "execution_count": 564,
     "metadata": {},
     "output_type": "execute_result"
    }
   ],
   "source": [
    "twitter_archive_clean.columns"
   ]
  },
  {
   "cell_type": "markdown",
   "id": "2799fd83",
   "metadata": {},
   "source": [
    "### Code:"
   ]
  },
  {
   "cell_type": "code",
   "execution_count": 565,
   "id": "2c3f6951",
   "metadata": {},
   "outputs": [],
   "source": [
    "twitter_archive_clean = pd.melt(twitter_archive_clean, id_vars=\n",
    "                                ['tweet_id', 'timestamp', 'text', 'expanded_urls', 'rating_numerator',\n",
    "                               'rating_denominator', 'name'], var_name='dog_stage', value_name='dog_stage_name')\n",
    "twitter_archive_clean = twitter_archive_clean.drop_duplicates(subset=['tweet_id', 'name'], keep='first')"
   ]
  },
  {
   "cell_type": "markdown",
   "id": "e667243f",
   "metadata": {},
   "source": [
    "### Test"
   ]
  },
  {
   "cell_type": "code",
   "execution_count": 566,
   "id": "7f58ad7c",
   "metadata": {},
   "outputs": [
    {
     "name": "stdout",
     "output_type": "stream",
     "text": [
      "<class 'pandas.core.frame.DataFrame'>\n",
      "Int64Index: 2094 entries, 0 to 2093\n",
      "Data columns (total 9 columns):\n",
      " #   Column              Non-Null Count  Dtype              \n",
      "---  ------              --------------  -----              \n",
      " 0   tweet_id            2094 non-null   int64              \n",
      " 1   timestamp           2094 non-null   datetime64[ns, UTC]\n",
      " 2   text                2094 non-null   object             \n",
      " 3   expanded_urls       2094 non-null   object             \n",
      " 4   rating_numerator    2094 non-null   float64            \n",
      " 5   rating_denominator  2094 non-null   int64              \n",
      " 6   name                2094 non-null   object             \n",
      " 7   dog_stage           2094 non-null   object             \n",
      " 8   dog_stage_name      2094 non-null   object             \n",
      "dtypes: datetime64[ns, UTC](1), float64(1), int64(2), object(5)\n",
      "memory usage: 163.6+ KB\n"
     ]
    }
   ],
   "source": [
    "twitter_archive_clean.info()"
   ]
  },
  {
   "cell_type": "markdown",
   "id": "b04a5e41",
   "metadata": {},
   "source": [
    "### Issue #2: All three datasets should be in a single table"
   ]
  },
  {
   "cell_type": "markdown",
   "id": "743dbdaf",
   "metadata": {},
   "source": [
    "### Define:\n",
    "\n",
    "All three datasets logically represent the same information about dogs, they should all be in one single dataframe not multiple."
   ]
  },
  {
   "cell_type": "markdown",
   "id": "01d1becc",
   "metadata": {},
   "source": [
    "### Code"
   ]
  },
  {
   "cell_type": "code",
   "execution_count": 567,
   "id": "742c3c8d",
   "metadata": {},
   "outputs": [],
   "source": [
    "# Forgot to add clean to the copied twitter_data above, do so now since there were no cleaning carried out on it.\n",
    "\n",
    "twitter_data_clean = twitter_data.copy()\n",
    "twitter_archive_master = pd.merge(twitter_archive_clean, pd.merge(image_predictions_clean, twitter_data_clean))"
   ]
  },
  {
   "cell_type": "markdown",
   "id": "b0c5877a",
   "metadata": {},
   "source": [
    "### Test"
   ]
  },
  {
   "cell_type": "code",
   "execution_count": 568,
   "id": "e1ed8cbf",
   "metadata": {},
   "outputs": [
    {
     "data": {
      "text/plain": [
       "(1630, 14)"
      ]
     },
     "execution_count": 568,
     "metadata": {},
     "output_type": "execute_result"
    }
   ],
   "source": [
    "twitter_archive_master.shape"
   ]
  },
  {
   "cell_type": "code",
   "execution_count": 569,
   "id": "b0677b1d",
   "metadata": {},
   "outputs": [
    {
     "data": {
      "text/plain": [
       "0"
      ]
     },
     "execution_count": 569,
     "metadata": {},
     "output_type": "execute_result"
    }
   ],
   "source": [
    "twitter_archive_master.duplicated().sum()"
   ]
  },
  {
   "cell_type": "code",
   "execution_count": 570,
   "id": "1ce38ba6",
   "metadata": {},
   "outputs": [
    {
     "data": {
      "text/html": [
       "<div>\n",
       "<style scoped>\n",
       "    .dataframe tbody tr th:only-of-type {\n",
       "        vertical-align: middle;\n",
       "    }\n",
       "\n",
       "    .dataframe tbody tr th {\n",
       "        vertical-align: top;\n",
       "    }\n",
       "\n",
       "    .dataframe thead th {\n",
       "        text-align: right;\n",
       "    }\n",
       "</style>\n",
       "<table border=\"1\" class=\"dataframe\">\n",
       "  <thead>\n",
       "    <tr style=\"text-align: right;\">\n",
       "      <th></th>\n",
       "      <th>tweet_id</th>\n",
       "      <th>timestamp</th>\n",
       "      <th>text</th>\n",
       "      <th>expanded_urls</th>\n",
       "      <th>rating_numerator</th>\n",
       "      <th>rating_denominator</th>\n",
       "      <th>name</th>\n",
       "      <th>dog_stage</th>\n",
       "      <th>dog_stage_name</th>\n",
       "      <th>img_id</th>\n",
       "      <th>dog_breed</th>\n",
       "      <th>confidence</th>\n",
       "      <th>favorite_count</th>\n",
       "      <th>retweet_count</th>\n",
       "    </tr>\n",
       "  </thead>\n",
       "  <tbody>\n",
       "    <tr>\n",
       "      <th>0</th>\n",
       "      <td>892177421306343426</td>\n",
       "      <td>2017-08-01 00:17:27+00:00</td>\n",
       "      <td>This is Tilly. She's just checking pup on you....</td>\n",
       "      <td>https://twitter.com/dog_rates/status/892177421...</td>\n",
       "      <td>13.0</td>\n",
       "      <td>10</td>\n",
       "      <td>Tilly</td>\n",
       "      <td>doggo</td>\n",
       "      <td>None</td>\n",
       "      <td>1</td>\n",
       "      <td>Chihuahua</td>\n",
       "      <td>0.323581</td>\n",
       "      <td>29180</td>\n",
       "      <td>5265</td>\n",
       "    </tr>\n",
       "    <tr>\n",
       "      <th>1</th>\n",
       "      <td>891815181378084864</td>\n",
       "      <td>2017-07-31 00:18:03+00:00</td>\n",
       "      <td>This is Archie. He is a rare Norwegian Pouncin...</td>\n",
       "      <td>https://twitter.com/dog_rates/status/891815181...</td>\n",
       "      <td>12.0</td>\n",
       "      <td>10</td>\n",
       "      <td>Archie</td>\n",
       "      <td>doggo</td>\n",
       "      <td>None</td>\n",
       "      <td>1</td>\n",
       "      <td>Chihuahua</td>\n",
       "      <td>0.716012</td>\n",
       "      <td>21949</td>\n",
       "      <td>3463</td>\n",
       "    </tr>\n",
       "    <tr>\n",
       "      <th>2</th>\n",
       "      <td>891689557279858688</td>\n",
       "      <td>2017-07-30 15:58:51+00:00</td>\n",
       "      <td>This is Darla. She commenced a snooze mid meal...</td>\n",
       "      <td>https://twitter.com/dog_rates/status/891689557...</td>\n",
       "      <td>13.0</td>\n",
       "      <td>10</td>\n",
       "      <td>Darla</td>\n",
       "      <td>doggo</td>\n",
       "      <td>None</td>\n",
       "      <td>2</td>\n",
       "      <td>Labrador_retriever</td>\n",
       "      <td>0.168086</td>\n",
       "      <td>36744</td>\n",
       "      <td>7183</td>\n",
       "    </tr>\n",
       "    <tr>\n",
       "      <th>3</th>\n",
       "      <td>891327558926688256</td>\n",
       "      <td>2017-07-29 16:00:24+00:00</td>\n",
       "      <td>This is Franklin. He would like you to stop ca...</td>\n",
       "      <td>https://twitter.com/dog_rates/status/891327558...</td>\n",
       "      <td>12.0</td>\n",
       "      <td>10</td>\n",
       "      <td>Franklin</td>\n",
       "      <td>doggo</td>\n",
       "      <td>None</td>\n",
       "      <td>1</td>\n",
       "      <td>basset</td>\n",
       "      <td>0.555712</td>\n",
       "      <td>35103</td>\n",
       "      <td>7707</td>\n",
       "    </tr>\n",
       "    <tr>\n",
       "      <th>4</th>\n",
       "      <td>891087950875897856</td>\n",
       "      <td>2017-07-29 00:08:17+00:00</td>\n",
       "      <td>Here we have a majestic great white breaching ...</td>\n",
       "      <td>https://twitter.com/dog_rates/status/891087950...</td>\n",
       "      <td>13.0</td>\n",
       "      <td>10</td>\n",
       "      <td>None</td>\n",
       "      <td>doggo</td>\n",
       "      <td>None</td>\n",
       "      <td>1</td>\n",
       "      <td>Chesapeake_Bay_retriever</td>\n",
       "      <td>0.425595</td>\n",
       "      <td>17724</td>\n",
       "      <td>2583</td>\n",
       "    </tr>\n",
       "  </tbody>\n",
       "</table>\n",
       "</div>"
      ],
      "text/plain": [
       "             tweet_id                 timestamp  \\\n",
       "0  892177421306343426 2017-08-01 00:17:27+00:00   \n",
       "1  891815181378084864 2017-07-31 00:18:03+00:00   \n",
       "2  891689557279858688 2017-07-30 15:58:51+00:00   \n",
       "3  891327558926688256 2017-07-29 16:00:24+00:00   \n",
       "4  891087950875897856 2017-07-29 00:08:17+00:00   \n",
       "\n",
       "                                                text  \\\n",
       "0  This is Tilly. She's just checking pup on you....   \n",
       "1  This is Archie. He is a rare Norwegian Pouncin...   \n",
       "2  This is Darla. She commenced a snooze mid meal...   \n",
       "3  This is Franklin. He would like you to stop ca...   \n",
       "4  Here we have a majestic great white breaching ...   \n",
       "\n",
       "                                       expanded_urls  rating_numerator  \\\n",
       "0  https://twitter.com/dog_rates/status/892177421...              13.0   \n",
       "1  https://twitter.com/dog_rates/status/891815181...              12.0   \n",
       "2  https://twitter.com/dog_rates/status/891689557...              13.0   \n",
       "3  https://twitter.com/dog_rates/status/891327558...              12.0   \n",
       "4  https://twitter.com/dog_rates/status/891087950...              13.0   \n",
       "\n",
       "   rating_denominator      name dog_stage dog_stage_name  img_id  \\\n",
       "0                  10     Tilly     doggo           None       1   \n",
       "1                  10    Archie     doggo           None       1   \n",
       "2                  10     Darla     doggo           None       2   \n",
       "3                  10  Franklin     doggo           None       1   \n",
       "4                  10      None     doggo           None       1   \n",
       "\n",
       "                  dog_breed  confidence  favorite_count  retweet_count  \n",
       "0                 Chihuahua    0.323581           29180           5265  \n",
       "1                 Chihuahua    0.716012           21949           3463  \n",
       "2        Labrador_retriever    0.168086           36744           7183  \n",
       "3                    basset    0.555712           35103           7707  \n",
       "4  Chesapeake_Bay_retriever    0.425595           17724           2583  "
      ]
     },
     "execution_count": 570,
     "metadata": {},
     "output_type": "execute_result"
    }
   ],
   "source": [
    "twitter_archive_master.head()"
   ]
  },
  {
   "cell_type": "markdown",
   "id": "9739d736",
   "metadata": {},
   "source": [
    "<a id=\"storing_data\"></a>\n",
    "\n",
    "# Saving the Master Dataset"
   ]
  },
  {
   "cell_type": "code",
   "execution_count": 571,
   "id": "55983880",
   "metadata": {},
   "outputs": [],
   "source": [
    "twitter_archive_master.to_csv('twitter_archive_master.csv', index=False)"
   ]
  },
  {
   "cell_type": "markdown",
   "id": "4b826d01",
   "metadata": {},
   "source": [
    "<a id=\"analysis_and_visualization\"></a>\n",
    "\n",
    "# Analysis and Visualization"
   ]
  },
  {
   "cell_type": "code",
   "execution_count": 572,
   "id": "65e1cc2e",
   "metadata": {},
   "outputs": [
    {
     "data": {
      "text/plain": [
       "golden_retriever                  153\n",
       "Labrador_retriever                102\n",
       "Pembroke                           91\n",
       "Chihuahua                          87\n",
       "pug                                61\n",
       "toy_poodle                         47\n",
       "chow                               47\n",
       "Pomeranian                         40\n",
       "Samoyed                            40\n",
       "malamute                           32\n",
       "cocker_spaniel                     30\n",
       "French_bulldog                     30\n",
       "Chesapeake_Bay_retriever           30\n",
       "miniature_pinscher                 23\n",
       "Eskimo_dog                         22\n",
       "German_shepherd                    21\n",
       "Cardigan                           21\n",
       "Siberian_husky                     20\n",
       "Shih-Tzu                           20\n",
       "beagle                             20\n",
       "Staffordshire_bullterrier          19\n",
       "Maltese_dog                        19\n",
       "Rottweiler                         18\n",
       "Shetland_sheepdog                  18\n",
       "basset                             17\n",
       "Italian_greyhound                  17\n",
       "Lakeland_terrier                   17\n",
       "West_Highland_white_terrier        16\n",
       "kuvasz                             16\n",
       "American_Staffordshire_terrier     15\n",
       "Great_Pyrenees                     14\n",
       "soft-coated_wheaten_terrier        14\n",
       "Pekinese                           14\n",
       "vizsla                             13\n",
       "kelpie                             13\n",
       "Old_English_sheepdog               13\n",
       "dalmatian                          12\n",
       "schipperke                         12\n",
       "Airedale                           12\n",
       "Border_collie                      12\n",
       "Boston_bull                        12\n",
       "whippet                            11\n",
       "standard_poodle                    11\n",
       "boxer                              11\n",
       "Bernese_mountain_dog               11\n",
       "collie                             11\n",
       "malinois                           11\n",
       "Blenheim_spaniel                   10\n",
       "Great_Dane                         10\n",
       "Yorkshire_terrier                  10\n",
       "borzoi                             10\n",
       "English_springer                   10\n",
       "Norwegian_elkhound                 10\n",
       "basenji                             9\n",
       "Doberman                            9\n",
       "English_setter                      8\n",
       "miniature_poodle                    8\n",
       "Brittany_spaniel                    8\n",
       "flat-coated_retriever               8\n",
       "German_short-haired_pointer         8\n",
       "Newfoundland                        7\n",
       "papillon                            7\n",
       "Mexican_hairless                    7\n",
       "Border_terrier                      7\n",
       "Saint_Bernard                       7\n",
       "Dandie_Dinmont                      7\n",
       "Bedlington_terrier                  6\n",
       "Norfolk_terrier                     6\n",
       "Irish_terrier                       6\n",
       "redbone                             6\n",
       "bloodhound                          6\n",
       "Norwich_terrier                     5\n",
       "bull_mastiff                        5\n",
       "Walker_hound                        5\n",
       "Lhasa                               5\n",
       "miniature_schnauzer                 5\n",
       "Tibetan_mastiff                     4\n",
       "Scottish_deerhound                  4\n",
       "Weimaraner                          4\n",
       "Saluki                              4\n",
       "Gordon_setter                       4\n",
       "keeshond                            4\n",
       "Welsh_springer_spaniel              4\n",
       "Irish_setter                        4\n",
       "Ibizan_hound                        4\n",
       "bluetick                            4\n",
       "Tibetan_terrier                     4\n",
       "Rhodesian_ridgeback                 4\n",
       "Brabancon_griffon                   3\n",
       "Leonberg                            3\n",
       "toy_terrier                         3\n",
       "Greater_Swiss_Mountain_dog          3\n",
       "curly-coated_retriever              3\n",
       "cairn                               3\n",
       "komondor                            3\n",
       "Afghan_hound                        3\n",
       "Irish_water_spaniel                 3\n",
       "giant_schnauzer                     3\n",
       "groenendael                         2\n",
       "briard                              2\n",
       "wire-haired_fox_terrier             2\n",
       "Sussex_spaniel                      2\n",
       "Australian_terrier                  2\n",
       "Appenzeller                         2\n",
       "clumber                             1\n",
       "Irish_wolfhound                     1\n",
       "Japanese_spaniel                    1\n",
       "standard_schnauzer                  1\n",
       "Bouvier_des_Flandres                1\n",
       "EntleBucher                         1\n",
       "Scotch_terrier                      1\n",
       "silky_terrier                       1\n",
       "black-and-tan_coonhound             1\n",
       "Name: dog_breed, dtype: int64"
      ]
     },
     "execution_count": 572,
     "metadata": {},
     "output_type": "execute_result"
    }
   ],
   "source": [
    "pd.set_option(\"display.max_rows\", None)\n",
    "twitter_archive_master['dog_breed'].value_counts()"
   ]
  },
  {
   "cell_type": "code",
   "execution_count": 573,
   "id": "d1a3f832",
   "metadata": {},
   "outputs": [
    {
     "data": {
      "text/plain": [
       "113"
      ]
     },
     "execution_count": 573,
     "metadata": {},
     "output_type": "execute_result"
    }
   ],
   "source": [
    "len(twitter_archive_master.dog_breed.value_counts())"
   ]
  },
  {
   "cell_type": "markdown",
   "id": "818bb9f2",
   "metadata": {},
   "source": [
    "Waoh, that's a handfull. We have 113 breeds of dogs. Let's work with a subset of that. We take dog breeds that have 49 above. That leaves us with 7 dog breeds.\n",
    "\n",
    "Next, we will create a new dataframe containing only dog breeds in this category"
   ]
  },
  {
   "cell_type": "code",
   "execution_count": 574,
   "id": "b3f0df12",
   "metadata": {},
   "outputs": [
    {
     "data": {
      "text/plain": [
       "['golden_retriever',\n",
       " 'Labrador_retriever',\n",
       " 'Pembroke',\n",
       " 'Chihuahua',\n",
       " 'pug',\n",
       " 'toy_poodle',\n",
       " 'chow']"
      ]
     },
     "execution_count": 574,
     "metadata": {},
     "output_type": "execute_result"
    }
   ],
   "source": [
    "breeds = list(twitter_archive_master['dog_breed'].value_counts().index[:7])\n",
    "breeds"
   ]
  },
  {
   "cell_type": "code",
   "execution_count": 575,
   "id": "6bee708e",
   "metadata": {},
   "outputs": [],
   "source": [
    "# Get only rows from master_dataset where the dog_breed is in the top 7\n",
    "twitter_archive_master = twitter_archive_master.loc[twitter_archive_master['dog_breed'].isin(breeds)]"
   ]
  },
  {
   "cell_type": "code",
   "execution_count": 576,
   "id": "e91f2b79",
   "metadata": {},
   "outputs": [
    {
     "data": {
      "text/plain": [
       "golden_retriever      153\n",
       "Labrador_retriever    102\n",
       "Pembroke               91\n",
       "Chihuahua              87\n",
       "pug                    61\n",
       "chow                   47\n",
       "toy_poodle             47\n",
       "Name: dog_breed, dtype: int64"
      ]
     },
     "execution_count": 576,
     "metadata": {},
     "output_type": "execute_result"
    }
   ],
   "source": [
    "twitter_archive_master.dog_breed.value_counts()"
   ]
  },
  {
   "cell_type": "markdown",
   "id": "c1ceb48f",
   "metadata": {},
   "source": [
    "# Visualizations\n",
    "\n",
    "## Distribution of Dog Rating Score for The Dog Breeds\n",
    "\n",
    "We plot a histogram to show the distribution of the ratings (rating_denominator) for the dog breeds."
   ]
  },
  {
   "cell_type": "code",
   "execution_count": 577,
   "id": "144df54a",
   "metadata": {},
   "outputs": [
    {
     "data": {
      "image/png": "[encoded data removed]",
      "text/plain": [
       "<Figure size 640x480 with 1 Axes>"
      ]
     },
     "metadata": {},
     "output_type": "display_data"
    }
   ],
   "source": [
    "sns.set_style('darkgrid')\n",
    "\n",
    "twitter_archive_master['rating_numerator'].hist();\n",
    "plt.title('Distribution of the Dog ratings')\n",
    "plt.xlabel('Ratings')\n",
    "plt.ylabel('Count')\n",
    "plt.show()"
   ]
  },
  {
   "cell_type": "markdown",
   "id": "7bfe7994",
   "metadata": {},
   "source": [
    "Of course as expected, the distribution is skewed to the left. Because \"they are good dogs Brent\", we expect them all to score very highly in the ratings."
   ]
  },
  {
   "cell_type": "markdown",
   "id": "1e61ebd5",
   "metadata": {},
   "source": [
    "# Plot Bar Chart to Show Counts of the Top 7 Dog Breeds"
   ]
  },
  {
   "cell_type": "code",
   "execution_count": 578,
   "id": "a3e7e4c8",
   "metadata": {},
   "outputs": [
    {
     "data": {
      "image/png": "[encoded data removed]",
      "text/plain": [
       "<Figure size 640x480 with 1 Axes>"
      ]
     },
     "metadata": {},
     "output_type": "display_data"
    }
   ],
   "source": [
    "twitter_archive_master.dog_breed.value_counts().plot(kind='bar');\n",
    "plt.title('Chart Showing Top 7 Dog Breeds', fontsize=18, pad=5)\n",
    "plt.xlabel('Dog Breeds', fontsize=18)\n",
    "plt.ylabel('Counts', fontsize=18)\n",
    "plt.show()"
   ]
  },
  {
   "cell_type": "markdown",
   "id": "f2424048",
   "metadata": {},
   "source": [
    "It's obvious that the retriever family of dog breeds happen to be the top dogs in the billboard, with the Golden Retriever and Labrador retriever appearing 278 times, accounting for over 16% (278/1709) of the entire 113 dog breeds and about 45% (278/623) of the top 7 dog breeds that made it to the ratings board."
   ]
  },
  {
   "cell_type": "markdown",
   "id": "e6cc5854",
   "metadata": {},
   "source": [
    "## Plot Pie Chart to Show Counts of the Top 7 Dog Breeds\n",
    "\n",
    "We plot the same data as above, however, using a Pie Chart. This allows us to visualize the result from another perspective"
   ]
  },
  {
   "cell_type": "code",
   "execution_count": 579,
   "id": "87162329",
   "metadata": {},
   "outputs": [
    {
     "data": {
      "image/png": "[encoded data removed]",
      "text/plain": [
       "<Figure size 640x480 with 1 Axes>"
      ]
     },
     "metadata": {},
     "output_type": "display_data"
    }
   ],
   "source": [
    "twitter_archive_master.dog_breed.value_counts().plot(kind='pie');\n",
    "plt.title('Pie Chart Showing Top Seven Dog breeds');"
   ]
  },
  {
   "cell_type": "markdown",
   "id": "52eac490",
   "metadata": {},
   "source": [
    "# Analysis\n",
    "\n",
    "## Mean Likes for all Dog Breeds"
   ]
  },
  {
   "cell_type": "code",
   "execution_count": 580,
   "id": "dab4569a",
   "metadata": {},
   "outputs": [
    {
     "data": {
      "text/plain": [
       "dog_breed\n",
       "Chihuahua              7213.839080\n",
       "Labrador_retriever     9917.647059\n",
       "Pembroke               9594.131868\n",
       "chow                   8040.595745\n",
       "golden_retriever      10670.111111\n",
       "pug                    5138.918033\n",
       "toy_poodle             5528.808511\n",
       "Name: favorite_count, dtype: float64"
      ]
     },
     "execution_count": 580,
     "metadata": {},
     "output_type": "execute_result"
    }
   ],
   "source": [
    "#Let's plot the mean favorite count on a chart\n",
    "twitter_archive_master.groupby('dog_breed')['favorite_count'].mean()"
   ]
  },
  {
   "cell_type": "markdown",
   "id": "49b1f3ac",
   "metadata": {},
   "source": [
    "## Visualizing Analyzing the Mean Likes for all Dog Breeds"
   ]
  },
  {
   "cell_type": "code",
   "execution_count": 581,
   "id": "4f097b97",
   "metadata": {},
   "outputs": [
    {
     "data": {
      "image/png": "[encoded data removed]",
      "text/plain": [
       "<Figure size 640x480 with 1 Axes>"
      ]
     },
     "metadata": {},
     "output_type": "display_data"
    }
   ],
   "source": [
    "#Let's plot the mean favorite count on a chart\n",
    "mean_favorite_count = twitter_archive_master.groupby('dog_breed')['favorite_count'].mean()\n",
    "mean_favorite_count.plot(kind='barh', title='Mean Favorite Count/Likes For Top 7 Dog Breeds', alpha=.2)\n",
    "plt.xlabel('Dog Breeds')\n",
    "plt.ylabel('Favorite_count/Likes')\n",
    "plt.show();"
   ]
  },
  {
   "cell_type": "markdown",
   "id": "db323c9c",
   "metadata": {},
   "source": [
    "Tweets containing images of the Golden retriever and the Labrador Retriever tends to have the highest likes"
   ]
  },
  {
   "cell_type": "markdown",
   "id": "2b1e6ee0",
   "metadata": {},
   "source": [
    "It is obvious as we saw above that tweets containing the Retriever family of dogs have the highest likes and retweets."
   ]
  },
  {
   "cell_type": "markdown",
   "id": "e7fe857f",
   "metadata": {},
   "source": [
    "The bars seem to be telling the same stories. The Golden Retriever and Labrador Retriever have the highest likes and retweets. They seem to be the people's favorite in the United States.\n",
    "\n",
    "Let's see if this is actually true.\n",
    "\n",
    "Well, it is true. A visit to [this website](https://worlddogfinder.com/blog/dog-breeds/most-popular-dog-breeds) confirms that trend.\n",
    "\n",
    "It turns out that the list above was complied in 2022. Maybe we should check out a website that has listing earlier than 2022, say 2021.\n",
    "\n",
    "Well, the story is the same. [check this out also](https://www.mentalfloss.com/article/643867/most-popular-dog-breeds-america)\n",
    "\n",
    "We can safely infer that the the Retriever family of dog breeds are most loved in the United States."
   ]
  },
  {
   "cell_type": "code",
   "execution_count": 582,
   "id": "971c4403",
   "metadata": {},
   "outputs": [
    {
     "data": {
      "image/png": "[encoded data removed]",
      "text/plain": [
       "<Figure size 640x480 with 1 Axes>"
      ]
     },
     "metadata": {},
     "output_type": "display_data"
    }
   ],
   "source": [
    "twitter_archive_master.groupby('dog_stage')['favorite_count'].mean().plot(kind='bar', title='Chart Showing Dog Stage and the Number of Retweets', alpha=0.1);\n",
    "plt.xlabel('Dog Stage')\n",
    "plt.ylabel('Count')\n",
    "plt.show()"
   ]
  },
  {
   "cell_type": "markdown",
   "id": "754ecf15",
   "metadata": {},
   "source": [
    "Well, there seems to be only doggos in out top 7 dog breeds and the entire dataset of over 1700 dog breeds. This is to be taken with a pinch of salt. It is realy unlikely. We may need to investigate this further."
   ]
  },
  {
   "cell_type": "code",
   "execution_count": null,
   "id": "45b8fcb2",
   "metadata": {},
   "outputs": [],
   "source": [
    "twitter_archive_master.dog_stage.value_counts()"
   ]
  },
  {
   "cell_type": "markdown",
   "id": "584ced10",
   "metadata": {},
   "source": [
    "## Analyzing the Rating Score for Dog Breeds"
   ]
  },
  {
   "cell_type": "code",
   "execution_count": null,
   "id": "c9183b11",
   "metadata": {},
   "outputs": [],
   "source": [
    "twitter_archive_master.groupby(['dog_breed'])['rating_numerator'].mean()"
   ]
  },
  {
   "cell_type": "code",
   "execution_count": 583,
   "id": "414b1007",
   "metadata": {},
   "outputs": [
    {
     "data": {
      "image/png": "[encoded data removed]",
      "text/plain": [
       "<Figure size 640x480 with 1 Axes>"
      ]
     },
     "metadata": {},
     "output_type": "display_data"
    }
   ],
   "source": [
    "mean_score_rating = twitter_archive_master.groupby(['dog_breed'])['rating_numerator'].mean()\n",
    "mean_score_rating.plot(kind='bar', title='Mean Rating Score For Top 7 Dog Breeds', alpha=.2)\n",
    "plt.xlabel('Dog Breeds')\n",
    "plt.ylabel('Mean rating Score')\n",
    "plt.show();"
   ]
  },
  {
   "cell_type": "markdown",
   "id": "64bf1bfe",
   "metadata": {},
   "source": [
    "Alas, the story is the same - The Retrievers scored the highest marks in the ratings"
   ]
  },
  {
   "cell_type": "markdown",
   "id": "86bc1bf2",
   "metadata": {},
   "source": [
    "### THANK YOU"
   ]
  }
 ],
 "metadata": {
  "kernelspec": {
   "display_name": "Python 3 (ipykernel)",
   "language": "python",
   "name": "python3"
  },
  "language_info": {
   "codemirror_mode": {
    "name": "ipython",
    "version": 3
   },
   "file_extension": ".py",
   "mimetype": "text/x-python",
   "name": "python",
   "nbconvert_exporter": "python",
   "pygments_lexer": "ipython3",
   "version": "3.9.12"
  }
 },
 "nbformat": 4,
 "nbformat_minor": 5
}
